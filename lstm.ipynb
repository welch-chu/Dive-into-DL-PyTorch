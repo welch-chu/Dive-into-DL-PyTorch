{
  "nbformat": 4,
  "nbformat_minor": 0,
  "metadata": {
    "colab": {
      "name": "lstm.ipynb",
      "provenance": [],
      "collapsed_sections": [],
      "include_colab_link": true
    },
    "kernelspec": {
      "display_name": "Python 3",
      "name": "python3"
    },
    "accelerator": "GPU"
  },
  "cells": [
    {
      "cell_type": "markdown",
      "metadata": {
        "id": "view-in-github",
        "colab_type": "text"
      },
      "source": [
        "<a href=\"https://colab.research.google.com/github/welch-chu/Dive-into-DL-PyTorch/blob/master/lstm.ipynb\" target=\"_parent\"><img src=\"https://colab.research.google.com/assets/colab-badge.svg\" alt=\"Open In Colab\"/></a>"
      ]
    },
    {
      "cell_type": "code",
      "metadata": {
        "colab": {
          "base_uri": "https://localhost:8080/"
        },
        "id": "w6wGFOL9YjJn",
        "outputId": "ee9f45e1-52e0-4ceb-c36e-5c5fab5a1baf"
      },
      "source": [
        "import torch\n",
        "torch.cuda.is_available()"
      ],
      "execution_count": null,
      "outputs": [
        {
          "output_type": "execute_result",
          "data": {
            "text/plain": [
              "True"
            ]
          },
          "metadata": {
            "tags": []
          },
          "execution_count": 1
        }
      ]
    },
    {
      "cell_type": "code",
      "metadata": {
        "colab": {
          "base_uri": "https://localhost:8080/",
          "height": 34
        },
        "id": "iJ-qnH41AXws",
        "outputId": "b04c566e-84da-48fd-8dd4-30b49aca703d"
      },
      "source": [
        "#@markdown <h3>← 输入了代码后运行以防止断开</h>\n",
        "\n",
        "\n",
        "import IPython\n",
        "from google.colab import output\n",
        "\n",
        "display(IPython.display.Javascript('''\n",
        " function ClickConnect(){\n",
        "   btn = document.querySelector(\"colab-connect-button\")\n",
        "   if (btn != null){\n",
        "     console.log(\"Click colab-connect-button\"); \n",
        "     btn.click() \n",
        "     }\n",
        "   \n",
        "   btn = document.getElementById('ok')\n",
        "   if (btn != null){\n",
        "     console.log(\"Click reconnect\"); \n",
        "     btn.click() \n",
        "     }\n",
        "  }\n",
        "  \n",
        "setInterval(ClickConnect,60000)\n",
        "'''))\n",
        "\n",
        "print(\"Done.\")"
      ],
      "execution_count": null,
      "outputs": [
        {
          "output_type": "display_data",
          "data": {
            "application/javascript": [
              "\n",
              " function ClickConnect(){\n",
              "   btn = document.querySelector(\"colab-connect-button\")\n",
              "   if (btn != null){\n",
              "     console.log(\"Click colab-connect-button\"); \n",
              "     btn.click() \n",
              "     }\n",
              "   \n",
              "   btn = document.getElementById('ok')\n",
              "   if (btn != null){\n",
              "     console.log(\"Click reconnect\"); \n",
              "     btn.click() \n",
              "     }\n",
              "  }\n",
              "  \n",
              "setInterval(ClickConnect,60000)\n"
            ],
            "text/plain": [
              "<IPython.core.display.Javascript object>"
            ]
          },
          "metadata": {
            "tags": []
          }
        },
        {
          "output_type": "stream",
          "text": [
            "Done.\n"
          ],
          "name": "stdout"
        }
      ]
    },
    {
      "cell_type": "code",
      "metadata": {
        "colab": {
          "base_uri": "https://localhost:8080/"
        },
        "id": "UbkRAJ7NYuTg",
        "outputId": "11530743-de35-47f0-d0c9-40d5941a6ef9"
      },
      "source": [
        "!nvidia-smi"
      ],
      "execution_count": null,
      "outputs": [
        {
          "output_type": "stream",
          "text": [
            "Wed Apr  7 04:36:49 2021       \n",
            "+-----------------------------------------------------------------------------+\n",
            "| NVIDIA-SMI 460.67       Driver Version: 460.32.03    CUDA Version: 11.2     |\n",
            "|-------------------------------+----------------------+----------------------+\n",
            "| GPU  Name        Persistence-M| Bus-Id        Disp.A | Volatile Uncorr. ECC |\n",
            "| Fan  Temp  Perf  Pwr:Usage/Cap|         Memory-Usage | GPU-Util  Compute M. |\n",
            "|                               |                      |               MIG M. |\n",
            "|===============================+======================+======================|\n",
            "|   0  Tesla P100-PCIE...  Off  | 00000000:00:04.0 Off |                    0 |\n",
            "| N/A   35C    P0    25W / 250W |      2MiB / 16280MiB |      0%      Default |\n",
            "|                               |                      |                  N/A |\n",
            "+-------------------------------+----------------------+----------------------+\n",
            "                                                                               \n",
            "+-----------------------------------------------------------------------------+\n",
            "| Processes:                                                                  |\n",
            "|  GPU   GI   CI        PID   Type   Process name                  GPU Memory |\n",
            "|        ID   ID                                                   Usage      |\n",
            "|=============================================================================|\n",
            "|  No running processes found                                                 |\n",
            "+-----------------------------------------------------------------------------+\n"
          ],
          "name": "stdout"
        }
      ]
    },
    {
      "cell_type": "code",
      "metadata": {
        "colab": {
          "base_uri": "https://localhost:8080/"
        },
        "id": "9yLI_s66-xVz",
        "outputId": "2baa471f-1a43-4917-db2d-73e6c918617c"
      },
      "source": [
        "from google.colab import drive\n",
        "drive.mount('/content/drive')"
      ],
      "execution_count": null,
      "outputs": [
        {
          "output_type": "stream",
          "text": [
            "Drive already mounted at /content/drive; to attempt to forcibly remount, call drive.mount(\"/content/drive\", force_remount=True).\n"
          ],
          "name": "stdout"
        }
      ]
    },
    {
      "cell_type": "code",
      "metadata": {
        "id": "bYev3I7UY61E"
      },
      "source": [
        "import os\n",
        "os.chdir(\"/content/drive/My Drive/DL\")"
      ],
      "execution_count": null,
      "outputs": []
    },
    {
      "cell_type": "markdown",
      "metadata": {
        "id": "gACk2TJMqPHk"
      },
      "source": [
        "# New Section"
      ]
    },
    {
      "cell_type": "code",
      "metadata": {
        "colab": {
          "base_uri": "https://localhost:8080/"
        },
        "id": "CyCy105i6AP5",
        "outputId": "4992d605-4bf8-4905-88eb-cfe1a2d5036c"
      },
      "source": [
        "%ls"
      ],
      "execution_count": null,
      "outputs": [
        {
          "output_type": "stream",
          "text": [
            "\u001b[0m\u001b[01;34memotion_reg\u001b[0m/                nCov_10k_test.csv  Untitled\n",
            "nCoV_100k_train.labled.csv  params3.pk1        Word2vec_1003k.w2v\n"
          ],
          "name": "stdout"
        }
      ]
    },
    {
      "cell_type": "code",
      "metadata": {
        "colab": {
          "base_uri": "https://localhost:8080/",
          "height": 306
        },
        "id": "qQs9FMukZUqb",
        "outputId": "03af28fc-c4a1-4e07-d013-6d1b14c105f8"
      },
      "source": [
        "import pandas as pd\n",
        "df = pd.read_csv(\"nCov_10k_test.csv\")\n",
        "df.head(5)"
      ],
      "execution_count": null,
      "outputs": [
        {
          "output_type": "execute_result",
          "data": {
            "text/html": [
              "<div>\n",
              "<style scoped>\n",
              "    .dataframe tbody tr th:only-of-type {\n",
              "        vertical-align: middle;\n",
              "    }\n",
              "\n",
              "    .dataframe tbody tr th {\n",
              "        vertical-align: top;\n",
              "    }\n",
              "\n",
              "    .dataframe thead th {\n",
              "        text-align: right;\n",
              "    }\n",
              "</style>\n",
              "<table border=\"1\" class=\"dataframe\">\n",
              "  <thead>\n",
              "    <tr style=\"text-align: right;\">\n",
              "      <th></th>\n",
              "      <th>微博id</th>\n",
              "      <th>微博发布时间</th>\n",
              "      <th>发布人账号</th>\n",
              "      <th>微博中文内容</th>\n",
              "      <th>微博图片</th>\n",
              "      <th>微博视频</th>\n",
              "    </tr>\n",
              "  </thead>\n",
              "  <tbody>\n",
              "    <tr>\n",
              "      <th>0</th>\n",
              "      <td>4.456070e+15</td>\n",
              "      <td>01月01日 23:38</td>\n",
              "      <td>-精緻的豬豬女戰士-</td>\n",
              "      <td>#你好2020#新年第一天元气满满的早起出门买早饭结果高估了自己抗冻能力回家成功冻发烧（大概...</td>\n",
              "      <td>['https://ww2.sinaimg.cn/thumb150/745aa591ly1g...</td>\n",
              "      <td>[]</td>\n",
              "    </tr>\n",
              "    <tr>\n",
              "      <th>1</th>\n",
              "      <td>4.456420e+15</td>\n",
              "      <td>01月02日 23:09</td>\n",
              "      <td>liujunyi88</td>\n",
              "      <td>大宝又感冒鼻塞咳嗽了，还有发烧。队友加班几天不回。感觉自己的情绪在家已然是随时引爆的状态。情...</td>\n",
              "      <td>[]</td>\n",
              "      <td>[]</td>\n",
              "    </tr>\n",
              "    <tr>\n",
              "      <th>2</th>\n",
              "      <td>4.456800e+15</td>\n",
              "      <td>01月03日 23:53</td>\n",
              "      <td>ablsa</td>\n",
              "      <td>还要去输两天液，这天也太容易感冒发烧了，一定要多喝热水啊?</td>\n",
              "      <td>['https://ww3.sinaimg.cn/orj360/006fTidCly1gaj...</td>\n",
              "      <td>[]</td>\n",
              "    </tr>\n",
              "    <tr>\n",
              "      <th>3</th>\n",
              "      <td>4.456790e+15</td>\n",
              "      <td>01月03日 23:27</td>\n",
              "      <td>喵吃鱼干Lynn</td>\n",
              "      <td>我太难了别人怎么发烧都没事就我一检查甲型流感?</td>\n",
              "      <td>[]</td>\n",
              "      <td>[]</td>\n",
              "    </tr>\n",
              "    <tr>\n",
              "      <th>4</th>\n",
              "      <td>4.457090e+15</td>\n",
              "      <td>01月04日 19:01</td>\n",
              "      <td>我的发小今年必脱单</td>\n",
              "      <td>果然是要病一场的喽回来第三天开始感冒今儿还发烧了喉咙眼睛都难受的一匹怎么样能不经意让我的毕设...</td>\n",
              "      <td>[]</td>\n",
              "      <td>[]</td>\n",
              "    </tr>\n",
              "  </tbody>\n",
              "</table>\n",
              "</div>"
            ],
            "text/plain": [
              "           微博id  ... 微博视频\n",
              "0  4.456070e+15  ...   []\n",
              "1  4.456420e+15  ...   []\n",
              "2  4.456800e+15  ...   []\n",
              "3  4.456790e+15  ...   []\n",
              "4  4.457090e+15  ...   []\n",
              "\n",
              "[5 rows x 6 columns]"
            ]
          },
          "metadata": {
            "tags": []
          },
          "execution_count": 10
        }
      ]
    },
    {
      "cell_type": "code",
      "metadata": {
        "id": "Y8m5SpZbZZyI"
      },
      "source": [
        "import jieba\n",
        "import pandas as pd\n",
        "import numpy as np\n",
        "import warnings\n",
        "from gensim.models.word2vec import Word2Vec\n",
        "from gensim.models.word2vec import PathLineSentences\n",
        "import gensim\n",
        "from itertools import chain\n",
        "import torch\n",
        "import torch.nn as nn\n",
        "import torch.nn.functional as F\n",
        "import torch.utils.data.dataloader as dataloader\n",
        "import torch.optim as optim\n",
        "import torch.autograd as autograd\n",
        "import torchtext.vocab as torchvocab\n",
        "from torch.autograd import Variable\n",
        "from sklearn.metrics import accuracy_score,recall_score,f1_score\n",
        "import time"
      ],
      "execution_count": null,
      "outputs": []
    },
    {
      "cell_type": "code",
      "metadata": {
        "colab": {
          "base_uri": "https://localhost:8080/"
        },
        "id": "cSJFIwLIZdWw",
        "outputId": "74a3172b-c24b-4854-864b-331611ceb264"
      },
      "source": [
        "train_df = pd.read_csv('nCoV_100k_train.labled.csv')\n",
        "train_df['word']=train_df[\"微博中文内容\"]\n",
        "train_df['label']=train_df[\"情感倾向\"]\n",
        "train_df['wordcut']=train_df['word'].astype(str).apply(lambda x: jieba.lcut(x))\n",
        "train_df1 = train_df.copy()\n",
        "train_df1=train_df1.drop(labels=['微博id','微博发布时间',\"发布人账号\",'微博中文内容','微博图片','微博视频','情感倾向'],axis=1)\n",
        "letters = ['word','wordcut','label']\n",
        "train_df1=train_df1[letters]\n",
        "train_df1=train_df1[~train_df1['label'].isin(['9','-','·'])]\n",
        "train_df1 = train_df1.fillna(10)\n",
        "train_df1=train_df1[~train_df1['label'].isin(['-2','10','4',10])]\n",
        "train_df1.info()"
      ],
      "execution_count": null,
      "outputs": [
        {
          "output_type": "stream",
          "text": [
            "Building prefix dict from the default dictionary ...\n",
            "Dumping model to file cache /tmp/jieba.cache\n",
            "Loading model cost 0.811 seconds.\n",
            "Prefix dict has been built successfully.\n"
          ],
          "name": "stderr"
        },
        {
          "output_type": "stream",
          "text": [
            "<class 'pandas.core.frame.DataFrame'>\n",
            "Int64Index: 99913 entries, 0 to 99999\n",
            "Data columns (total 3 columns):\n",
            " #   Column   Non-Null Count  Dtype \n",
            "---  ------   --------------  ----- \n",
            " 0   word     99913 non-null  object\n",
            " 1   wordcut  99913 non-null  object\n",
            " 2   label    99913 non-null  object\n",
            "dtypes: object(3)\n",
            "memory usage: 3.0+ MB\n"
          ],
          "name": "stdout"
        }
      ]
    },
    {
      "cell_type": "code",
      "metadata": {
        "colab": {
          "base_uri": "https://localhost:8080/"
        },
        "id": "4LwGhI8-bvof",
        "outputId": "562b633b-37a1-424e-bb06-3f8f4b0948c4"
      },
      "source": [
        "test_df = pd.read_csv('nCov_10k_test.csv',header= 0)\n",
        "test_df['word']=test_df[\"微博中文内容\"]\n",
        "test_df['label']=None\n",
        "test_df['wordcut']=test_df['word'].astype(str).apply(lambda x: jieba.lcut(x))\n",
        "df1_test = test_df.copy()\n",
        "df1_test=df1_test.drop(labels=['微博id','微博发布时间',\"发布人账号\",'微博中文内容','微博图片','微博视频'],axis=1)\n",
        "letters_test = ['word','wordcut','label']\n",
        "df1_test=df1_test[letters_test]\n",
        "test_tokenized = df1_test['wordcut'].tolist()\n",
        "len(test_tokenized)"
      ],
      "execution_count": null,
      "outputs": [
        {
          "output_type": "execute_result",
          "data": {
            "text/plain": [
              "10000"
            ]
          },
          "metadata": {
            "tags": []
          },
          "execution_count": 10
        }
      ]
    },
    {
      "cell_type": "code",
      "metadata": {
        "colab": {
          "background_save": true
        },
        "id": "6R_z6WuCZgx-"
      },
      "source": [
        "w2v = Word2Vec(size=100,min_count=10)\n",
        "x = train_df1['wordcut']\n",
        "w2v.build_vocab(x)\n",
        "w2v.train(x, total_examples=w2v.corpus_count,epochs=w2v.epochs)\n",
        "w2v.save(\"Word2vec_1003k.w2v\")"
      ],
      "execution_count": null,
      "outputs": []
    },
    {
      "cell_type": "code",
      "metadata": {
        "id": "UFd93aajgFjM"
      },
      "source": [
        "train_df1['label'].loc[train_df1['label']== '-1'] = '2'"
      ],
      "execution_count": null,
      "outputs": []
    },
    {
      "cell_type": "code",
      "metadata": {
        "id": "i7H0wIaAfWfE"
      },
      "source": [
        "wvmodelwvmodel = gensim.models.word2vec.Word2Vec.load(\"Word2vec_1003k.w2v\").wv\n",
        "vocab = set(chain(*train_df1['wordcut'].tolist()))\n",
        "vocab_size = len(vocab)\n",
        "train_tokenized = train_df1['wordcut'].tolist()\n",
        "word_to_idx = {word: i+1 for i, word in enumerate(vocab)}\n",
        "word_to_idx['<unk>'] = 0\n",
        "idx_to_word = {i+1: word for i, word in enumerate(vocab)}\n",
        "idx_to_word[0] = '<unk>'"
      ],
      "execution_count": null,
      "outputs": []
    },
    {
      "cell_type": "code",
      "metadata": {
        "id": "KRrusofWZk5A"
      },
      "source": [
        "def encode_samples(tokenized_samples,vocab):\n",
        "    features = []\n",
        "    for sample in tokenized_samples:\n",
        "        feature = []\n",
        "        for token in sample:\n",
        "            if token in word_to_idx:\n",
        "                feature.append(word_to_idx[token])\n",
        "            else:\n",
        "                feature.append(0)\n",
        "        features.append(feature)\n",
        "    return features\n",
        "def pad_samples(features,maxlen=100,PAD=0):\n",
        "    padded_features = []\n",
        "    for feature in features:\n",
        "        if len(feature) >=maxlen:\n",
        "            padded_feature = feature[:maxlen]\n",
        "        else:\n",
        "            padded_feature = feature\n",
        "            while(len(padded_feature) <maxlen):\n",
        "                padded_feature.append(PAD)\n",
        "        padded_features.append(padded_feature)\n",
        "    return padded_features"
      ],
      "execution_count": null,
      "outputs": []
    },
    {
      "cell_type": "code",
      "metadata": {
        "id": "a5WxjeJUZ3-q"
      },
      "source": [
        "train_features = torch.tensor(pad_samples(encode_samples(train_tokenized,vocab)))\n",
        "train_labels = torch.tensor([int(score) for score in train_df1[\"label\"].tolist()])\n"
      ],
      "execution_count": null,
      "outputs": []
    },
    {
      "cell_type": "code",
      "metadata": {
        "id": "uYuGEeLAkYj1"
      },
      "source": [
        ""
      ],
      "execution_count": null,
      "outputs": []
    },
    {
      "cell_type": "code",
      "metadata": {
        "id": "gdEDk0COaBAT"
      },
      "source": [
        "class SentimentNet(nn.Module):\n",
        "    def __init__(self,vocab_size,embed_size,num_hiddens,num_layers,\n",
        "                bidirectional,weight,labels,use_gpu,**kwargs):\n",
        "        super(SentimentNet,self).__init__(**kwargs)\n",
        "        self.num_hiddens = num_hiddens\n",
        "        self.num_layers = num_layers\n",
        "        \n",
        "        self.bidirectional = bidirectional\n",
        "        self.embedding = nn.Embedding.from_pretrained(weight)\n",
        "        self.embedding.weight.requires_grad =False\n",
        "        self.encoder = nn.LSTM(input_size=embed_size, hidden_size=self.num_hiddens,\n",
        "                               num_layers=num_layers, bidirectional=self.bidirectional,\n",
        "                               dropout=0)\n",
        "        if self.bidirectional:\n",
        "            self.decoder = nn.Linear(num_hiddens * 4,labels)\n",
        "        else:\n",
        "            self.decoder = nn.Linear(num_hiddens * 2,labels)\n",
        "            \n",
        "    def forward(self,inputs):\n",
        "        embeddings = self.embedding(inputs)\n",
        "        states,hidden = self.encoder(embeddings.permute([1,0,2]))\n",
        "        encoding = torch.cat([states[0],states[-1]],dim=1)\n",
        "        outputs = self.decoder(encoding)\n",
        "        return outputs\n"
      ],
      "execution_count": null,
      "outputs": []
    },
    {
      "cell_type": "code",
      "metadata": {
        "id": "UpmHusRAaKSi"
      },
      "source": [
        "num_epochs = 3\n",
        "embed_size = 100\n",
        "num_hiddens = 100\n",
        "num_layers = 2\n",
        "bidirectional = True\n",
        "batch_size = 64\n",
        "labels = 3\n",
        "lr = 0.01\n",
        "device = torch.device('cuda:0')\n",
        "use_gpu = True"
      ],
      "execution_count": null,
      "outputs": []
    },
    {
      "cell_type": "code",
      "metadata": {
        "colab": {
          "base_uri": "https://localhost:8080/",
          "height": 430
        },
        "id": "gugUfMx3aOMg",
        "outputId": "dd83eefa-dedd-4fbf-fc6c-c292592743fa"
      },
      "source": [
        "weight = torch.zeros(vocab_size+1, embed_size)\n",
        "for i in range(len(wvmodelwvmodel.index2word)):\n",
        "    try:\n",
        "        index = word_to_idx[wvmodelwvmodel.index2word[i]]\n",
        "    except:\n",
        "        continue\n",
        "    weight[index,:] = torch.from_numpy(wvmodelwvmodel.get_vector(\n",
        "    idx_to_word[word_to_idx[wvmodelwvmodel.index2word[i]]]))\n",
        "\n",
        "net = SentimentNet(vocab_size=(vocab_size+1), embed_size=embed_size,\n",
        "                   num_hiddens=num_hiddens, num_layers=num_layers,\n",
        "                   bidirectional=bidirectional, weight=weight,\n",
        "                   labels=labels, use_gpu=use_gpu)\n",
        "net.to(device)\n",
        "loss_function = nn.CrossEntropyLoss()\n",
        "optimizer = optim.Adam(net.parameters(), lr=lr)"
      ],
      "execution_count": null,
      "outputs": [
        {
          "output_type": "stream",
          "text": [
            "/usr/local/lib/python3.7/dist-packages/ipykernel_launcher.py:8: UserWarning: The given NumPy array is not writeable, and PyTorch does not support non-writeable tensors. This means you can write to the underlying (supposedly non-writeable) NumPy array using the tensor. You may want to copy the array to protect its data or make it writeable before converting it to a tensor. This type of warning will be suppressed for the rest of this program. (Triggered internally at  /pytorch/torch/csrc/utils/tensor_numpy.cpp:143.)\n",
            "  \n"
          ],
          "name": "stderr"
        },
        {
          "output_type": "error",
          "ename": "RuntimeError",
          "evalue": "ignored",
          "traceback": [
            "\u001b[0;31m---------------------------------------------------------------------------\u001b[0m",
            "\u001b[0;31mRuntimeError\u001b[0m                              Traceback (most recent call last)",
            "\u001b[0;32m<ipython-input-17-ff6ce7a2525b>\u001b[0m in \u001b[0;36m<module>\u001b[0;34m()\u001b[0m\n\u001b[1;32m     12\u001b[0m                    \u001b[0mbidirectional\u001b[0m\u001b[0;34m=\u001b[0m\u001b[0mbidirectional\u001b[0m\u001b[0;34m,\u001b[0m \u001b[0mweight\u001b[0m\u001b[0;34m=\u001b[0m\u001b[0mweight\u001b[0m\u001b[0;34m,\u001b[0m\u001b[0;34m\u001b[0m\u001b[0;34m\u001b[0m\u001b[0m\n\u001b[1;32m     13\u001b[0m                    labels=labels, use_gpu=use_gpu)\n\u001b[0;32m---> 14\u001b[0;31m \u001b[0mnet\u001b[0m\u001b[0;34m.\u001b[0m\u001b[0mto\u001b[0m\u001b[0;34m(\u001b[0m\u001b[0mdevice\u001b[0m\u001b[0;34m)\u001b[0m\u001b[0;34m\u001b[0m\u001b[0;34m\u001b[0m\u001b[0m\n\u001b[0m\u001b[1;32m     15\u001b[0m \u001b[0mloss_function\u001b[0m \u001b[0;34m=\u001b[0m \u001b[0mnn\u001b[0m\u001b[0;34m.\u001b[0m\u001b[0mCrossEntropyLoss\u001b[0m\u001b[0;34m(\u001b[0m\u001b[0;34m)\u001b[0m\u001b[0;34m\u001b[0m\u001b[0;34m\u001b[0m\u001b[0m\n\u001b[1;32m     16\u001b[0m \u001b[0moptimizer\u001b[0m \u001b[0;34m=\u001b[0m \u001b[0moptim\u001b[0m\u001b[0;34m.\u001b[0m\u001b[0mAdam\u001b[0m\u001b[0;34m(\u001b[0m\u001b[0mnet\u001b[0m\u001b[0;34m.\u001b[0m\u001b[0mparameters\u001b[0m\u001b[0;34m(\u001b[0m\u001b[0;34m)\u001b[0m\u001b[0;34m,\u001b[0m \u001b[0mlr\u001b[0m\u001b[0;34m=\u001b[0m\u001b[0mlr\u001b[0m\u001b[0;34m)\u001b[0m\u001b[0;34m\u001b[0m\u001b[0;34m\u001b[0m\u001b[0m\n",
            "\u001b[0;32m/usr/local/lib/python3.7/dist-packages/torch/nn/modules/module.py\u001b[0m in \u001b[0;36mto\u001b[0;34m(self, *args, **kwargs)\u001b[0m\n\u001b[1;32m    671\u001b[0m             \u001b[0;32mreturn\u001b[0m \u001b[0mt\u001b[0m\u001b[0;34m.\u001b[0m\u001b[0mto\u001b[0m\u001b[0;34m(\u001b[0m\u001b[0mdevice\u001b[0m\u001b[0;34m,\u001b[0m \u001b[0mdtype\u001b[0m \u001b[0;32mif\u001b[0m \u001b[0mt\u001b[0m\u001b[0;34m.\u001b[0m\u001b[0mis_floating_point\u001b[0m\u001b[0;34m(\u001b[0m\u001b[0;34m)\u001b[0m \u001b[0;32mor\u001b[0m \u001b[0mt\u001b[0m\u001b[0;34m.\u001b[0m\u001b[0mis_complex\u001b[0m\u001b[0;34m(\u001b[0m\u001b[0;34m)\u001b[0m \u001b[0;32melse\u001b[0m \u001b[0;32mNone\u001b[0m\u001b[0;34m,\u001b[0m \u001b[0mnon_blocking\u001b[0m\u001b[0;34m)\u001b[0m\u001b[0;34m\u001b[0m\u001b[0;34m\u001b[0m\u001b[0m\n\u001b[1;32m    672\u001b[0m \u001b[0;34m\u001b[0m\u001b[0m\n\u001b[0;32m--> 673\u001b[0;31m         \u001b[0;32mreturn\u001b[0m \u001b[0mself\u001b[0m\u001b[0;34m.\u001b[0m\u001b[0m_apply\u001b[0m\u001b[0;34m(\u001b[0m\u001b[0mconvert\u001b[0m\u001b[0;34m)\u001b[0m\u001b[0;34m\u001b[0m\u001b[0;34m\u001b[0m\u001b[0m\n\u001b[0m\u001b[1;32m    674\u001b[0m \u001b[0;34m\u001b[0m\u001b[0m\n\u001b[1;32m    675\u001b[0m     def register_backward_hook(\n",
            "\u001b[0;32m/usr/local/lib/python3.7/dist-packages/torch/nn/modules/module.py\u001b[0m in \u001b[0;36m_apply\u001b[0;34m(self, fn)\u001b[0m\n\u001b[1;32m    385\u001b[0m     \u001b[0;32mdef\u001b[0m \u001b[0m_apply\u001b[0m\u001b[0;34m(\u001b[0m\u001b[0mself\u001b[0m\u001b[0;34m,\u001b[0m \u001b[0mfn\u001b[0m\u001b[0;34m)\u001b[0m\u001b[0;34m:\u001b[0m\u001b[0;34m\u001b[0m\u001b[0;34m\u001b[0m\u001b[0m\n\u001b[1;32m    386\u001b[0m         \u001b[0;32mfor\u001b[0m \u001b[0mmodule\u001b[0m \u001b[0;32min\u001b[0m \u001b[0mself\u001b[0m\u001b[0;34m.\u001b[0m\u001b[0mchildren\u001b[0m\u001b[0;34m(\u001b[0m\u001b[0;34m)\u001b[0m\u001b[0;34m:\u001b[0m\u001b[0;34m\u001b[0m\u001b[0;34m\u001b[0m\u001b[0m\n\u001b[0;32m--> 387\u001b[0;31m             \u001b[0mmodule\u001b[0m\u001b[0;34m.\u001b[0m\u001b[0m_apply\u001b[0m\u001b[0;34m(\u001b[0m\u001b[0mfn\u001b[0m\u001b[0;34m)\u001b[0m\u001b[0;34m\u001b[0m\u001b[0;34m\u001b[0m\u001b[0m\n\u001b[0m\u001b[1;32m    388\u001b[0m \u001b[0;34m\u001b[0m\u001b[0m\n\u001b[1;32m    389\u001b[0m         \u001b[0;32mdef\u001b[0m \u001b[0mcompute_should_use_set_data\u001b[0m\u001b[0;34m(\u001b[0m\u001b[0mtensor\u001b[0m\u001b[0;34m,\u001b[0m \u001b[0mtensor_applied\u001b[0m\u001b[0;34m)\u001b[0m\u001b[0;34m:\u001b[0m\u001b[0;34m\u001b[0m\u001b[0;34m\u001b[0m\u001b[0m\n",
            "\u001b[0;32m/usr/local/lib/python3.7/dist-packages/torch/nn/modules/module.py\u001b[0m in \u001b[0;36m_apply\u001b[0;34m(self, fn)\u001b[0m\n\u001b[1;32m    407\u001b[0m                 \u001b[0;31m# `with torch.no_grad():`\u001b[0m\u001b[0;34m\u001b[0m\u001b[0;34m\u001b[0m\u001b[0;34m\u001b[0m\u001b[0m\n\u001b[1;32m    408\u001b[0m                 \u001b[0;32mwith\u001b[0m \u001b[0mtorch\u001b[0m\u001b[0;34m.\u001b[0m\u001b[0mno_grad\u001b[0m\u001b[0;34m(\u001b[0m\u001b[0;34m)\u001b[0m\u001b[0;34m:\u001b[0m\u001b[0;34m\u001b[0m\u001b[0;34m\u001b[0m\u001b[0m\n\u001b[0;32m--> 409\u001b[0;31m                     \u001b[0mparam_applied\u001b[0m \u001b[0;34m=\u001b[0m \u001b[0mfn\u001b[0m\u001b[0;34m(\u001b[0m\u001b[0mparam\u001b[0m\u001b[0;34m)\u001b[0m\u001b[0;34m\u001b[0m\u001b[0;34m\u001b[0m\u001b[0m\n\u001b[0m\u001b[1;32m    410\u001b[0m                 \u001b[0mshould_use_set_data\u001b[0m \u001b[0;34m=\u001b[0m \u001b[0mcompute_should_use_set_data\u001b[0m\u001b[0;34m(\u001b[0m\u001b[0mparam\u001b[0m\u001b[0;34m,\u001b[0m \u001b[0mparam_applied\u001b[0m\u001b[0;34m)\u001b[0m\u001b[0;34m\u001b[0m\u001b[0;34m\u001b[0m\u001b[0m\n\u001b[1;32m    411\u001b[0m                 \u001b[0;32mif\u001b[0m \u001b[0mshould_use_set_data\u001b[0m\u001b[0;34m:\u001b[0m\u001b[0;34m\u001b[0m\u001b[0;34m\u001b[0m\u001b[0m\n",
            "\u001b[0;32m/usr/local/lib/python3.7/dist-packages/torch/nn/modules/module.py\u001b[0m in \u001b[0;36mconvert\u001b[0;34m(t)\u001b[0m\n\u001b[1;32m    669\u001b[0m                 return t.to(device, dtype if t.is_floating_point() or t.is_complex() else None,\n\u001b[1;32m    670\u001b[0m                             non_blocking, memory_format=convert_to_format)\n\u001b[0;32m--> 671\u001b[0;31m             \u001b[0;32mreturn\u001b[0m \u001b[0mt\u001b[0m\u001b[0;34m.\u001b[0m\u001b[0mto\u001b[0m\u001b[0;34m(\u001b[0m\u001b[0mdevice\u001b[0m\u001b[0;34m,\u001b[0m \u001b[0mdtype\u001b[0m \u001b[0;32mif\u001b[0m \u001b[0mt\u001b[0m\u001b[0;34m.\u001b[0m\u001b[0mis_floating_point\u001b[0m\u001b[0;34m(\u001b[0m\u001b[0;34m)\u001b[0m \u001b[0;32mor\u001b[0m \u001b[0mt\u001b[0m\u001b[0;34m.\u001b[0m\u001b[0mis_complex\u001b[0m\u001b[0;34m(\u001b[0m\u001b[0;34m)\u001b[0m \u001b[0;32melse\u001b[0m \u001b[0;32mNone\u001b[0m\u001b[0;34m,\u001b[0m \u001b[0mnon_blocking\u001b[0m\u001b[0;34m)\u001b[0m\u001b[0;34m\u001b[0m\u001b[0;34m\u001b[0m\u001b[0m\n\u001b[0m\u001b[1;32m    672\u001b[0m \u001b[0;34m\u001b[0m\u001b[0m\n\u001b[1;32m    673\u001b[0m         \u001b[0;32mreturn\u001b[0m \u001b[0mself\u001b[0m\u001b[0;34m.\u001b[0m\u001b[0m_apply\u001b[0m\u001b[0;34m(\u001b[0m\u001b[0mconvert\u001b[0m\u001b[0;34m)\u001b[0m\u001b[0;34m\u001b[0m\u001b[0;34m\u001b[0m\u001b[0m\n",
            "\u001b[0;32m/usr/local/lib/python3.7/dist-packages/torch/cuda/__init__.py\u001b[0m in \u001b[0;36m_lazy_init\u001b[0;34m()\u001b[0m\n\u001b[1;32m    168\u001b[0m         \u001b[0;31m# This function throws if there's a driver initialization error, no GPUs\u001b[0m\u001b[0;34m\u001b[0m\u001b[0;34m\u001b[0m\u001b[0;34m\u001b[0m\u001b[0m\n\u001b[1;32m    169\u001b[0m         \u001b[0;31m# are found or any other error occurs\u001b[0m\u001b[0;34m\u001b[0m\u001b[0;34m\u001b[0m\u001b[0;34m\u001b[0m\u001b[0m\n\u001b[0;32m--> 170\u001b[0;31m         \u001b[0mtorch\u001b[0m\u001b[0;34m.\u001b[0m\u001b[0m_C\u001b[0m\u001b[0;34m.\u001b[0m\u001b[0m_cuda_init\u001b[0m\u001b[0;34m(\u001b[0m\u001b[0;34m)\u001b[0m\u001b[0;34m\u001b[0m\u001b[0;34m\u001b[0m\u001b[0m\n\u001b[0m\u001b[1;32m    171\u001b[0m         \u001b[0;31m# Some of the queued calls may reentrantly call _lazy_init();\u001b[0m\u001b[0;34m\u001b[0m\u001b[0;34m\u001b[0m\u001b[0;34m\u001b[0m\u001b[0m\n\u001b[1;32m    172\u001b[0m         \u001b[0;31m# we need to just return without initializing in that case.\u001b[0m\u001b[0;34m\u001b[0m\u001b[0;34m\u001b[0m\u001b[0;34m\u001b[0m\u001b[0m\n",
            "\u001b[0;31mRuntimeError\u001b[0m: No CUDA GPUs are available"
          ]
        }
      ]
    },
    {
      "cell_type": "code",
      "metadata": {
        "colab": {
          "base_uri": "https://localhost:8080/"
        },
        "id": "LRaTXqlDaV2U",
        "outputId": "5f6f07ba-e4d0-46f4-ba9b-b9b53d34a2b6"
      },
      "source": [
        "print(\"data load...\")\n",
        "train_set = torch.utils.data.TensorDataset(train_features, train_labels)\n",
        "train_iter = torch.utils.data.DataLoader(train_set, batch_size=batch_size,\n",
        "                                         shuffle=True)\n",
        "test_features = torch.tensor(pad_samples(encode_samples(test_tokenized, vocab)))\n",
        "test_labels = torch.tensor([0 for score in range(10000)])\n",
        "\n",
        "test_set = torch.utils.data.TensorDataset(test_features, test_labels)\n",
        "test_iter = torch.utils.data.DataLoader(test_set, batch_size=batch_size,\n",
        "                                        shuffle=False)"
      ],
      "execution_count": null,
      "outputs": [
        {
          "output_type": "stream",
          "text": [
            "data load...\n"
          ],
          "name": "stdout"
        }
      ]
    },
    {
      "cell_type": "code",
      "metadata": {
        "colab": {
          "base_uri": "https://localhost:8080/"
        },
        "id": "CVcz1jYAgTBJ",
        "outputId": "cbaf21b5-b35e-4dff-cea6-0df31519bf75"
      },
      "source": [
        "len(train_labels)"
      ],
      "execution_count": null,
      "outputs": [
        {
          "output_type": "execute_result",
          "data": {
            "text/plain": [
              "99913"
            ]
          },
          "metadata": {
            "tags": []
          },
          "execution_count": 70
        }
      ]
    },
    {
      "cell_type": "code",
      "metadata": {
        "colab": {
          "base_uri": "https://localhost:8080/"
        },
        "id": "EspdBGyJaZrq",
        "outputId": "5f4d498c-9608-49d8-9637-fb519dee4236"
      },
      "source": [
        "\n",
        "print(\"model train ...\")\n",
        "predlist = []\n",
        "\n",
        "for epoch in range(num_epochs):\n",
        "    start = time.time()\n",
        "    train_loss = 0\n",
        "    train_acc = 0\n",
        "    train_rec = 0\n",
        "    train_f1 = 0\n",
        "    n= 0\n",
        "    for feature,label in train_iter:\n",
        "        n += 1\n",
        "        net.zero_grad()\n",
        "        feature = Variable(feature.cuda())\n",
        "        label = Variable(label.cuda())\n",
        "        score = net(feature)\n",
        "        loss = loss_function(score, label)\n",
        "        loss.backward()\n",
        "        optimizer.step()\n",
        "        train_acc += accuracy_score(torch.argmax(score.cpu().data,dim=1),label.cpu())\n",
        "        train_rec += recall_score(torch.argmax(score.cpu().data,dim=1),label.cpu(),average='macro')\n",
        "        train_f1 += f1_score(torch.argmax(score.cpu().data,dim=1),label.cpu(),average='macro')\n",
        "\n",
        "        train_loss += loss\n",
        "    \n",
        "    with torch.no_grad():\n",
        "        for test_feature, test_label in test_iter:\n",
        "            test_feature = Variable(test_feature.cuda())\n",
        "            test_label = Variable(test_label)\n",
        "            test_score = net(test_feature)\n",
        "            predlist.append(torch.argmax(test_score.data,dim=1))          \n",
        "    # print(predlist)\n",
        "    if epoch < num_epochs-1:\n",
        "        predlist = []\n",
        "    print(predlist)\n",
        "    end = time.time()\n",
        "    runtime = end-start\n",
        "    print('epoch: %d, train loss: %.4f,train acc: %.2f,train recall: %.2f,train f1: %.2f,time: %.2f' %\n",
        "         (epoch,train_loss.data / n, train_acc / n , train_rec / n , train_f1 / n , runtime))\n",
        "print(\"model train end\")\n",
        "torch.save (net.state_dict(), 'params3.pk1') \n"
      ],
      "execution_count": null,
      "outputs": [
        {
          "output_type": "stream",
          "text": [
            "model train ...\n"
          ],
          "name": "stdout"
        },
        {
          "output_type": "stream",
          "text": [
            "/usr/local/lib/python3.7/dist-packages/sklearn/metrics/_classification.py:1272: UndefinedMetricWarning: Recall is ill-defined and being set to 0.0 in labels with no true samples. Use `zero_division` parameter to control this behavior.\n",
            "  _warn_prf(average, modifier, msg_start, len(result))\n"
          ],
          "name": "stderr"
        },
        {
          "output_type": "stream",
          "text": [
            "[]\n",
            "epoch: 0, train loss: 0.6779,train acc: 0.70,train recall: 0.67,train f1: 0.62,time: 31.30\n",
            "[]\n",
            "epoch: 1, train loss: 0.6247,train acc: 0.73,train recall: 0.70,train f1: 0.66,time: 30.85\n",
            "[tensor([0, 2, 2, 2, 2, 0, 2, 0, 2, 2, 0, 2, 0, 1, 2, 2, 2, 2, 2, 2, 0, 2, 2, 2,\n",
            "        2, 2, 0, 1, 0, 0, 0, 0, 0, 1, 0, 0, 2, 2, 1, 0, 0, 2, 0, 0, 2, 2, 2, 0,\n",
            "        2, 0, 0, 2, 2, 2, 0, 0, 0, 0, 0, 0, 0, 0, 2, 2], device='cuda:0'), tensor([2, 0, 0, 0, 0, 0, 0, 1, 2, 0, 0, 0, 0, 2, 0, 0, 2, 2, 2, 0, 0, 0, 0, 0,\n",
            "        2, 0, 0, 0, 0, 0, 0, 0, 0, 0, 0, 0, 0, 2, 0, 2, 2, 0, 0, 0, 0, 0, 0, 1,\n",
            "        2, 0, 2, 0, 0, 0, 0, 0, 0, 0, 0, 0, 0, 0, 0, 0], device='cuda:0'), tensor([0, 0, 0, 0, 0, 0, 0, 0, 0, 0, 0, 2, 0, 0, 0, 0, 0, 0, 0, 0, 2, 0, 2, 0,\n",
            "        0, 0, 0, 1, 0, 2, 0, 0, 0, 1, 1, 0, 2, 1, 1, 0, 0, 0, 0, 0, 0, 0, 0, 0,\n",
            "        0, 0, 2, 0, 1, 0, 2, 0, 2, 2, 0, 0, 0, 0, 0, 2], device='cuda:0'), tensor([2, 0, 0, 0, 2, 0, 0, 2, 0, 0, 0, 1, 0, 0, 0, 0, 1, 0, 0, 0, 1, 0, 1, 1,\n",
            "        0, 0, 0, 0, 0, 2, 0, 0, 0, 0, 0, 0, 0, 0, 0, 0, 0, 2, 0, 1, 0, 0, 0, 0,\n",
            "        0, 0, 0, 0, 0, 0, 0, 0, 1, 0, 0, 1, 2, 0, 2, 1], device='cuda:0'), tensor([0, 0, 1, 2, 1, 0, 0, 0, 0, 1, 0, 0, 0, 0, 1, 1, 2, 1, 1, 1, 1, 1, 2, 1,\n",
            "        0, 0, 1, 1, 1, 0, 0, 0, 0, 1, 0, 1, 1, 0, 0, 2, 2, 0, 2, 2, 1, 0, 0, 1,\n",
            "        0, 0, 1, 2, 0, 0, 0, 0, 0, 0, 0, 2, 0, 2, 0, 1], device='cuda:0'), tensor([0, 0, 0, 1, 0, 1, 2, 0, 0, 0, 0, 0, 2, 0, 0, 1, 1, 0, 2, 1, 0, 0, 0, 0,\n",
            "        2, 0, 2, 0, 0, 0, 2, 0, 0, 0, 0, 0, 2, 0, 0, 0, 0, 0, 2, 0, 2, 0, 0, 0,\n",
            "        0, 2, 0, 0, 0, 0, 0, 2, 0, 0, 0, 2, 0, 2, 2, 0], device='cuda:0'), tensor([2, 1, 0, 0, 0, 0, 2, 0, 0, 0, 0, 0, 0, 0, 0, 0, 0, 0, 2, 0, 0, 0, 2, 0,\n",
            "        1, 0, 2, 0, 2, 2, 0, 0, 2, 2, 2, 2, 2, 0, 0, 0, 2, 2, 0, 0, 0, 0, 1, 0,\n",
            "        2, 2, 2, 2, 0, 0, 0, 0, 0, 2, 2, 0, 0, 2, 2, 1], device='cuda:0'), tensor([0, 0, 0, 0, 0, 0, 0, 0, 2, 0, 0, 0, 0, 0, 2, 1, 0, 0, 2, 2, 0, 0, 0, 2,\n",
            "        2, 0, 1, 1, 1, 0, 1, 0, 1, 1, 0, 1, 0, 1, 1, 1, 1, 1, 0, 1, 1, 0, 1, 1,\n",
            "        1, 1, 2, 1, 1, 2, 0, 1, 1, 1, 1, 2, 1, 1, 1, 2], device='cuda:0'), tensor([0, 0, 1, 1, 1, 2, 0, 1, 1, 1, 1, 1, 0, 1, 1, 1, 0, 0, 0, 1, 2, 0, 1, 1,\n",
            "        1, 0, 0, 1, 1, 1, 1, 0, 1, 1, 0, 1, 0, 1, 0, 2, 0, 0, 2, 0, 1, 2, 1, 2,\n",
            "        1, 2, 2, 0, 1, 0, 1, 1, 0, 0, 2, 2, 2, 2, 0, 1], device='cuda:0'), tensor([1, 2, 2, 2, 2, 0, 1, 2, 1, 2, 2, 2, 1, 2, 0, 2, 2, 2, 0, 2, 1, 2, 2, 2,\n",
            "        0, 1, 0, 2, 2, 2, 2, 1, 2, 2, 1, 0, 0, 1, 0, 1, 1, 2, 1, 2, 1, 0, 0, 1,\n",
            "        2, 0, 0, 0, 0, 0, 0, 0, 2, 1, 2, 2, 0, 0, 2, 0], device='cuda:0'), tensor([1, 1, 1, 0, 0, 1, 0, 2, 0, 2, 0, 0, 2, 0, 0, 2, 0, 2, 1, 0, 2, 0, 0, 0,\n",
            "        0, 0, 0, 2, 2, 0, 1, 0, 0, 0, 0, 0, 0, 0, 0, 0, 1, 1, 0, 0, 0, 0, 1, 2,\n",
            "        0, 0, 0, 1, 2, 2, 0, 0, 2, 0, 0, 0, 0, 0, 0, 0], device='cuda:0'), tensor([0, 0, 1, 1, 2, 0, 0, 0, 1, 2, 2, 1, 0, 2, 0, 2, 0, 0, 2, 1, 0, 2, 1, 0,\n",
            "        0, 0, 0, 0, 0, 0, 1, 0, 0, 0, 0, 2, 0, 0, 0, 0, 2, 0, 2, 0, 0, 1, 0, 1,\n",
            "        0, 0, 0, 0, 0, 1, 0, 2, 2, 0, 0, 2, 1, 0, 0, 0], device='cuda:0'), tensor([0, 0, 1, 0, 1, 0, 0, 1, 0, 0, 0, 0, 0, 0, 0, 0, 0, 1, 0, 0, 0, 0, 2, 0,\n",
            "        0, 1, 0, 1, 1, 1, 1, 1, 1, 1, 1, 2, 0, 1, 1, 1, 1, 2, 0, 1, 0, 0, 1, 2,\n",
            "        1, 1, 1, 1, 0, 1, 1, 0, 1, 1, 1, 1, 1, 1, 1, 0], device='cuda:0'), tensor([1, 0, 1, 1, 1, 1, 1, 1, 0, 1, 0, 1, 1, 2, 1, 1, 0, 0, 1, 2, 1, 1, 1, 0,\n",
            "        1, 1, 1, 1, 0, 1, 1, 0, 1, 1, 1, 0, 1, 1, 1, 2, 1, 0, 0, 0, 1, 1, 1, 1,\n",
            "        1, 1, 1, 1, 1, 1, 1, 0, 1, 0, 0, 1, 0, 0, 0, 0], device='cuda:0'), tensor([0, 0, 0, 0, 0, 0, 0, 0, 0, 1, 2, 0, 1, 0, 0, 0, 0, 0, 0, 0, 1, 0, 1, 0,\n",
            "        0, 0, 1, 0, 0, 0, 0, 0, 0, 0, 0, 0, 0, 1, 0, 0, 2, 0, 1, 0, 0, 0, 0, 2,\n",
            "        0, 1, 2, 0, 1, 0, 0, 0, 0, 0, 0, 0, 0, 0, 2, 0], device='cuda:0'), tensor([0, 0, 0, 0, 0, 0, 0, 0, 0, 0, 0, 1, 0, 2, 0, 0, 0, 0, 0, 1, 0, 0, 1, 0,\n",
            "        0, 0, 0, 0, 0, 0, 0, 0, 1, 0, 0, 0, 0, 0, 0, 2, 0, 0, 2, 0, 2, 2, 1, 0,\n",
            "        0, 0, 0, 0, 0, 0, 0, 0, 0, 0, 0, 0, 0, 0, 0, 2], device='cuda:0'), tensor([0, 2, 0, 0, 0, 0, 0, 0, 0, 2, 0, 0, 0, 0, 0, 0, 2, 0, 0, 0, 0, 0, 0, 0,\n",
            "        0, 0, 2, 0, 0, 2, 0, 0, 0, 0, 0, 2, 0, 0, 2, 0, 0, 0, 1, 0, 0, 1, 0, 2,\n",
            "        0, 2, 1, 0, 0, 0, 0, 0, 0, 0, 0, 2, 0, 0, 0, 2], device='cuda:0'), tensor([0, 0, 0, 0, 0, 0, 1, 0, 0, 0, 0, 1, 0, 2, 0, 0, 1, 2, 2, 0, 0, 1, 0, 2,\n",
            "        0, 0, 2, 1, 0, 0, 0, 0, 2, 0, 0, 1, 2, 0, 1, 1, 0, 0, 1, 1, 0, 1, 0, 1,\n",
            "        1, 1, 2, 1, 1, 1, 1, 0, 1, 1, 1, 0, 1, 2, 0, 0], device='cuda:0'), tensor([1, 0, 2, 0, 0, 2, 2, 0, 0, 0, 0, 0, 0, 1, 1, 0, 2, 1, 0, 0, 1, 0, 1, 0,\n",
            "        1, 1, 0, 0, 0, 0, 1, 0, 0, 0, 0, 0, 0, 0, 0, 0, 0, 2, 0, 0, 0, 0, 0, 0,\n",
            "        0, 2, 0, 2, 0, 2, 2, 0, 0, 2, 2, 0, 0, 1, 1, 0], device='cuda:0'), tensor([1, 1, 1, 1, 1, 1, 1, 1, 1, 1, 1, 0, 1, 1, 1, 1, 0, 1, 1, 1, 1, 1, 1, 1,\n",
            "        0, 0, 1, 1, 1, 1, 1, 1, 0, 1, 0, 1, 1, 1, 0, 1, 1, 0, 1, 1, 1, 0, 1, 0,\n",
            "        1, 1, 1, 0, 1, 0, 1, 1, 0, 2, 0, 0, 0, 2, 2, 1], device='cuda:0'), tensor([1, 0, 0, 0, 0, 0, 0, 0, 0, 1, 0, 0, 0, 0, 2, 1, 0, 0, 2, 0, 0, 0, 0, 0,\n",
            "        1, 1, 1, 0, 0, 1, 0, 0, 0, 0, 1, 0, 0, 0, 1, 0, 0, 0, 0, 0, 0, 2, 0, 2,\n",
            "        0, 0, 0, 0, 0, 0, 0, 0, 1, 0, 0, 2, 2, 0, 1, 0], device='cuda:0'), tensor([2, 0, 0, 0, 0, 0, 2, 0, 1, 0, 1, 0, 0, 0, 0, 0, 0, 0, 2, 0, 2, 0, 2, 0,\n",
            "        0, 2, 0, 0, 0, 0, 0, 0, 2, 0, 0, 0, 0, 0, 0, 0, 2, 0, 0, 0, 0, 0, 0, 0,\n",
            "        2, 0, 0, 0, 0, 0, 2, 2, 2, 0, 0, 0, 0, 2, 2, 0], device='cuda:0'), tensor([2, 0, 1, 0, 2, 2, 0, 0, 0, 0, 2, 0, 0, 0, 2, 0, 0, 0, 0, 0, 0, 0, 0, 0,\n",
            "        0, 0, 2, 0, 0, 0, 0, 0, 0, 0, 0, 0, 0, 0, 0, 0, 0, 0, 1, 0, 0, 0, 0, 0,\n",
            "        0, 0, 0, 0, 0, 0, 0, 0, 0, 0, 0, 0, 0, 2, 0, 0], device='cuda:0'), tensor([0, 0, 0, 0, 2, 0, 0, 0, 2, 0, 0, 0, 0, 0, 0, 0, 0, 0, 0, 0, 0, 0, 0, 0,\n",
            "        0, 0, 0, 0, 0, 0, 0, 0, 0, 2, 2, 0, 0, 2, 0, 2, 0, 2, 2, 2, 2, 0, 0, 2,\n",
            "        0, 2, 0, 0, 2, 0, 0, 0, 2, 0, 2, 1, 0, 0, 0, 0], device='cuda:0'), tensor([0, 0, 0, 2, 0, 0, 0, 0, 2, 0, 1, 0, 0, 0, 0, 0, 0, 0, 0, 0, 0, 0, 0, 0,\n",
            "        0, 0, 1, 1, 1, 0, 0, 0, 1, 0, 0, 2, 0, 0, 0, 1, 0, 0, 0, 0, 0, 1, 0, 0,\n",
            "        0, 0, 0, 0, 0, 1, 0, 0, 0, 1, 0, 0, 0, 0, 0, 0], device='cuda:0'), tensor([1, 2, 0, 0, 1, 1, 1, 1, 0, 0, 0, 0, 0, 0, 1, 1, 0, 2, 2, 1, 0, 0, 0, 0,\n",
            "        0, 0, 1, 0, 0, 1, 0, 0, 0, 0, 0, 0, 1, 0, 1, 0, 0, 0, 2, 0, 0, 2, 0, 2,\n",
            "        0, 0, 0, 0, 0, 0, 0, 1, 0, 0, 0, 2, 0, 0, 0, 0], device='cuda:0'), tensor([0, 2, 0, 0, 0, 0, 0, 0, 0, 0, 0, 0, 0, 0, 0, 0, 0, 0, 1, 0, 0, 2, 0, 0,\n",
            "        0, 2, 2, 0, 2, 0, 2, 0, 0, 2, 0, 2, 2, 0, 0, 0, 2, 0, 2, 0, 2, 0, 2, 2,\n",
            "        2, 2, 2, 2, 0, 0, 2, 2, 0, 0, 2, 0, 2, 0, 0, 2], device='cuda:0'), tensor([1, 2, 2, 0, 0, 2, 1, 1, 0, 0, 0, 2, 2, 2, 0, 2, 2, 2, 2, 0, 0, 0, 2, 2,\n",
            "        0, 0, 2, 2, 2, 0, 0, 0, 2, 0, 0, 0, 0, 0, 0, 0, 1, 0, 0, 0, 0, 0, 0, 0,\n",
            "        1, 2, 0, 0, 0, 0, 2, 0, 0, 2, 2, 0, 0, 2, 0, 0], device='cuda:0'), tensor([1, 1, 2, 0, 2, 1, 0, 2, 0, 2, 0, 2, 2, 0, 0, 0, 2, 0, 0, 2, 0, 0, 2, 0,\n",
            "        0, 2, 0, 0, 2, 0, 0, 0, 0, 2, 0, 0, 0, 2, 2, 0, 2, 0, 0, 0, 0, 0, 1, 2,\n",
            "        0, 0, 2, 0, 0, 2, 0, 0, 1, 0, 0, 0, 0, 0, 2, 0], device='cuda:0'), tensor([0, 0, 0, 0, 0, 0, 0, 0, 0, 2, 1, 0, 1, 1, 1, 1, 1, 0, 0, 1, 1, 0, 0, 0,\n",
            "        0, 0, 0, 1, 1, 1, 0, 0, 0, 0, 0, 1, 2, 0, 0, 0, 0, 0, 0, 0, 0, 0, 0, 0,\n",
            "        2, 0, 0, 1, 0, 0, 0, 0, 0, 2, 0, 1, 0, 0, 0, 0], device='cuda:0'), tensor([0, 1, 0, 0, 0, 0, 0, 0, 0, 0, 1, 0, 1, 0, 2, 0, 0, 0, 0, 0, 0, 1, 0, 0,\n",
            "        0, 1, 1, 0, 1, 0, 0, 0, 0, 1, 0, 0, 0, 0, 0, 0, 0, 0, 0, 0, 0, 1, 1, 1,\n",
            "        1, 2, 1, 0, 0, 0, 0, 0, 0, 1, 0, 1, 1, 2, 1, 0], device='cuda:0'), tensor([1, 0, 1, 0, 0, 2, 1, 1, 0, 1, 1, 1, 0, 0, 0, 0, 0, 0, 0, 1, 1, 0, 1, 0,\n",
            "        1, 1, 0, 0, 2, 1, 1, 0, 0, 0, 1, 0, 0, 0, 0, 0, 0, 0, 1, 0, 0, 0, 0, 0,\n",
            "        1, 0, 0, 0, 0, 0, 0, 0, 2, 0, 0, 2, 0, 2, 0, 0], device='cuda:0'), tensor([0, 0, 0, 0, 0, 0, 2, 2, 0, 0, 2, 1, 0, 0, 0, 2, 0, 0, 0, 0, 0, 0, 0, 0,\n",
            "        0, 0, 2, 0, 0, 0, 0, 0, 0, 1, 0, 0, 0, 0, 0, 0, 0, 0, 0, 0, 0, 0, 0, 0,\n",
            "        0, 0, 0, 0, 0, 0, 0, 0, 0, 0, 0, 0, 1, 0, 0, 0], device='cuda:0'), tensor([2, 2, 2, 2, 2, 2, 2, 0, 1, 2, 2, 2, 1, 2, 0, 0, 0, 0, 2, 0, 2, 0, 0, 1,\n",
            "        0, 0, 0, 0, 0, 2, 0, 0, 0, 0, 0, 0, 0, 0, 1, 1, 2, 2, 0, 0, 0, 0, 0, 0,\n",
            "        0, 0, 0, 2, 0, 2, 0, 0, 0, 0, 0, 2, 0, 1, 0, 0], device='cuda:0'), tensor([0, 0, 0, 0, 0, 0, 2, 0, 0, 0, 2, 2, 0, 0, 2, 2, 0, 0, 0, 0, 0, 2, 0, 0,\n",
            "        0, 2, 0, 0, 0, 0, 0, 0, 1, 2, 2, 0, 0, 0, 0, 2, 1, 2, 0, 0, 0, 0, 0, 2,\n",
            "        2, 2, 0, 1, 0, 2, 0, 0, 0, 0, 0, 2, 2, 0, 0, 1], device='cuda:0'), tensor([0, 0, 0, 0, 1, 0, 2, 0, 0, 0, 0, 2, 0, 0, 0, 0, 0, 0, 0, 1, 2, 0, 0, 0,\n",
            "        0, 2, 2, 0, 0, 0, 2, 0, 0, 0, 1, 0, 0, 0, 0, 0, 0, 0, 1, 1, 0, 0, 0, 0,\n",
            "        0, 0, 0, 0, 0, 0, 0, 0, 0, 0, 0, 0, 0, 0, 0, 0], device='cuda:0'), tensor([0, 0, 0, 0, 0, 0, 0, 0, 1, 0, 2, 1, 0, 0, 0, 0, 0, 0, 1, 0, 0, 0, 0, 2,\n",
            "        0, 1, 0, 0, 0, 0, 0, 0, 0, 1, 0, 1, 0, 0, 0, 0, 0, 0, 0, 0, 0, 0, 0, 0,\n",
            "        2, 0, 0, 0, 0, 0, 0, 1, 0, 0, 1, 0, 0, 0, 0, 0], device='cuda:0'), tensor([0, 0, 1, 1, 1, 0, 0, 0, 0, 0, 1, 1, 0, 0, 0, 1, 0, 0, 0, 0, 1, 0, 0, 0,\n",
            "        0, 0, 0, 0, 0, 0, 0, 0, 0, 0, 0, 0, 0, 1, 0, 0, 0, 0, 0, 0, 0, 0, 0, 0,\n",
            "        0, 0, 0, 0, 0, 0, 0, 0, 0, 0, 0, 0, 0, 0, 0, 0], device='cuda:0'), tensor([0, 0, 0, 2, 0, 0, 0, 0, 0, 0, 0, 0, 0, 0, 0, 0, 0, 0, 0, 0, 2, 0, 0, 2,\n",
            "        0, 0, 0, 0, 2, 0, 0, 0, 0, 0, 0, 0, 0, 0, 0, 0, 0, 2, 0, 0, 0, 0, 0, 0,\n",
            "        0, 0, 2, 2, 0, 0, 2, 2, 0, 2, 0, 0, 0, 0, 1, 2], device='cuda:0'), tensor([1, 0, 0, 0, 0, 0, 0, 0, 0, 0, 0, 0, 0, 2, 0, 0, 0, 0, 0, 0, 0, 0, 0, 0,\n",
            "        0, 0, 0, 0, 0, 0, 0, 0, 0, 1, 0, 1, 0, 0, 0, 0, 2, 0, 0, 0, 0, 0, 0, 0,\n",
            "        0, 0, 0, 0, 0, 0, 0, 0, 2, 0, 0, 0, 0, 0, 0, 0], device='cuda:0'), tensor([0, 0, 1, 0, 0, 1, 0, 1, 1, 1, 0, 0, 0, 1, 0, 1, 1, 1, 1, 2, 0, 0, 0, 0,\n",
            "        1, 0, 0, 1, 0, 0, 0, 1, 2, 0, 0, 2, 0, 0, 0, 0, 2, 2, 0, 0, 0, 1, 0, 1,\n",
            "        2, 1, 0, 0, 0, 1, 1, 0, 0, 2, 0, 0, 0, 0, 0, 0], device='cuda:0'), tensor([2, 0, 2, 0, 0, 2, 2, 0, 2, 1, 0, 0, 0, 0, 1, 1, 1, 2, 1, 0, 0, 2, 1, 0,\n",
            "        0, 0, 0, 0, 1, 0, 2, 1, 0, 0, 0, 0, 0, 2, 2, 0, 0, 0, 0, 0, 0, 0, 1, 0,\n",
            "        1, 0, 2, 1, 0, 0, 0, 0, 0, 0, 0, 0, 0, 0, 0, 0], device='cuda:0'), tensor([0, 2, 0, 0, 2, 2, 0, 2, 2, 0, 1, 2, 1, 0, 0, 0, 1, 0, 2, 2, 0, 2, 2, 0,\n",
            "        1, 2, 2, 0, 2, 0, 1, 2, 1, 0, 0, 1, 2, 0, 2, 2, 2, 0, 0, 0, 2, 1, 0, 0,\n",
            "        0, 2, 0, 1, 0, 0, 0, 0, 0, 0, 0, 0, 2, 0, 0, 0], device='cuda:0'), tensor([0, 0, 0, 0, 1, 0, 1, 1, 0, 1, 0, 1, 0, 0, 1, 0, 0, 0, 1, 2, 1, 1, 0, 1,\n",
            "        0, 0, 2, 0, 0, 0, 0, 1, 1, 1, 1, 1, 0, 1, 0, 1, 0, 2, 0, 0, 0, 1, 1, 0,\n",
            "        0, 0, 0, 2, 2, 0, 0, 0, 0, 0, 1, 0, 0, 0, 0, 1], device='cuda:0'), tensor([0, 0, 2, 0, 1, 0, 0, 2, 1, 2, 1, 0, 0, 0, 0, 0, 0, 0, 0, 0, 0, 0, 0, 0,\n",
            "        0, 0, 0, 0, 2, 2, 0, 0, 0, 2, 0, 0, 0, 2, 0, 0, 1, 0, 0, 0, 0, 2, 0, 0,\n",
            "        0, 0, 0, 2, 2, 0, 0, 0, 2, 0, 2, 2, 2, 0, 2, 0], device='cuda:0'), tensor([2, 0, 0, 0, 2, 0, 2, 0, 0, 0, 0, 0, 2, 2, 0, 0, 0, 0, 0, 2, 0, 0, 0, 0,\n",
            "        0, 0, 0, 0, 0, 0, 2, 0, 0, 0, 0, 0, 0, 0, 0, 0, 0, 0, 0, 0, 2, 2, 2, 2,\n",
            "        2, 0, 0, 0, 0, 2, 2, 2, 2, 0, 2, 0, 0, 0, 0, 2], device='cuda:0'), tensor([2, 2, 2, 2, 2, 2, 2, 2, 2, 2, 2, 2, 2, 0, 0, 2, 0, 2, 2, 2, 0, 2, 2, 2,\n",
            "        2, 0, 2, 0, 2, 2, 0, 2, 2, 0, 2, 2, 2, 2, 2, 2, 2, 2, 0, 2, 0, 0, 2, 0,\n",
            "        2, 2, 2, 0, 2, 2, 2, 2, 2, 0, 0, 2, 2, 2, 2, 2], device='cuda:0'), tensor([2, 0, 0, 2, 2, 2, 2, 2, 2, 2, 2, 2, 2, 0, 0, 0, 0, 0, 0, 2, 0, 0, 0, 2,\n",
            "        0, 0, 0, 0, 0, 2, 2, 0, 2, 0, 0, 0, 0, 0, 1, 1, 0, 0, 2, 1, 1, 1, 0, 1,\n",
            "        1, 1, 0, 1, 0, 0, 0, 0, 2, 0, 0, 0, 0, 0, 0, 2], device='cuda:0'), tensor([0, 0, 0, 0, 0, 0, 0, 0, 0, 0, 0, 0, 0, 0, 0, 0, 0, 0, 0, 0, 0, 0, 0, 0,\n",
            "        0, 0, 0, 0, 0, 0, 0, 0, 0, 0, 0, 0, 0, 0, 0, 0, 0, 0, 0, 0, 0, 0, 1, 0,\n",
            "        0, 1, 0, 0, 0, 0, 0, 2, 0, 0, 0, 0, 0, 2, 0, 0], device='cuda:0'), tensor([0, 1, 0, 0, 0, 0, 0, 0, 0, 0, 2, 0, 0, 0, 2, 0, 0, 0, 0, 0, 1, 2, 0, 0,\n",
            "        0, 0, 0, 0, 0, 0, 0, 0, 0, 0, 0, 0, 0, 0, 0, 0, 0, 0, 0, 0, 0, 0, 2, 0,\n",
            "        2, 0, 0, 0, 0, 0, 1, 0, 2, 0, 0, 1, 0, 0, 0, 0], device='cuda:0'), tensor([1, 0, 0, 0, 0, 0, 0, 0, 0, 0, 0, 0, 0, 0, 0, 0, 0, 0, 0, 0, 2, 1, 0, 0,\n",
            "        1, 0, 0, 0, 0, 0, 1, 1, 1, 1, 0, 0, 0, 0, 0, 0, 1, 0, 0, 1, 1, 1, 0, 1,\n",
            "        1, 0, 0, 1, 0, 1, 0, 0, 1, 1, 0, 1, 0, 0, 1, 1], device='cuda:0'), tensor([0, 0, 0, 0, 1, 1, 1, 1, 0, 1, 1, 0, 0, 0, 0, 0, 0, 0, 0, 2, 2, 2, 0, 2,\n",
            "        1, 2, 0, 0, 2, 2, 2, 1, 2, 2, 0, 0, 1, 1, 1, 0, 2, 1, 0, 0, 0, 2, 2, 0,\n",
            "        1, 2, 1, 2, 0, 0, 0, 2, 0, 0, 0, 0, 1, 0, 1, 1], device='cuda:0'), tensor([0, 0, 1, 0, 2, 2, 2, 1, 2, 0, 0, 0, 0, 1, 1, 1, 1, 1, 0, 1, 1, 0, 0, 0,\n",
            "        0, 0, 0, 0, 0, 0, 0, 0, 0, 0, 0, 0, 0, 0, 0, 0, 0, 0, 0, 0, 0, 0, 0, 0,\n",
            "        0, 0, 0, 0, 2, 0, 0, 1, 0, 0, 0, 0, 2, 0, 0, 0], device='cuda:0'), tensor([0, 2, 2, 0, 0, 0, 0, 2, 0, 1, 2, 2, 0, 0, 2, 0, 0, 0, 0, 0, 2, 0, 0, 0,\n",
            "        0, 2, 0, 0, 0, 0, 0, 0, 0, 0, 0, 0, 1, 0, 1, 0, 0, 1, 2, 1, 0, 0, 1, 0,\n",
            "        0, 0, 0, 0, 1, 0, 0, 0, 0, 1, 0, 0, 0, 1, 0, 1], device='cuda:0'), tensor([0, 0, 0, 0, 0, 0, 1, 1, 0, 2, 0, 0, 0, 2, 0, 0, 2, 0, 0, 0, 0, 0, 0, 0,\n",
            "        0, 0, 0, 0, 0, 2, 0, 0, 0, 0, 0, 0, 0, 0, 0, 0, 0, 0, 0, 2, 0, 0, 0, 0,\n",
            "        0, 2, 0, 0, 0, 0, 0, 2, 0, 0, 0, 0, 0, 1, 0, 0], device='cuda:0'), tensor([0, 0, 0, 2, 0, 2, 0, 0, 0, 0, 1, 0, 0, 0, 0, 0, 1, 2, 0, 0, 0, 0, 0, 0,\n",
            "        0, 2, 2, 0, 0, 0, 0, 0, 0, 0, 0, 0, 0, 0, 2, 2, 0, 0, 1, 0, 0, 2, 0, 1,\n",
            "        0, 0, 0, 1, 2, 0, 0, 2, 2, 1, 2, 0, 2, 2, 0, 0], device='cuda:0'), tensor([0, 0, 2, 0, 2, 0, 0, 2, 0, 2, 0, 0, 2, 1, 2, 0, 0, 0, 1, 2, 0, 0, 0, 0,\n",
            "        0, 0, 0, 2, 2, 0, 2, 0, 0, 1, 0, 0, 0, 0, 0, 1, 2, 0, 0, 0, 0, 2, 0, 0,\n",
            "        0, 0, 1, 1, 1, 1, 1, 0, 0, 1, 1, 1, 1, 0, 1, 1], device='cuda:0'), tensor([0, 1, 0, 1, 1, 0, 0, 2, 0, 1, 0, 1, 0, 0, 0, 0, 1, 1, 2, 0, 0, 1, 1, 0,\n",
            "        0, 2, 0, 1, 1, 0, 0, 0, 2, 0, 0, 2, 1, 0, 2, 1, 0, 0, 0, 0, 0, 0, 0, 2,\n",
            "        0, 1, 1, 0, 0, 1, 0, 0, 1, 2, 1, 1, 1, 2, 0, 0], device='cuda:0'), tensor([0, 0, 0, 2, 0, 2, 1, 0, 0, 2, 2, 2, 0, 2, 2, 0, 0, 0, 0, 2, 1, 1, 0, 0,\n",
            "        2, 0, 0, 0, 0, 2, 0, 0, 0, 0, 0, 0, 2, 2, 1, 0, 0, 0, 2, 0, 0, 2, 1, 0,\n",
            "        0, 2, 0, 0, 0, 0, 0, 0, 0, 2, 1, 0, 0, 0, 0, 0], device='cuda:0'), tensor([2, 0, 0, 0, 0, 2, 0, 2, 0, 0, 0, 0, 2, 0, 0, 0, 0, 0, 0, 2, 1, 0, 0, 0,\n",
            "        0, 2, 2, 0, 0, 0, 0, 0, 0, 0, 0, 0, 0, 0, 2, 0, 0, 0, 0, 0, 0, 0, 0, 0,\n",
            "        0, 0, 0, 0, 1, 0, 0, 0, 0, 0, 0, 0, 0, 0, 2, 1], device='cuda:0'), tensor([0, 0, 0, 0, 0, 0, 0, 0, 2, 2, 0, 0, 0, 0, 0, 2, 2, 2, 0, 0, 2, 2, 0, 0,\n",
            "        0, 1, 0, 2, 2, 0, 0, 1, 2, 0, 0, 0, 0, 0, 0, 0, 0, 0, 1, 0, 1, 0, 0, 0,\n",
            "        0, 2, 2, 0, 0, 0, 0, 1, 1, 1, 0, 1, 0, 0, 0, 0], device='cuda:0'), tensor([0, 0, 0, 0, 0, 0, 0, 0, 0, 0, 0, 0, 0, 0, 0, 0, 0, 0, 0, 0, 0, 0, 0, 0,\n",
            "        0, 0, 0, 0, 2, 0, 0, 0, 0, 0, 0, 0, 0, 2, 0, 0, 1, 2, 0, 0, 0, 0, 0, 0,\n",
            "        0, 0, 0, 1, 0, 0, 0, 0, 0, 0, 2, 1, 0, 2, 1, 0], device='cuda:0'), tensor([0, 2, 0, 1, 0, 1, 0, 0, 0, 1, 0, 0, 0, 0, 0, 0, 0, 1, 1, 0, 0, 1, 1, 0,\n",
            "        0, 0, 0, 1, 1, 0, 1, 0, 0, 0, 0, 0, 1, 0, 1, 1, 0, 0, 2, 1, 0, 1, 0, 0,\n",
            "        2, 0, 0, 0, 0, 0, 0, 0, 0, 0, 0, 0, 2, 0, 0, 0], device='cuda:0'), tensor([0, 2, 0, 0, 0, 0, 0, 2, 2, 2, 0, 0, 2, 0, 2, 0, 0, 0, 0, 0, 2, 0, 0, 0,\n",
            "        0, 2, 0, 0, 0, 2, 0, 2, 0, 2, 0, 0, 0, 0, 0, 0, 0, 0, 2, 0, 0, 0, 2, 2,\n",
            "        0, 0, 0, 2, 2, 0, 0, 2, 0, 0, 0, 0, 0, 1, 0, 0], device='cuda:0'), tensor([0, 1, 0, 0, 0, 1, 0, 0, 0, 1, 1, 0, 2, 0, 1, 0, 0, 0, 1, 0, 0, 1, 2, 0,\n",
            "        2, 2, 0, 1, 0, 1, 1, 1, 0, 2, 1, 0, 0, 2, 1, 0, 1, 0, 0, 0, 0, 0, 1, 0,\n",
            "        1, 0, 0, 0, 1, 0, 0, 0, 0, 0, 0, 2, 2, 1, 1, 1], device='cuda:0'), tensor([0, 1, 2, 1, 1, 1, 0, 0, 0, 0, 0, 0, 0, 2, 2, 2, 1, 0, 2, 1, 1, 1, 1, 1,\n",
            "        1, 1, 1, 1, 1, 1, 0, 1, 1, 1, 1, 1, 1, 1, 1, 1, 1, 0, 1, 1, 1, 1, 1, 0,\n",
            "        1, 1, 2, 1, 1, 0, 0, 0, 1, 1, 0, 1, 0, 1, 1, 1], device='cuda:0'), tensor([1, 0, 1, 1, 1, 0, 0, 1, 0, 0, 0, 1, 0, 0, 0, 0, 0, 1, 0, 1, 2, 1, 0, 0,\n",
            "        0, 1, 0, 0, 0, 1, 0, 0, 0, 0, 0, 0, 0, 0, 0, 1, 0, 0, 0, 1, 1, 0, 0, 0,\n",
            "        0, 1, 1, 0, 1, 0, 1, 0, 0, 0, 0, 0, 0, 0, 2, 0], device='cuda:0'), tensor([2, 0, 0, 0, 0, 0, 1, 2, 0, 0, 0, 0, 0, 0, 0, 0, 2, 0, 0, 0, 0, 0, 2, 0,\n",
            "        2, 0, 0, 0, 2, 0, 0, 0, 0, 0, 0, 0, 0, 0, 2, 0, 0, 1, 0, 1, 0, 1, 0, 0,\n",
            "        0, 0, 0, 0, 1, 1, 0, 0, 0, 2, 1, 1, 2, 0, 0, 1], device='cuda:0'), tensor([0, 0, 0, 0, 0, 0, 0, 0, 0, 0, 0, 0, 0, 0, 0, 0, 0, 0, 0, 0, 1, 0, 1, 0,\n",
            "        1, 0, 0, 0, 0, 0, 2, 0, 0, 0, 0, 0, 0, 0, 0, 0, 2, 0, 0, 1, 0, 0, 0, 0,\n",
            "        1, 0, 0, 1, 0, 0, 0, 2, 0, 0, 0, 2, 0, 1, 1, 1], device='cuda:0'), tensor([0, 1, 2, 0, 0, 0, 0, 0, 0, 0, 0, 1, 0, 0, 0, 0, 1, 0, 0, 0, 0, 0, 0, 1,\n",
            "        1, 1, 0, 1, 2, 1, 0, 2, 0, 0, 0, 0, 1, 1, 2, 1, 1, 1, 1, 1, 1, 1, 1, 1,\n",
            "        2, 1, 1, 1, 1, 1, 2, 1, 0, 1, 0, 0, 1, 1, 1, 1], device='cuda:0'), tensor([2, 1, 1, 0, 0, 2, 2, 1, 1, 2, 1, 2, 1, 0, 1, 0, 2, 1, 1, 0, 1, 0, 1, 0,\n",
            "        0, 0, 1, 2, 2, 2, 2, 1, 0, 0, 0, 0, 0, 0, 0, 0, 0, 0, 0, 0, 2, 0, 0, 0,\n",
            "        0, 0, 0, 0, 0, 0, 0, 0, 2, 0, 0, 2, 0, 0, 2, 0], device='cuda:0'), tensor([0, 2, 0, 0, 0, 2, 0, 0, 1, 2, 0, 0, 1, 0, 1, 2, 1, 2, 0, 2, 0, 0, 0, 0,\n",
            "        0, 1, 0, 0, 2, 1, 1, 2, 2, 0, 0, 2, 1, 0, 1, 2, 2, 0, 0, 0, 1, 0, 0, 2,\n",
            "        1, 2, 0, 2, 0, 2, 0, 0, 0, 0, 0, 0, 0, 2, 0, 0], device='cuda:0'), tensor([2, 1, 2, 2, 0, 0, 0, 0, 2, 0, 2, 0, 1, 2, 0, 2, 0, 2, 0, 0, 2, 0, 0, 0,\n",
            "        0, 2, 2, 0, 2, 0, 0, 2, 2, 0, 1, 0, 0, 0, 0, 0, 0, 1, 0, 0, 2, 0, 0, 2,\n",
            "        0, 0, 0, 2, 0, 2, 1, 2, 0, 2, 2, 1, 2, 0, 0, 1], device='cuda:0'), tensor([0, 0, 1, 0, 0, 0, 2, 0, 0, 1, 0, 0, 2, 0, 0, 0, 2, 0, 0, 0, 0, 0, 0, 0,\n",
            "        0, 1, 0, 1, 2, 0, 2, 0, 2, 1, 2, 0, 0, 2, 0, 2, 0, 2, 0, 1, 2, 2, 1, 0,\n",
            "        0, 1, 1, 0, 0, 0, 2, 2, 0, 0, 1, 0, 2, 1, 0, 2], device='cuda:0'), tensor([2, 0, 2, 0, 1, 0, 0, 0, 0, 0, 2, 0, 0, 0, 0, 0, 0, 1, 0, 0, 0, 0, 1, 0,\n",
            "        1, 1, 1, 1, 0, 0, 0, 0, 0, 0, 0, 0, 0, 0, 0, 0, 1, 0, 1, 0, 0, 0, 0, 0,\n",
            "        1, 1, 0, 1, 1, 0, 0, 0, 0, 0, 0, 0, 0, 1, 0, 0], device='cuda:0'), tensor([0, 0, 0, 0, 0, 0, 0, 0, 0, 0, 2, 0, 0, 0, 0, 0, 2, 0, 0, 0, 0, 0, 0, 0,\n",
            "        0, 0, 0, 0, 0, 0, 0, 0, 0, 0, 0, 0, 0, 0, 0, 1, 0, 0, 1, 0, 0, 0, 0, 2,\n",
            "        0, 0, 0, 0, 0, 0, 0, 0, 0, 0, 0, 1, 0, 0, 1, 0], device='cuda:0'), tensor([2, 0, 0, 0, 1, 0, 0, 0, 0, 0, 2, 0, 2, 2, 0, 0, 0, 0, 0, 0, 0, 0, 0, 0,\n",
            "        0, 0, 0, 0, 0, 2, 0, 0, 1, 0, 0, 1, 2, 0, 2, 2, 2, 2, 2, 0, 0, 0, 0, 0,\n",
            "        0, 2, 1, 0, 0, 2, 0, 0, 0, 0, 0, 0, 0, 0, 0, 1], device='cuda:0'), tensor([1, 1, 0, 1, 0, 1, 1, 0, 0, 1, 0, 2, 2, 0, 0, 2, 0, 0, 1, 2, 1, 0, 2, 0,\n",
            "        2, 2, 0, 2, 0, 0, 0, 0, 0, 2, 0, 2, 2, 2, 2, 0, 2, 2, 2, 0, 2, 2, 2, 0,\n",
            "        2, 0, 0, 2, 2, 0, 0, 1, 0, 1, 0, 1, 1, 1, 0, 0], device='cuda:0'), tensor([0, 0, 1, 1, 0, 0, 0, 0, 2, 0, 0, 1, 0, 1, 0, 0, 0, 0, 1, 0, 0, 1, 1, 0,\n",
            "        0, 0, 1, 1, 2, 0, 1, 0, 0, 0, 2, 0, 0, 0, 0, 1, 1, 1, 0, 0, 0, 0, 1, 1,\n",
            "        0, 1, 0, 1, 0, 0, 0, 1, 0, 0, 0, 1, 1, 0, 0, 0], device='cuda:0'), tensor([1, 0, 1, 0, 1, 0, 1, 1, 0, 1, 1, 0, 0, 1, 0, 1, 1, 0, 1, 0, 0, 0, 1, 2,\n",
            "        0, 0, 0, 2, 1, 0, 1, 0, 1, 1, 1, 1, 0, 1, 0, 0, 0, 1, 0, 0, 0, 0, 2, 0,\n",
            "        0, 0, 0, 2, 0, 0, 0, 0, 0, 0, 2, 0, 1, 0, 2, 0], device='cuda:0'), tensor([0, 0, 2, 2, 0, 1, 2, 0, 0, 0, 0, 0, 1, 0, 1, 0, 2, 0, 0, 1, 0, 2, 0, 0,\n",
            "        0, 1, 0, 2, 0, 2, 0, 0, 2, 0, 1, 0, 0, 2, 0, 2, 0, 0, 0, 0, 0, 0, 0, 0,\n",
            "        0, 0, 0, 0, 1, 1, 1, 1, 1, 1, 1, 1, 1, 1, 0, 1], device='cuda:0'), tensor([1, 1, 1, 1, 1, 1, 1, 1, 0, 0, 1, 1, 0, 0, 1, 1, 1, 1, 1, 1, 1, 1, 1, 0,\n",
            "        1, 1, 1, 1, 1, 0, 1, 1, 1, 2, 2, 2, 1, 1, 1, 0, 1, 1, 1, 1, 1, 1, 1, 1,\n",
            "        1, 1, 2, 1, 0, 1, 0, 0, 1, 1, 1, 1, 0, 0, 1, 1], device='cuda:0'), tensor([1, 1, 1, 1, 0, 1, 1, 0, 1, 0, 2, 0, 2, 1, 1, 0, 1, 0, 1, 1, 1, 1, 1, 1,\n",
            "        1, 1, 1, 1, 1, 1, 1, 1, 1, 1, 1, 1, 1, 1, 0, 1, 1, 0, 0, 0, 0, 0, 0, 2,\n",
            "        2, 2, 0, 0, 1, 0, 0, 0, 0, 0, 1, 0, 0, 0, 0, 0], device='cuda:0'), tensor([0, 1, 0, 1, 2, 0, 0, 0, 0, 1, 0, 0, 1, 0, 0, 0, 0, 1, 0, 1, 1, 0, 0, 0,\n",
            "        0, 0, 0, 0, 0, 0, 0, 0, 0, 2, 0, 0, 0, 0, 0, 0, 1, 0, 0, 0, 0, 1, 2, 0,\n",
            "        0, 0, 0, 0, 0, 0, 0, 0, 0, 0, 0, 0, 1, 0, 2, 0], device='cuda:0'), tensor([0, 0, 0, 0, 0, 0, 2, 0, 0, 0, 0, 0, 0, 0, 0, 0, 0, 0, 0, 0, 2, 0, 0, 2,\n",
            "        0, 0, 1, 0, 0, 0, 0, 0, 0, 0, 0, 0, 0, 0, 0, 0, 0, 0, 0, 2, 0, 0, 0, 0,\n",
            "        0, 0, 0, 0, 0, 0, 0, 2, 0, 2, 0, 2, 0, 2, 2, 0], device='cuda:0'), tensor([2, 0, 0, 0, 0, 0, 0, 0, 0, 0, 0, 0, 2, 2, 0, 2, 0, 2, 2, 2, 0, 0, 0, 2,\n",
            "        0, 2, 2, 0, 0, 2, 2, 0, 0, 0, 0, 0, 0, 2, 0, 0, 0, 0, 0, 0, 2, 0, 0, 0,\n",
            "        0, 2, 0, 1, 0, 2, 0, 0, 0, 0, 0, 0, 2, 2, 0, 0], device='cuda:0'), tensor([2, 0, 0, 2, 0, 2, 1, 1, 1, 0, 2, 0, 1, 1, 0, 1, 0, 0, 0, 1, 1, 1, 1, 1,\n",
            "        2, 1, 1, 1, 1, 0, 0, 0, 0, 0, 0, 1, 1, 2, 0, 1, 2, 2, 0, 0, 1, 0, 0, 0,\n",
            "        1, 1, 1, 0, 0, 0, 0, 2, 1, 0, 2, 0, 0, 1, 1, 0], device='cuda:0'), tensor([1, 1, 2, 2, 0, 1, 2, 0, 0, 2, 0, 0, 0, 2, 1, 2, 1, 2, 0, 2, 0, 0, 0, 0,\n",
            "        2, 0, 2, 0, 2, 0, 0, 0, 0, 0, 0, 2, 0, 0, 0, 1, 1, 1, 1, 1, 1, 1, 0, 1,\n",
            "        2, 0, 1, 0, 0, 0, 1, 0, 0, 0, 0, 0, 0, 0, 1, 1], device='cuda:0'), tensor([0, 1, 2, 1, 2, 0, 2, 1, 1, 0, 1, 0, 1, 0, 0, 1, 2, 0, 1, 1, 1, 2, 1, 1,\n",
            "        1, 1, 1, 0, 0, 0, 0, 0, 0, 0, 0, 0, 0, 0, 0, 0, 0, 0, 0, 0, 0, 0, 2, 0,\n",
            "        0, 0, 0, 0, 0, 0, 0, 2, 1, 0, 0, 0, 2, 2, 2, 0], device='cuda:0'), tensor([2, 1, 2, 0, 0, 0, 0, 0, 1, 2, 1, 0, 0, 1, 0, 1, 0, 0, 0, 0, 2, 1, 0, 0,\n",
            "        0, 1, 2, 0, 0, 0, 0, 0, 0, 1, 1, 2, 0, 1, 0, 0, 0, 0, 0, 0, 0, 2, 2, 2,\n",
            "        0, 2, 0, 1, 1, 1, 1, 1, 1, 1, 1, 1, 0, 0, 2, 0], device='cuda:0'), tensor([0, 0, 0, 0, 0, 0, 0, 0, 0, 1, 1, 1, 0, 0, 0, 0, 0, 0, 0, 0, 0, 0, 0, 0,\n",
            "        0, 0, 0, 0, 0, 0, 0, 0, 0, 0, 0, 0, 0, 0, 0, 0, 0, 0, 0, 0, 0, 0, 0, 0,\n",
            "        0, 0, 0, 0, 0, 2, 0, 0, 0, 0, 0, 0, 0, 0, 0, 0], device='cuda:0'), tensor([0, 0, 0, 0, 0, 0, 0, 0, 0, 0, 0, 2, 0, 2, 2, 2, 2, 2, 2, 0, 0, 1, 1, 0,\n",
            "        0, 0, 0, 1, 1, 0, 0, 1, 1, 1, 1, 0, 1, 1, 0, 1, 0, 1, 1, 0, 1, 0, 0, 1,\n",
            "        1, 0, 1, 1, 1, 0, 1, 0, 1, 0, 1, 2, 0, 1, 0, 0], device='cuda:0'), tensor([1, 0, 0, 1, 1, 0, 1, 1, 0, 0, 0, 0, 0, 1, 1, 0, 1, 1, 0, 1, 1, 1, 1, 0,\n",
            "        1, 2, 2, 2, 1, 1, 1, 1, 1, 0, 1, 1, 1, 2, 1, 1, 1, 0, 1, 1, 0, 0, 0, 2,\n",
            "        0, 2, 1, 1, 2, 2, 0, 0, 1, 1, 2, 0, 0, 0, 1, 1], device='cuda:0'), tensor([1, 0, 0, 2, 2, 0, 0, 2, 0, 0, 2, 0, 0, 0, 0, 0, 1, 0, 0, 1, 0, 0, 0, 0,\n",
            "        0, 2, 1, 1, 1, 0, 0, 0, 0, 0, 0, 0, 1, 0, 0, 0, 0, 0, 0, 0, 0, 0, 0, 0,\n",
            "        0, 0, 0, 0, 0, 0, 2, 0, 2, 0, 0, 0, 0, 0, 2, 0], device='cuda:0'), tensor([0, 0, 0, 0, 0, 1, 0, 1, 0, 1, 0, 1, 0, 1, 0, 2, 2, 0, 0, 0, 1, 0, 0, 0,\n",
            "        2, 0, 0, 0, 0, 0, 1, 0, 0, 0, 0, 0, 0, 0, 1, 1, 1, 1, 0, 2, 0, 0, 0, 1,\n",
            "        0, 0, 1, 0, 0, 0, 0, 0, 0, 0, 0, 0, 0, 2, 0, 2], device='cuda:0'), tensor([0, 2, 2, 0, 2, 0, 0, 0, 0, 2, 0, 0, 2, 2, 2, 2, 0, 0, 0, 0, 0, 0, 0, 0,\n",
            "        0, 0, 2, 0, 0, 0, 0, 2, 0, 0, 0, 2, 0, 1, 0, 2, 0, 0, 0, 0, 2, 0, 0, 0,\n",
            "        0, 0, 0, 2, 2, 0, 1, 1, 2, 2, 0, 1, 2, 2, 1, 1], device='cuda:0'), tensor([0, 1, 1, 1, 1, 1, 1, 0, 2, 1, 0, 2, 2, 1, 0, 0, 0, 0, 1, 0, 0, 0, 2, 0,\n",
            "        0, 0, 0, 2, 1, 1, 0, 0, 2, 1, 1, 2, 0, 0, 0, 0, 0, 0, 2, 1, 1, 1, 1, 0,\n",
            "        1, 1, 2, 0, 0, 2, 0, 0, 2, 0, 0, 2, 2, 2, 0, 2], device='cuda:0'), tensor([0, 2, 0, 2, 2, 0, 0, 2, 0, 2, 2, 0, 0, 0, 0, 0, 2, 0, 2, 0, 0, 0, 0, 0,\n",
            "        1, 0, 0, 0, 2, 0, 0, 0, 0, 0, 2, 0, 0, 0, 1, 0, 0, 1, 0, 1, 0, 2, 0, 0,\n",
            "        0, 2, 0, 0, 0, 0, 0, 0, 0, 0, 0, 0, 0, 0, 0, 0], device='cuda:0'), tensor([0, 0, 1, 0, 0, 0, 2, 0, 0, 0, 0, 0, 0, 0, 0, 0, 0, 0, 0, 0, 0, 2, 0, 1,\n",
            "        0, 0, 0, 0, 0, 0, 0, 0, 2, 2, 0, 2, 2, 2, 2, 2, 2, 2, 2, 2, 0, 2, 0, 0,\n",
            "        0, 0, 0, 0, 0, 0, 0, 0, 0, 0, 0, 0, 0, 0, 0, 0], device='cuda:0'), tensor([0, 0, 0, 0, 0, 0, 0, 2, 2, 0, 0, 0, 0, 0, 0, 0, 0, 0, 0, 1, 0, 0, 1, 1,\n",
            "        0, 1, 0, 0, 1, 0, 1, 0, 1, 0, 1, 1, 1, 0, 1, 0, 1, 0, 0, 0, 0, 2, 0, 0,\n",
            "        0, 1, 1, 0, 1, 0, 2, 0, 2, 1, 1, 1, 1, 1, 0, 1], device='cuda:0'), tensor([0, 1, 2, 1, 1, 0, 1, 1, 0, 0, 0, 0, 1, 0, 0, 1, 0, 0, 2, 1, 0, 0, 0, 0,\n",
            "        1, 0, 0, 0, 0, 0, 1, 0, 2, 0, 2, 0, 1, 1, 1, 0, 0, 0, 0, 2, 0, 1, 0, 0,\n",
            "        0, 0, 0, 0, 0, 0, 0, 0, 0, 0, 0, 0, 0, 2, 0, 2], device='cuda:0'), tensor([0, 0, 0, 2, 2, 0, 2, 0, 1, 2, 2, 0, 2, 0, 0, 0, 0, 2, 0, 2, 0, 2, 1, 0,\n",
            "        2, 2, 2, 0, 0, 0, 0, 0, 1, 0, 0, 0, 0, 0, 0, 0, 0, 0, 0, 0, 2, 2, 0, 2,\n",
            "        0, 0, 0, 0, 0, 0, 0, 0, 0, 0, 0, 0, 0, 2, 0, 0], device='cuda:0'), tensor([2, 0, 0, 0, 0, 0, 0, 2, 0, 2, 0, 2, 0, 0, 2, 0, 2, 2, 2, 2, 0, 2, 0, 0,\n",
            "        2, 0, 2, 0, 2, 2, 0, 0, 0, 0, 0, 0, 0, 0, 0, 0, 0, 0, 0, 0, 2, 0, 0, 2,\n",
            "        2, 0, 0, 2, 0, 0, 2, 0, 0, 1, 0, 2, 0, 0, 0, 2], device='cuda:0'), tensor([0, 0, 2, 2, 2, 0, 1, 2, 0, 1, 0, 2, 0, 0, 0, 2, 0, 0, 0, 2, 0, 0, 1, 2,\n",
            "        0, 0, 1, 0, 0, 1, 0, 0, 1, 2, 0, 0, 2, 0, 1, 2, 2, 0, 0, 0, 1, 0, 0, 1,\n",
            "        0, 1, 0, 0, 0, 0, 0, 0, 0, 0, 2, 2, 0, 0, 0, 1], device='cuda:0'), tensor([0, 1, 0, 2, 0, 0, 2, 0, 0, 0, 2, 2, 0, 0, 0, 2, 0, 0, 0, 1, 1, 0, 1, 1,\n",
            "        0, 0, 0, 0, 2, 2, 0, 2, 0, 2, 0, 0, 1, 1, 1, 1, 1, 0, 0, 0, 0, 1, 0, 0,\n",
            "        0, 0, 0, 0, 0, 0, 0, 0, 0, 0, 0, 0, 0, 0, 2, 0], device='cuda:0'), tensor([0, 0, 0, 0, 0, 0, 2, 0, 2, 0, 0, 0, 2, 0, 0, 0, 1, 0, 0, 0, 2, 0, 0, 0,\n",
            "        0, 2, 0, 0, 0, 0, 0, 0, 0, 0, 0, 2, 2, 1, 0, 2, 0, 2, 0, 0, 0, 0, 0, 0,\n",
            "        1, 0, 2, 0, 1, 0, 0, 0, 0, 0, 0, 0, 0, 1, 2, 0], device='cuda:0'), tensor([2, 2, 0, 2, 0, 2, 2, 2, 2, 0, 2, 2, 2, 0, 0, 2, 2, 2, 2, 2, 2, 0, 2, 1,\n",
            "        1, 0, 2, 2, 2, 0, 0, 2, 2, 0, 2, 0, 2, 0, 0, 0, 0, 2, 0, 2, 0, 0, 0, 2,\n",
            "        0, 0, 0, 2, 2, 2, 0, 0, 0, 2, 2, 2, 2, 2, 0, 2], device='cuda:0'), tensor([0, 2, 2, 0, 0, 0, 0, 0, 0, 0, 0, 0, 0, 1, 1, 0, 0, 2, 2, 0, 2, 0, 0, 0,\n",
            "        2, 0, 2, 0, 0, 0, 2, 2, 2, 2, 0, 0, 2, 0, 0, 2, 1, 2, 0, 0, 0, 0, 0, 0,\n",
            "        0, 0, 0, 0, 0, 0, 0, 0, 0, 0, 0, 0, 1, 0, 0, 0], device='cuda:0'), tensor([0, 0, 1, 0, 0, 0, 0, 0, 0, 2, 0, 1, 0, 0, 0, 0, 0, 1, 0, 0, 0, 2, 2, 2,\n",
            "        2, 0, 0, 0, 0, 0, 0, 0, 0, 1, 0, 0, 1, 1, 0, 0, 1, 0, 0, 0, 0, 0, 0, 0,\n",
            "        2, 0, 0, 2, 2, 0, 0, 0, 2, 0, 2, 2, 2, 0, 1, 2], device='cuda:0'), tensor([0, 2, 2, 2, 0, 2, 0, 2, 2, 2, 0, 0, 2, 2, 2, 0, 2, 2, 2, 2, 0, 1, 1, 0,\n",
            "        1, 2, 0, 1, 0, 2, 2, 2, 2, 2, 2, 2, 2, 2, 0, 2, 2, 2, 2, 0, 0, 0, 0, 0,\n",
            "        0, 1, 0, 0, 1, 0, 1, 1, 0, 1, 0, 1, 1, 1, 2, 1], device='cuda:0'), tensor([1, 1, 1, 0, 0, 0, 0, 0, 0, 0, 2, 0, 0, 0, 0, 0, 0, 0, 2, 0, 0, 0, 0, 0,\n",
            "        2, 0, 2, 0, 2, 0, 0, 0, 0, 0, 0, 0, 0, 0, 0, 0, 0, 0, 0, 0, 1, 0, 0, 0,\n",
            "        2, 0, 2, 0, 0, 0, 0, 0, 2, 1, 2, 0, 0, 0, 1, 0], device='cuda:0'), tensor([0, 0, 2, 0, 1, 0, 0, 0, 0, 0, 0, 0, 0, 0, 2, 2, 2, 0, 2, 0, 0, 2, 2, 0,\n",
            "        2, 2, 2, 1, 2, 2, 2, 0, 0, 0, 2, 2, 0, 1, 0, 0, 2, 2, 0, 0, 0, 0, 1, 0,\n",
            "        1, 1, 1, 2, 0, 0, 1, 0, 1, 0, 0, 1, 1, 1, 1, 1], device='cuda:0'), tensor([1, 1, 0, 0, 1, 0, 0, 0, 0, 0, 0, 0, 1, 0, 0, 1, 0, 0, 0, 0, 1, 2, 2, 0,\n",
            "        0, 0, 0, 2, 0, 1, 1, 0, 0, 2, 0, 0, 0, 0, 0, 2, 2, 0, 0, 0, 1, 1, 2, 0,\n",
            "        0, 0, 0, 0, 1, 2, 1, 1, 1, 1, 0, 0, 0, 0, 0, 1], device='cuda:0'), tensor([0, 1, 0, 0, 0, 2, 0, 0, 0, 0, 0, 0, 2, 0, 0, 2, 0, 2, 2, 2, 0, 0, 0, 1,\n",
            "        0, 0, 0, 1, 0, 0, 0, 0, 0, 0, 0, 0, 0, 0, 0, 0, 0, 0, 2, 0, 2, 0, 2, 2,\n",
            "        0, 2, 0, 0, 1, 0, 0, 0, 0, 0, 1, 1, 1, 1, 0, 1], device='cuda:0'), tensor([0, 0, 0, 2, 0, 0, 0, 0, 2, 0, 0, 0, 0, 0, 0, 0, 0, 2, 0, 0, 0, 2, 2, 2,\n",
            "        0, 2, 0, 0, 1, 0, 2, 2, 0, 0, 0, 1, 1, 0, 0, 0, 0, 0, 0, 0, 1, 0, 0, 1,\n",
            "        0, 0, 0, 2, 0, 0, 1, 0, 0, 0, 0, 0, 0, 0, 0, 0], device='cuda:0'), tensor([0, 0, 0, 1, 0, 2, 1, 0, 2, 0, 0, 0, 0, 0, 0, 1, 0, 2, 0, 0, 0, 0, 2, 2,\n",
            "        0, 2, 1, 0, 0, 0, 0, 0, 0, 0, 0, 0, 0, 0, 0, 2, 1, 1, 1, 0, 0, 0, 0, 2,\n",
            "        1, 0, 0, 0, 0, 0, 0, 0, 0, 2, 0, 2, 0, 2, 0, 0], device='cuda:0'), tensor([2, 0, 0, 0, 1, 0, 2, 0, 2, 0, 0, 2, 0, 2, 0, 0, 2, 0, 2, 2, 0, 0, 0, 0,\n",
            "        0, 2, 0, 0, 2, 0, 0, 0, 0, 0, 0, 0, 0, 0, 2, 0, 2, 2, 0, 0, 0, 0, 0, 0,\n",
            "        2, 2, 0, 2, 0, 0, 2, 1, 2, 0, 2, 0, 2, 0, 0, 0], device='cuda:0'), tensor([0, 2, 0, 0, 0, 0, 0, 0, 0, 0, 0, 0, 0, 1, 0, 1, 0, 1, 1, 0, 1, 0, 0, 0,\n",
            "        0, 0, 0, 0, 0, 0, 0, 0, 0, 0, 0, 0, 0, 0, 0, 0, 0, 0, 0, 0, 0, 0, 0, 1,\n",
            "        0, 0, 0, 0, 0, 0, 0, 0, 0, 1, 0, 0, 0, 0, 0, 0], device='cuda:0'), tensor([0, 0, 2, 0, 0, 0, 0, 1, 0, 0, 1, 1, 0, 0, 0, 0, 1, 1, 0, 0, 2, 0, 0, 0,\n",
            "        0, 0, 0, 0, 0, 0, 0, 0, 2, 2, 0, 1, 0, 0, 0, 0, 0, 0, 0, 0, 0, 2, 2, 2,\n",
            "        0, 2, 0, 0, 0, 2, 2, 2, 2, 0, 2, 0, 1, 1, 2, 0], device='cuda:0'), tensor([0, 0, 0, 2, 2, 2, 0, 0, 0, 0, 0, 0, 0, 0, 2, 0, 2, 0, 0, 0, 0, 0, 0, 0,\n",
            "        0, 0, 0, 0, 1, 0, 1, 0, 0, 1, 2, 0, 1, 1, 1, 2, 0, 0, 0, 0, 2, 0, 2, 2,\n",
            "        0, 2, 0, 2, 2, 2, 0, 1, 0, 0, 1, 1, 0, 1, 0, 0], device='cuda:0'), tensor([1, 0, 0, 0, 2, 0, 0, 2, 0, 0, 2, 0, 0, 0, 0, 0, 0, 2, 1, 1, 1, 1, 0, 0,\n",
            "        0, 2, 0, 0, 2, 2, 2, 2, 2, 2, 0, 2, 2, 2, 2, 2, 2, 2, 0, 2, 2, 2, 1, 2,\n",
            "        2, 2, 2, 2, 0, 2, 2, 2, 0, 0, 0, 0, 0, 0, 0, 2], device='cuda:0'), tensor([0, 2, 2, 2, 0, 0, 1, 1, 0, 2, 0, 0, 0, 0, 0, 0, 2, 0, 0, 1, 0, 2, 0, 0,\n",
            "        0, 0, 0, 0, 0, 1, 0, 1, 0, 1, 1, 1, 1, 1, 1, 0, 0, 0, 1, 0, 0, 1, 1, 1,\n",
            "        1, 1, 0, 0, 0, 0, 0, 0, 0, 0, 2, 0, 0, 0, 0, 0], device='cuda:0'), tensor([0, 0, 0, 0, 1, 2, 0, 0, 1, 0, 0, 2, 1, 1, 1, 1, 1, 1, 1, 1, 1, 1, 1, 2,\n",
            "        0, 0, 1, 1, 1, 0, 1, 0, 0, 0, 0, 0, 1, 0, 0, 0, 1, 0, 1, 0, 1, 1, 0, 1,\n",
            "        0, 0, 0, 1, 0, 0, 0, 0, 0, 0, 0, 0, 2, 2, 0, 0], device='cuda:0'), tensor([0, 0, 0, 0, 2, 0, 0, 0, 1, 0, 0, 2, 0, 0, 0, 0, 0, 0, 0, 0, 0, 0, 0, 2,\n",
            "        0, 0, 1, 0, 0, 0, 2, 0, 2, 0, 0, 2, 0, 2, 0, 0, 0, 1, 0, 0, 0, 0, 0, 0,\n",
            "        2, 0, 0, 0, 2, 0, 0, 0, 0, 0, 0, 2, 0, 2, 0, 2], device='cuda:0'), tensor([2, 2, 2, 0, 0, 0, 2, 0, 1, 2, 0, 0, 0, 0, 0, 0, 0, 0, 0, 0, 0, 0, 0, 0,\n",
            "        0, 0, 0, 1, 0, 1, 0, 0, 1, 1, 0, 0, 2, 2, 2, 0, 2, 2, 0, 0, 0, 0, 0, 0,\n",
            "        2, 2, 0, 2, 0, 2, 0, 2, 1, 0, 0, 0, 1, 0, 0, 1], device='cuda:0'), tensor([0, 0, 0, 0, 0, 0, 0, 0, 0, 0, 0, 0, 0, 0, 0, 0, 0, 0, 0, 0, 0, 0, 0, 2,\n",
            "        0, 0, 0, 0, 0, 0, 0, 0, 0, 1, 1, 0, 0, 0, 0, 0, 2, 0, 0, 0, 2, 1, 0, 0,\n",
            "        0, 2, 0, 0, 0, 0, 0, 0, 1, 0, 2, 0, 2, 0, 0, 0], device='cuda:0'), tensor([0, 1, 1, 0, 0, 2, 1, 0, 1, 2, 2, 0, 0, 0, 0, 0, 0, 0, 2, 2, 2, 0, 0, 0,\n",
            "        2, 1, 0, 1, 2, 0, 0, 2, 1, 0, 0, 0, 0, 1, 0, 0, 1, 0, 0, 0, 1, 1, 0, 0,\n",
            "        0, 1, 0, 0, 0, 0, 0, 0, 1, 0, 0, 0, 0, 0, 0, 1], device='cuda:0'), tensor([2, 2, 0, 0, 2, 1, 0, 1, 0, 0, 2, 0, 0, 0, 0, 0, 0, 0, 2, 0, 0, 0, 1, 1,\n",
            "        0, 1, 0, 0, 1, 0, 0, 0, 0, 0, 0, 0, 0, 2, 1, 0, 1, 2, 1, 1, 1, 1, 0, 0,\n",
            "        0, 0, 0, 0, 0, 0, 0, 0, 1, 0, 0, 0, 0, 0, 0, 0], device='cuda:0'), tensor([1, 0, 0, 1, 1, 1, 1, 1, 0, 0, 1, 0, 1, 1, 1, 1, 0, 0, 0, 1, 1, 1, 0, 0,\n",
            "        0, 1, 1, 0, 0, 1, 0, 1, 1, 1, 0, 2, 1, 1, 1, 0, 0, 2, 0, 0, 0, 0, 0, 1,\n",
            "        1, 0, 0, 0, 1, 0, 0, 0, 0, 2, 0, 0, 0, 0, 0, 2], device='cuda:0'), tensor([0, 0, 0, 0, 0, 1, 0, 0, 0, 2, 0, 0, 0, 0, 1, 0, 0, 0, 1, 1, 1, 1, 1, 1,\n",
            "        1, 1, 1, 1, 2, 0, 1, 0, 0, 1, 1, 1, 1, 0, 0, 0, 1, 0, 0, 1, 0, 0, 0, 0,\n",
            "        0, 0, 0, 0, 0, 2, 0, 2, 2, 0, 0, 0, 0, 0, 0, 0], device='cuda:0'), tensor([2, 0, 0, 0, 2, 2, 1, 0, 1, 0, 0, 1, 2, 1, 0, 2, 0, 2, 0, 0, 0, 0, 2, 0,\n",
            "        1, 2, 0, 2, 2, 0, 2, 2, 0, 0, 0, 0, 0, 0, 1, 0, 0, 0, 1, 0, 2, 0, 2, 0,\n",
            "        0, 0, 0, 1, 0, 0, 0, 0, 0, 0, 0, 0, 0, 0, 0, 1], device='cuda:0'), tensor([0, 1, 2, 2, 1, 2, 2, 0, 0, 0, 0, 2, 2, 0, 2, 0, 0, 0, 0, 0, 0, 0, 1, 0,\n",
            "        0, 0, 0, 1, 1, 1, 2, 0, 0, 0, 1, 0, 0, 0, 0, 0, 0, 1, 0, 0, 0, 0, 0, 0,\n",
            "        0, 0, 0, 0, 0, 1, 2, 0, 0, 0, 0, 0, 2, 2, 0, 0], device='cuda:0'), tensor([0, 0, 0, 0, 0, 0, 0, 0, 0, 1, 0, 0, 0, 0, 0, 0, 2, 0, 0, 0, 0, 2, 0, 0,\n",
            "        1, 0, 0, 0, 0, 1, 1, 1, 0, 0, 1, 1, 0, 1, 0, 0, 1, 0, 0, 0, 0, 0, 0, 0,\n",
            "        0, 0, 0, 0, 0, 0, 1, 0, 0, 0, 0, 0, 0, 0, 0, 2], device='cuda:0'), tensor([0, 2, 2, 0, 2, 0, 0, 0, 0, 0, 2, 2, 0, 2, 1, 0, 0, 0, 0, 1, 1, 0, 1, 1,\n",
            "        0, 0, 1, 1, 1, 1, 2, 0, 1, 1, 0, 0, 2, 2, 0, 1, 0, 0, 0, 0, 0, 0, 0, 0,\n",
            "        0, 0, 0, 0, 0, 0, 0, 0, 0, 0, 0, 0, 0, 0, 0, 0], device='cuda:0'), tensor([0, 0, 0, 0, 0, 1, 1, 1, 0, 1, 1, 1, 1, 1, 0, 0, 1, 1, 1, 0, 0, 0, 0, 0,\n",
            "        0, 0, 1, 0, 1, 0, 1, 1, 0, 0, 1, 0, 2, 1, 0, 1, 1, 1, 2, 0, 0, 0, 2, 0,\n",
            "        2, 2, 0, 2, 0, 0, 0, 0, 0, 0, 0, 2, 0, 1, 0, 1], device='cuda:0'), tensor([0, 2, 1, 0, 0, 0, 0, 0, 1, 1, 0, 2, 0, 0, 0, 1, 0, 1, 0, 0, 0, 2, 1, 0,\n",
            "        0, 1, 0, 1, 0, 1, 1, 1, 1, 1, 1, 1, 1, 1, 1, 0, 0, 0, 0, 0, 0, 0, 1, 2,\n",
            "        0, 0, 0, 0, 0, 2, 0, 0, 2, 2, 0, 0, 0, 2, 0, 2], device='cuda:0'), tensor([2, 1, 2, 2, 0, 0, 2, 2, 2, 2, 1, 0, 2, 2, 1, 2, 0, 2, 0, 0, 0, 2, 2, 2,\n",
            "        0, 1, 1, 0, 0, 0, 2, 0, 0, 0, 0, 0, 1, 0, 0, 0, 0, 0, 0, 0, 0, 1, 1, 0,\n",
            "        0, 2, 1, 1, 0, 0, 0, 0, 0, 1, 0, 0, 0, 0, 1, 0], device='cuda:0'), tensor([0, 0, 1, 0, 0, 0, 0, 0, 0, 1, 0, 2, 2, 0, 2, 0, 0, 2, 2, 2, 0, 0, 2, 0,\n",
            "        1, 0, 0, 0, 0, 0, 0, 0, 0, 1, 0, 2, 0, 0, 2, 1, 0, 0, 0, 0, 0, 0, 1, 0,\n",
            "        0, 0, 0, 2, 0, 0, 2, 0, 2, 2, 2, 0, 2, 2, 0, 0], device='cuda:0'), tensor([2, 0, 2, 2, 2, 0, 2, 2, 2, 2, 0, 0, 0, 0, 2, 0, 2, 2, 0, 0, 1, 2, 0, 0,\n",
            "        0, 1, 2, 2, 0, 0, 0, 0, 0, 1, 0, 1, 1, 1, 1, 2, 1, 2, 0, 1, 0, 2, 2, 0,\n",
            "        2, 2, 0, 0, 0, 0, 1, 0, 1, 2, 1, 1, 1, 1, 2, 1], device='cuda:0'), tensor([1, 0, 0, 0, 1, 0, 1, 0, 0, 0, 1, 0, 0, 0, 0, 2, 2, 2, 0, 0, 1, 0, 2, 0,\n",
            "        0, 0, 0, 0, 2, 0, 0, 2, 0, 0, 2, 2, 0, 0, 0, 0, 0, 2, 0, 0, 0, 0, 0, 1,\n",
            "        1, 1, 0, 1, 0, 0, 0, 0, 0, 0, 0, 0, 0, 0, 0, 0], device='cuda:0'), tensor([0, 0, 0, 0, 2, 1, 0, 1, 0, 2, 2, 0, 0, 1, 0, 0, 0, 0, 0, 1, 0, 0, 0, 0,\n",
            "        2, 2, 0, 0, 0, 2, 0, 2, 2, 2, 2, 2, 2, 2, 0, 0, 2, 0, 0, 0, 0, 1, 0, 0,\n",
            "        0, 0, 0, 0, 2, 2, 0, 0, 0, 0, 0, 2, 2, 0, 1, 1], device='cuda:0'), tensor([0, 0, 1, 0, 0, 0, 1, 1, 1, 1, 1, 0, 0, 0, 0, 0, 0, 2, 2, 0, 2, 0, 0, 0,\n",
            "        0, 2, 0, 2, 2, 0, 0, 2, 0, 0, 0, 0, 0, 0, 0, 0, 0, 0, 0, 0, 0, 0, 0, 0,\n",
            "        1, 0, 0, 0, 0, 0, 0, 0, 0, 2, 1, 0, 0, 0, 0, 1], device='cuda:0'), tensor([0, 2, 0, 1, 0, 0, 0, 0, 0, 1, 0, 1, 1, 0, 0, 1, 1, 0, 0, 2, 0, 0, 1, 1,\n",
            "        1, 1, 0, 0, 1, 1, 0, 2, 1, 1, 1, 1, 1, 1, 1, 0, 1, 1, 1, 1, 1, 1, 1, 1,\n",
            "        0, 1, 1, 0, 0, 0, 2, 0, 0, 2, 0, 1, 0, 0, 1, 1], device='cuda:0'), tensor([0, 0, 1, 2, 2, 2, 1, 1, 0, 0, 0, 0, 0, 0, 0, 0, 0, 0, 0, 1, 0, 0, 0, 0,\n",
            "        0, 0, 2, 1, 1, 1, 0, 0, 0, 0, 0, 0, 0, 0, 0, 2, 0, 0, 0, 0, 0, 0, 1, 1,\n",
            "        0, 1, 1, 1, 0, 0, 0, 0, 0, 0, 0, 0, 0, 2, 0, 0], device='cuda:0'), tensor([0, 1, 0, 0, 2, 0, 0, 1, 0, 1, 0, 0, 0, 0, 0, 0, 0, 0, 0, 0, 0, 0, 1, 0,\n",
            "        0, 1, 1, 1, 1, 1, 1, 1, 1, 1, 1, 2, 1, 1, 1, 0, 2, 0, 0, 1, 1, 0, 0, 0,\n",
            "        0, 1, 0, 0, 1, 0, 1, 1, 1, 1, 0, 1, 1, 1, 1, 1], device='cuda:0'), tensor([0, 0, 0, 0, 0, 0, 0, 0, 0, 0, 0, 0, 1, 0, 0, 0, 2, 2, 2, 0, 2, 0, 2, 1,\n",
            "        0, 0, 0, 0, 0, 1, 0, 0, 1, 0, 1, 2, 2, 0, 0, 0, 0, 0, 2, 0, 0, 1, 2, 2,\n",
            "        0, 2, 0, 1, 0, 1, 0, 0, 0, 0, 2, 1, 0, 0, 0, 2], device='cuda:0'), tensor([0, 0, 2, 2, 2, 0, 0, 0, 0, 2, 0, 0, 1, 2, 0, 2, 2, 0, 0, 0, 0, 2, 0, 2,\n",
            "        2, 0, 2, 1, 0, 0, 0, 0, 2, 1, 2, 0, 1, 0, 0, 0, 0, 0, 0, 2, 0, 1, 2, 1,\n",
            "        0, 0, 2, 2, 1, 2, 0, 0, 0, 0, 0, 0, 1, 0, 0, 0], device='cuda:0'), tensor([2, 0, 0, 1, 1, 0, 2, 0, 0, 1, 0, 2, 2, 2, 2, 0, 0, 0, 1, 1, 0, 1, 1, 0,\n",
            "        1, 0, 2, 0, 0, 0, 2, 0, 0, 0, 1, 0, 2, 0, 2, 2, 0, 0, 0, 1, 2, 0, 0, 0,\n",
            "        0, 0, 0, 0, 0, 0, 0, 0, 0, 0, 2, 1, 0, 1, 0, 0], device='cuda:0'), tensor([0, 0, 0, 0, 0, 0, 0, 0, 0, 0, 0, 2, 0, 1, 2, 0, 0, 0, 0, 0, 0, 0, 0, 0,\n",
            "        0, 0, 2, 1, 0, 0, 2, 2, 2, 2, 0, 1, 0, 0, 0, 1, 1, 0, 0, 0, 0, 0, 0, 0,\n",
            "        0, 1, 1, 1, 1, 1, 2, 0, 2, 0, 0, 0, 0, 0, 0, 0], device='cuda:0'), tensor([1, 0, 2, 0, 0, 0, 0, 0, 2, 2, 2, 2, 1, 0, 0, 0, 0, 1, 1, 1, 1, 0, 0, 0,\n",
            "        1, 0, 2, 0, 0, 0, 0, 1, 0, 0, 2, 2, 0, 0, 0, 0, 1, 1, 2, 0, 0, 1, 1, 0,\n",
            "        0, 0, 0, 0, 0, 0, 0, 0, 2, 0, 1, 2, 0, 1, 1, 0], device='cuda:0'), tensor([0, 0, 1, 1, 0, 0, 2, 0, 0, 0, 2, 0, 0, 2, 0, 1, 0, 0, 0, 1, 1, 1, 1, 1,\n",
            "        0, 0, 1, 1, 1, 0, 0, 1, 0, 0, 0, 0, 0, 0, 0, 0, 2, 0, 0, 0, 0, 0, 2, 0,\n",
            "        0, 0, 1, 0, 0, 0, 0, 1, 0, 1, 0, 1, 1, 1, 0, 0], device='cuda:0'), tensor([2, 1, 0, 0, 0, 0, 0, 0, 1, 0, 1, 1, 2, 0, 0, 0, 0, 0, 1, 0, 2, 0, 1, 0,\n",
            "        0, 1, 1, 2, 0, 2, 0, 0, 0, 0, 0, 0, 0, 1, 1, 0, 0, 0, 1, 1, 2, 0, 0, 0,\n",
            "        0, 0, 1, 0, 0, 0, 0, 0, 0, 2, 0, 0, 0, 0, 0, 0], device='cuda:0'), tensor([0, 0, 0, 0, 2, 0, 0, 1, 0, 0, 0, 1, 0, 0, 0, 0, 1, 1, 0, 1, 1, 1, 0, 0,\n",
            "        0, 2, 0, 0, 0, 1, 0, 0, 0, 0, 1, 0, 0, 1, 2, 0, 0, 0, 2, 1, 0, 1, 1, 2,\n",
            "        0, 0, 1, 0, 0, 0, 0, 0, 1, 1, 1, 2, 0, 2, 1, 1], device='cuda:0'), tensor([1, 1, 0, 0, 0, 0, 0, 0, 0, 0, 1, 1, 2, 1, 1, 0, 0, 1, 1, 0, 1, 0, 0, 1,\n",
            "        0, 0, 0, 0, 0, 0, 0, 0, 1, 1, 0, 0, 0, 0, 0, 0, 0, 1, 0, 0, 0, 1, 1, 1,\n",
            "        1, 1, 0, 1, 1, 1, 0, 0, 0, 0, 2, 0, 0, 0, 0, 0], device='cuda:0'), tensor([0, 0, 0, 0, 0, 0, 0, 0, 0, 2, 0, 1, 0, 2, 1, 0, 2, 2, 2, 0, 2, 2, 0, 2,\n",
            "        1, 0, 2, 2, 0, 2, 0, 0, 0, 1, 0, 2, 0, 1, 0, 0, 0, 0, 0, 0, 2, 0, 2, 0,\n",
            "        0, 0, 0, 0, 0, 0, 0, 1, 0, 2, 2, 1, 0, 2, 0, 0], device='cuda:0'), tensor([0, 0, 0, 0, 1, 0, 1, 1, 1, 0, 1, 1, 0, 0, 0, 0, 0, 1, 1, 1, 1, 0, 0, 1,\n",
            "        0, 0, 0, 0, 0, 0, 0, 0, 0, 0, 0, 1, 0, 0, 0, 1, 0, 0, 0, 0, 0, 0, 0, 0,\n",
            "        1, 1, 1, 1, 1, 1, 0, 0, 0, 2, 2, 1, 0, 0, 0, 0], device='cuda:0'), tensor([0, 0, 2, 0, 0, 0, 0, 2, 0, 0, 0, 0, 0, 0, 0, 0], device='cuda:0')]\n",
            "epoch: 2, train loss: 0.6148,train acc: 0.73,train recall: 0.71,train f1: 0.67,time: 30.19\n",
            "model train end\n"
          ],
          "name": "stdout"
        }
      ]
    },
    {
      "cell_type": "markdown",
      "metadata": {
        "id": "2bUGtmw0AH9c"
      },
      "source": [
        "epoch: 0, train loss: 0.6857,train acc: 0.70,train recall: 0.67,train f1: 0.62,time: 31.50\n",
        "\n",
        "\n",
        "epoch: 1, train loss: 0.6262,train acc: 0.73,train recall: 0.71,train f1: 0.66,time: 31.53\n",
        "\n",
        "epoch: 2, train loss: 0.6115,train acc: 0.73,train recall: 0.71,train f1: 0.67,time: 31.87\n",
        "\n",
        "\n",
        "model train end"
      ]
    },
    {
      "cell_type": "code",
      "metadata": {
        "colab": {
          "base_uri": "https://localhost:8080/"
        },
        "id": "L4Tgx3rJac-Y",
        "outputId": "d09dd544-44ef-435d-f011-371298d939ae"
      },
      "source": [
        "len(predlist)"
      ],
      "execution_count": null,
      "outputs": [
        {
          "output_type": "execute_result",
          "data": {
            "text/plain": [
              "157"
            ]
          },
          "metadata": {
            "tags": []
          },
          "execution_count": 72
        }
      ]
    },
    {
      "cell_type": "code",
      "metadata": {
        "colab": {
          "base_uri": "https://localhost:8080/"
        },
        "id": "dGU-XPVvaxK6",
        "outputId": "f52a3caf-6606-4cb0-ae45-e0cdaabb06dd"
      },
      "source": [
        "net.load_state_dict(torch.load('params3.pk1'))  #加载模型\n",
        "predlist1 = []\n",
        "\n",
        "for test_feature, test_label in test_iter:\n",
        "    test_feature = Variable(test_feature.cuda())\n",
        "    test_label = Variable(test_label.cuda())\n",
        "    test_score = net(test_feature)\n",
        "    predlist1.append(torch.argmax(test_score.data,dim=1))          \n",
        "print(predlist1)"
      ],
      "execution_count": null,
      "outputs": [
        {
          "output_type": "stream",
          "text": [
            "[tensor([0, 2, 2, 2, 2, 0, 2, 0, 2, 2, 0, 2, 0, 1, 2, 2, 2, 2, 2, 2, 0, 2, 2, 2,\n",
            "        2, 2, 0, 1, 0, 0, 0, 0, 0, 1, 0, 0, 2, 2, 1, 0, 0, 2, 0, 0, 2, 2, 2, 0,\n",
            "        2, 0, 0, 2, 2, 2, 0, 0, 0, 0, 0, 0, 0, 0, 2, 2], device='cuda:0'), tensor([2, 0, 0, 0, 0, 0, 0, 1, 2, 0, 0, 0, 0, 2, 0, 0, 2, 2, 2, 0, 0, 0, 0, 0,\n",
            "        2, 0, 0, 0, 0, 0, 0, 0, 0, 0, 0, 0, 0, 2, 0, 2, 2, 0, 0, 0, 0, 0, 0, 1,\n",
            "        2, 0, 2, 0, 0, 0, 0, 0, 0, 0, 0, 0, 0, 0, 0, 0], device='cuda:0'), tensor([0, 0, 0, 0, 0, 0, 0, 0, 0, 0, 0, 2, 0, 0, 0, 0, 0, 0, 0, 0, 2, 0, 2, 0,\n",
            "        0, 0, 0, 1, 0, 2, 0, 0, 0, 1, 1, 0, 2, 1, 1, 0, 0, 0, 0, 0, 0, 0, 0, 0,\n",
            "        0, 0, 2, 0, 1, 0, 2, 0, 2, 2, 0, 0, 0, 0, 0, 2], device='cuda:0'), tensor([2, 0, 0, 0, 2, 0, 0, 2, 0, 0, 0, 1, 0, 0, 0, 0, 1, 0, 0, 0, 1, 0, 1, 1,\n",
            "        0, 0, 0, 0, 0, 2, 0, 0, 0, 0, 0, 0, 0, 0, 0, 0, 0, 2, 0, 1, 0, 0, 0, 0,\n",
            "        0, 0, 0, 0, 0, 0, 0, 0, 1, 0, 0, 1, 2, 0, 2, 1], device='cuda:0'), tensor([0, 0, 1, 2, 1, 0, 0, 0, 0, 1, 0, 0, 0, 0, 1, 1, 2, 1, 1, 1, 1, 1, 2, 1,\n",
            "        0, 0, 1, 1, 1, 0, 0, 0, 0, 1, 0, 1, 1, 0, 0, 2, 2, 0, 2, 2, 1, 0, 0, 1,\n",
            "        0, 0, 1, 2, 0, 0, 0, 0, 0, 0, 0, 2, 0, 2, 0, 1], device='cuda:0'), tensor([0, 0, 0, 1, 0, 1, 2, 0, 0, 0, 0, 0, 2, 0, 0, 1, 1, 0, 2, 1, 0, 0, 0, 0,\n",
            "        2, 0, 2, 0, 0, 0, 2, 0, 0, 0, 0, 0, 2, 0, 0, 0, 0, 0, 2, 0, 2, 0, 0, 0,\n",
            "        0, 2, 0, 0, 0, 0, 0, 2, 0, 0, 0, 2, 0, 2, 2, 0], device='cuda:0'), tensor([2, 1, 0, 0, 0, 0, 2, 0, 0, 0, 0, 0, 0, 0, 0, 0, 0, 0, 2, 0, 0, 0, 2, 0,\n",
            "        1, 0, 2, 0, 2, 2, 0, 0, 2, 2, 2, 2, 2, 0, 0, 0, 2, 2, 0, 0, 0, 0, 1, 0,\n",
            "        2, 2, 2, 2, 0, 0, 0, 0, 0, 2, 2, 0, 0, 2, 2, 1], device='cuda:0'), tensor([0, 0, 0, 0, 0, 0, 0, 0, 2, 0, 0, 0, 0, 0, 2, 1, 0, 0, 2, 2, 0, 0, 0, 2,\n",
            "        2, 0, 1, 1, 1, 0, 1, 0, 1, 1, 0, 1, 0, 1, 1, 1, 1, 1, 0, 1, 1, 0, 1, 1,\n",
            "        1, 1, 2, 1, 1, 2, 0, 1, 1, 1, 1, 2, 1, 1, 1, 2], device='cuda:0'), tensor([0, 0, 1, 1, 1, 2, 0, 1, 1, 1, 1, 1, 0, 1, 1, 1, 0, 0, 0, 1, 2, 0, 1, 1,\n",
            "        1, 0, 0, 1, 1, 1, 1, 0, 1, 1, 0, 1, 0, 1, 0, 2, 0, 0, 2, 0, 1, 2, 1, 2,\n",
            "        1, 2, 2, 0, 1, 0, 1, 1, 0, 0, 2, 2, 2, 2, 0, 1], device='cuda:0'), tensor([1, 2, 2, 2, 2, 0, 1, 2, 1, 2, 2, 2, 1, 2, 0, 2, 2, 2, 0, 2, 1, 2, 2, 2,\n",
            "        0, 1, 0, 2, 2, 2, 2, 1, 2, 2, 1, 0, 0, 1, 0, 1, 1, 2, 1, 2, 1, 0, 0, 1,\n",
            "        2, 0, 0, 0, 0, 0, 0, 0, 2, 1, 2, 2, 0, 0, 2, 0], device='cuda:0'), tensor([1, 1, 1, 0, 0, 1, 0, 2, 0, 2, 0, 0, 2, 0, 0, 2, 0, 2, 1, 0, 2, 0, 0, 0,\n",
            "        0, 0, 0, 2, 2, 0, 1, 0, 0, 0, 0, 0, 0, 0, 0, 0, 1, 1, 0, 0, 0, 0, 1, 2,\n",
            "        0, 0, 0, 1, 2, 2, 0, 0, 2, 0, 0, 0, 0, 0, 0, 0], device='cuda:0'), tensor([0, 0, 1, 1, 2, 0, 0, 0, 1, 2, 2, 1, 0, 2, 0, 2, 0, 0, 2, 1, 0, 2, 1, 0,\n",
            "        0, 0, 0, 0, 0, 0, 1, 0, 0, 0, 0, 2, 0, 0, 0, 0, 2, 0, 2, 0, 0, 1, 0, 1,\n",
            "        0, 0, 0, 0, 0, 1, 0, 2, 2, 0, 0, 2, 1, 0, 0, 0], device='cuda:0'), tensor([0, 0, 1, 0, 1, 0, 0, 1, 0, 0, 0, 0, 0, 0, 0, 0, 0, 1, 0, 0, 0, 0, 2, 0,\n",
            "        0, 1, 0, 1, 1, 1, 1, 1, 1, 1, 1, 2, 0, 1, 1, 1, 1, 2, 0, 1, 0, 0, 1, 2,\n",
            "        1, 1, 1, 1, 0, 1, 1, 0, 1, 1, 1, 1, 1, 1, 1, 0], device='cuda:0'), tensor([1, 0, 1, 1, 1, 1, 1, 1, 0, 1, 0, 1, 1, 2, 1, 1, 0, 0, 1, 2, 1, 1, 1, 0,\n",
            "        1, 1, 1, 1, 0, 1, 1, 0, 1, 1, 1, 0, 1, 1, 1, 2, 1, 0, 0, 0, 1, 1, 1, 1,\n",
            "        1, 1, 1, 1, 1, 1, 1, 0, 1, 0, 0, 1, 0, 0, 0, 0], device='cuda:0'), tensor([0, 0, 0, 0, 0, 0, 0, 0, 0, 1, 2, 0, 1, 0, 0, 0, 0, 0, 0, 0, 1, 0, 1, 0,\n",
            "        0, 0, 1, 0, 0, 0, 0, 0, 0, 0, 0, 0, 0, 1, 0, 0, 2, 0, 1, 0, 0, 0, 0, 2,\n",
            "        0, 1, 2, 0, 1, 0, 0, 0, 0, 0, 0, 0, 0, 0, 2, 0], device='cuda:0'), tensor([0, 0, 0, 0, 0, 0, 0, 0, 0, 0, 0, 1, 0, 2, 0, 0, 0, 0, 0, 1, 0, 0, 1, 0,\n",
            "        0, 0, 0, 0, 0, 0, 0, 0, 1, 0, 0, 0, 0, 0, 0, 2, 0, 0, 2, 0, 2, 2, 1, 0,\n",
            "        0, 0, 0, 0, 0, 0, 0, 0, 0, 0, 0, 0, 0, 0, 0, 2], device='cuda:0'), tensor([0, 2, 0, 0, 0, 0, 0, 0, 0, 2, 0, 0, 0, 0, 0, 0, 2, 0, 0, 0, 0, 0, 0, 0,\n",
            "        0, 0, 2, 0, 0, 2, 0, 0, 0, 0, 0, 2, 0, 0, 2, 0, 0, 0, 1, 0, 0, 1, 0, 2,\n",
            "        0, 2, 1, 0, 0, 0, 0, 0, 0, 0, 0, 2, 0, 0, 0, 2], device='cuda:0'), tensor([0, 0, 0, 0, 0, 0, 1, 0, 0, 0, 0, 1, 0, 2, 0, 0, 1, 2, 2, 0, 0, 1, 0, 2,\n",
            "        0, 0, 2, 1, 0, 0, 0, 0, 2, 0, 0, 1, 2, 0, 1, 1, 0, 0, 1, 1, 0, 1, 0, 1,\n",
            "        1, 1, 2, 1, 1, 1, 1, 0, 1, 1, 1, 0, 1, 2, 0, 0], device='cuda:0'), tensor([1, 0, 2, 0, 0, 2, 2, 0, 0, 0, 0, 0, 0, 1, 1, 0, 2, 1, 0, 0, 1, 0, 1, 0,\n",
            "        1, 1, 0, 0, 0, 0, 1, 0, 0, 0, 0, 0, 0, 0, 0, 0, 0, 2, 0, 0, 0, 0, 0, 0,\n",
            "        0, 2, 0, 2, 0, 2, 2, 0, 0, 2, 2, 0, 0, 1, 1, 0], device='cuda:0'), tensor([1, 1, 1, 1, 1, 1, 1, 1, 1, 1, 1, 0, 1, 1, 1, 1, 0, 1, 1, 1, 1, 1, 1, 1,\n",
            "        0, 0, 1, 1, 1, 1, 1, 1, 0, 1, 0, 1, 1, 1, 0, 1, 1, 0, 1, 1, 1, 0, 1, 0,\n",
            "        1, 1, 1, 0, 1, 0, 1, 1, 0, 2, 0, 0, 0, 2, 2, 1], device='cuda:0'), tensor([1, 0, 0, 0, 0, 0, 0, 0, 0, 1, 0, 0, 0, 0, 2, 1, 0, 0, 2, 0, 0, 0, 0, 0,\n",
            "        1, 1, 1, 0, 0, 1, 0, 0, 0, 0, 1, 0, 0, 0, 1, 0, 0, 0, 0, 0, 0, 2, 0, 2,\n",
            "        0, 0, 0, 0, 0, 0, 0, 0, 1, 0, 0, 2, 2, 0, 1, 0], device='cuda:0'), tensor([2, 0, 0, 0, 0, 0, 2, 0, 1, 0, 1, 0, 0, 0, 0, 0, 0, 0, 2, 0, 2, 0, 2, 0,\n",
            "        0, 2, 0, 0, 0, 0, 0, 0, 2, 0, 0, 0, 0, 0, 0, 0, 2, 0, 0, 0, 0, 0, 0, 0,\n",
            "        2, 0, 0, 0, 0, 0, 2, 2, 2, 0, 0, 0, 0, 2, 2, 0], device='cuda:0'), tensor([2, 0, 1, 0, 2, 2, 0, 0, 0, 0, 2, 0, 0, 0, 2, 0, 0, 0, 0, 0, 0, 0, 0, 0,\n",
            "        0, 0, 2, 0, 0, 0, 0, 0, 0, 0, 0, 0, 0, 0, 0, 0, 0, 0, 1, 0, 0, 0, 0, 0,\n",
            "        0, 0, 0, 0, 0, 0, 0, 0, 0, 0, 0, 0, 0, 2, 0, 0], device='cuda:0'), tensor([0, 0, 0, 0, 2, 0, 0, 0, 2, 0, 0, 0, 0, 0, 0, 0, 0, 0, 0, 0, 0, 0, 0, 0,\n",
            "        0, 0, 0, 0, 0, 0, 0, 0, 0, 2, 2, 0, 0, 2, 0, 2, 0, 2, 2, 2, 2, 0, 0, 2,\n",
            "        0, 2, 0, 0, 2, 0, 0, 0, 2, 0, 2, 1, 0, 0, 0, 0], device='cuda:0'), tensor([0, 0, 0, 2, 0, 0, 0, 0, 2, 0, 1, 0, 0, 0, 0, 0, 0, 0, 0, 0, 0, 0, 0, 0,\n",
            "        0, 0, 1, 1, 1, 0, 0, 0, 1, 0, 0, 2, 0, 0, 0, 1, 0, 0, 0, 0, 0, 1, 0, 0,\n",
            "        0, 0, 0, 0, 0, 1, 0, 0, 0, 1, 0, 0, 0, 0, 0, 0], device='cuda:0'), tensor([1, 2, 0, 0, 1, 1, 1, 1, 0, 0, 0, 0, 0, 0, 1, 1, 0, 2, 2, 1, 0, 0, 0, 0,\n",
            "        0, 0, 1, 0, 0, 1, 0, 0, 0, 0, 0, 0, 1, 0, 1, 0, 0, 0, 2, 0, 0, 2, 0, 2,\n",
            "        0, 0, 0, 0, 0, 0, 0, 1, 0, 0, 0, 2, 0, 0, 0, 0], device='cuda:0'), tensor([0, 2, 0, 0, 0, 0, 0, 0, 0, 0, 0, 0, 0, 0, 0, 0, 0, 0, 1, 0, 0, 2, 0, 0,\n",
            "        0, 2, 2, 0, 2, 0, 2, 0, 0, 2, 0, 2, 2, 0, 0, 0, 2, 0, 2, 0, 2, 0, 2, 2,\n",
            "        2, 2, 2, 2, 0, 0, 2, 2, 0, 0, 2, 0, 2, 0, 0, 2], device='cuda:0'), tensor([1, 2, 2, 0, 0, 2, 1, 1, 0, 0, 0, 2, 2, 2, 0, 2, 2, 2, 2, 0, 0, 0, 2, 2,\n",
            "        0, 0, 2, 2, 2, 0, 0, 0, 2, 0, 0, 0, 0, 0, 0, 0, 1, 0, 0, 0, 0, 0, 0, 0,\n",
            "        1, 2, 0, 0, 0, 0, 2, 0, 0, 2, 2, 0, 0, 2, 0, 0], device='cuda:0'), tensor([1, 1, 2, 0, 2, 1, 0, 2, 0, 2, 0, 2, 2, 0, 0, 0, 2, 0, 0, 2, 0, 0, 2, 0,\n",
            "        0, 2, 0, 0, 2, 0, 0, 0, 0, 2, 0, 0, 0, 2, 2, 0, 2, 0, 0, 0, 0, 0, 1, 2,\n",
            "        0, 0, 2, 0, 0, 2, 0, 0, 1, 0, 0, 0, 0, 0, 2, 0], device='cuda:0'), tensor([0, 0, 0, 0, 0, 0, 0, 0, 0, 2, 1, 0, 1, 1, 1, 1, 1, 0, 0, 1, 1, 0, 0, 0,\n",
            "        0, 0, 0, 1, 1, 1, 0, 0, 0, 0, 0, 1, 2, 0, 0, 0, 0, 0, 0, 0, 0, 0, 0, 0,\n",
            "        2, 0, 0, 1, 0, 0, 0, 0, 0, 2, 0, 1, 0, 0, 0, 0], device='cuda:0'), tensor([0, 1, 0, 0, 0, 0, 0, 0, 0, 0, 1, 0, 1, 0, 2, 0, 0, 0, 0, 0, 0, 1, 0, 0,\n",
            "        0, 1, 1, 0, 1, 0, 0, 0, 0, 1, 0, 0, 0, 0, 0, 0, 0, 0, 0, 0, 0, 1, 1, 1,\n",
            "        1, 2, 1, 0, 0, 0, 0, 0, 0, 1, 0, 1, 1, 2, 1, 0], device='cuda:0'), tensor([1, 0, 1, 0, 0, 2, 1, 1, 0, 1, 1, 1, 0, 0, 0, 0, 0, 0, 0, 1, 1, 0, 1, 0,\n",
            "        1, 1, 0, 0, 2, 1, 1, 0, 0, 0, 1, 0, 0, 0, 0, 0, 0, 0, 1, 0, 0, 0, 0, 0,\n",
            "        1, 0, 0, 0, 0, 0, 0, 0, 2, 0, 0, 2, 0, 2, 0, 0], device='cuda:0'), tensor([0, 0, 0, 0, 0, 0, 2, 2, 0, 0, 2, 1, 0, 0, 0, 2, 0, 0, 0, 0, 0, 0, 0, 0,\n",
            "        0, 0, 2, 0, 0, 0, 0, 0, 0, 1, 0, 0, 0, 0, 0, 0, 0, 0, 0, 0, 0, 0, 0, 0,\n",
            "        0, 0, 0, 0, 0, 0, 0, 0, 0, 0, 0, 0, 1, 0, 0, 0], device='cuda:0'), tensor([2, 2, 2, 2, 2, 2, 2, 0, 1, 2, 2, 2, 1, 2, 0, 0, 0, 0, 2, 0, 2, 0, 0, 1,\n",
            "        0, 0, 0, 0, 0, 2, 0, 0, 0, 0, 0, 0, 0, 0, 1, 1, 2, 2, 0, 0, 0, 0, 0, 0,\n",
            "        0, 0, 0, 2, 0, 2, 0, 0, 0, 0, 0, 2, 0, 1, 0, 0], device='cuda:0'), tensor([0, 0, 0, 0, 0, 0, 2, 0, 0, 0, 2, 2, 0, 0, 2, 2, 0, 0, 0, 0, 0, 2, 0, 0,\n",
            "        0, 2, 0, 0, 0, 0, 0, 0, 1, 2, 2, 0, 0, 0, 0, 2, 1, 2, 0, 0, 0, 0, 0, 2,\n",
            "        2, 2, 0, 1, 0, 2, 0, 0, 0, 0, 0, 2, 2, 0, 0, 1], device='cuda:0'), tensor([0, 0, 0, 0, 1, 0, 2, 0, 0, 0, 0, 2, 0, 0, 0, 0, 0, 0, 0, 1, 2, 0, 0, 0,\n",
            "        0, 2, 2, 0, 0, 0, 2, 0, 0, 0, 1, 0, 0, 0, 0, 0, 0, 0, 1, 1, 0, 0, 0, 0,\n",
            "        0, 0, 0, 0, 0, 0, 0, 0, 0, 0, 0, 0, 0, 0, 0, 0], device='cuda:0'), tensor([0, 0, 0, 0, 0, 0, 0, 0, 1, 0, 2, 1, 0, 0, 0, 0, 0, 0, 1, 0, 0, 0, 0, 2,\n",
            "        0, 1, 0, 0, 0, 0, 0, 0, 0, 1, 0, 1, 0, 0, 0, 0, 0, 0, 0, 0, 0, 0, 0, 0,\n",
            "        2, 0, 0, 0, 0, 0, 0, 1, 0, 0, 1, 0, 0, 0, 0, 0], device='cuda:0'), tensor([0, 0, 1, 1, 1, 0, 0, 0, 0, 0, 1, 1, 0, 0, 0, 1, 0, 0, 0, 0, 1, 0, 0, 0,\n",
            "        0, 0, 0, 0, 0, 0, 0, 0, 0, 0, 0, 0, 0, 1, 0, 0, 0, 0, 0, 0, 0, 0, 0, 0,\n",
            "        0, 0, 0, 0, 0, 0, 0, 0, 0, 0, 0, 0, 0, 0, 0, 0], device='cuda:0'), tensor([0, 0, 0, 2, 0, 0, 0, 0, 0, 0, 0, 0, 0, 0, 0, 0, 0, 0, 0, 0, 2, 0, 0, 2,\n",
            "        0, 0, 0, 0, 2, 0, 0, 0, 0, 0, 0, 0, 0, 0, 0, 0, 0, 2, 0, 0, 0, 0, 0, 0,\n",
            "        0, 0, 2, 2, 0, 0, 2, 2, 0, 2, 0, 0, 0, 0, 1, 2], device='cuda:0'), tensor([1, 0, 0, 0, 0, 0, 0, 0, 0, 0, 0, 0, 0, 2, 0, 0, 0, 0, 0, 0, 0, 0, 0, 0,\n",
            "        0, 0, 0, 0, 0, 0, 0, 0, 0, 1, 0, 1, 0, 0, 0, 0, 2, 0, 0, 0, 0, 0, 0, 0,\n",
            "        0, 0, 0, 0, 0, 0, 0, 0, 2, 0, 0, 0, 0, 0, 0, 0], device='cuda:0'), tensor([0, 0, 1, 0, 0, 1, 0, 1, 1, 1, 0, 0, 0, 1, 0, 1, 1, 1, 1, 2, 0, 0, 0, 0,\n",
            "        1, 0, 0, 1, 0, 0, 0, 1, 2, 0, 0, 2, 0, 0, 0, 0, 2, 2, 0, 0, 0, 1, 0, 1,\n",
            "        2, 1, 0, 0, 0, 1, 1, 0, 0, 2, 0, 0, 0, 0, 0, 0], device='cuda:0'), tensor([2, 0, 2, 0, 0, 2, 2, 0, 2, 1, 0, 0, 0, 0, 1, 1, 1, 2, 1, 0, 0, 2, 1, 0,\n",
            "        0, 0, 0, 0, 1, 0, 2, 1, 0, 0, 0, 0, 0, 2, 2, 0, 0, 0, 0, 0, 0, 0, 1, 0,\n",
            "        1, 0, 2, 1, 0, 0, 0, 0, 0, 0, 0, 0, 0, 0, 0, 0], device='cuda:0'), tensor([0, 2, 0, 0, 2, 2, 0, 2, 2, 0, 1, 2, 1, 0, 0, 0, 1, 0, 2, 2, 0, 2, 2, 0,\n",
            "        1, 2, 2, 0, 2, 0, 1, 2, 1, 0, 0, 1, 2, 0, 2, 2, 2, 0, 0, 0, 2, 1, 0, 0,\n",
            "        0, 2, 0, 1, 0, 0, 0, 0, 0, 0, 0, 0, 2, 0, 0, 0], device='cuda:0'), tensor([0, 0, 0, 0, 1, 0, 1, 1, 0, 1, 0, 1, 0, 0, 1, 0, 0, 0, 1, 2, 1, 1, 0, 1,\n",
            "        0, 0, 2, 0, 0, 0, 0, 1, 1, 1, 1, 1, 0, 1, 0, 1, 0, 2, 0, 0, 0, 1, 1, 0,\n",
            "        0, 0, 0, 2, 2, 0, 0, 0, 0, 0, 1, 0, 0, 0, 0, 1], device='cuda:0'), tensor([0, 0, 2, 0, 1, 0, 0, 2, 1, 2, 1, 0, 0, 0, 0, 0, 0, 0, 0, 0, 0, 0, 0, 0,\n",
            "        0, 0, 0, 0, 2, 2, 0, 0, 0, 2, 0, 0, 0, 2, 0, 0, 1, 0, 0, 0, 0, 2, 0, 0,\n",
            "        0, 0, 0, 2, 2, 0, 0, 0, 2, 0, 2, 2, 2, 0, 2, 0], device='cuda:0'), tensor([2, 0, 0, 0, 2, 0, 2, 0, 0, 0, 0, 0, 2, 2, 0, 0, 0, 0, 0, 2, 0, 0, 0, 0,\n",
            "        0, 0, 0, 0, 0, 0, 2, 0, 0, 0, 0, 0, 0, 0, 0, 0, 0, 0, 0, 0, 2, 2, 2, 2,\n",
            "        2, 0, 0, 0, 0, 2, 2, 2, 2, 0, 2, 0, 0, 0, 0, 2], device='cuda:0'), tensor([2, 2, 2, 2, 2, 2, 2, 2, 2, 2, 2, 2, 2, 0, 0, 2, 0, 2, 2, 2, 0, 2, 2, 2,\n",
            "        2, 0, 2, 0, 2, 2, 0, 2, 2, 0, 2, 2, 2, 2, 2, 2, 2, 2, 0, 2, 0, 0, 2, 0,\n",
            "        2, 2, 2, 0, 2, 2, 2, 2, 2, 0, 0, 2, 2, 2, 2, 2], device='cuda:0'), tensor([2, 0, 0, 2, 2, 2, 2, 2, 2, 2, 2, 2, 2, 0, 0, 0, 0, 0, 0, 2, 0, 0, 0, 2,\n",
            "        0, 0, 0, 0, 0, 2, 2, 0, 2, 0, 0, 0, 0, 0, 1, 1, 0, 0, 2, 1, 1, 1, 0, 1,\n",
            "        1, 1, 0, 1, 0, 0, 0, 0, 2, 0, 0, 0, 0, 0, 0, 2], device='cuda:0'), tensor([0, 0, 0, 0, 0, 0, 0, 0, 0, 0, 0, 0, 0, 0, 0, 0, 0, 0, 0, 0, 0, 0, 0, 0,\n",
            "        0, 0, 0, 0, 0, 0, 0, 0, 0, 0, 0, 0, 0, 0, 0, 0, 0, 0, 0, 0, 0, 0, 1, 0,\n",
            "        0, 1, 0, 0, 0, 0, 0, 2, 0, 0, 0, 0, 0, 2, 0, 0], device='cuda:0'), tensor([0, 1, 0, 0, 0, 0, 0, 0, 0, 0, 2, 0, 0, 0, 2, 0, 0, 0, 0, 0, 1, 2, 0, 0,\n",
            "        0, 0, 0, 0, 0, 0, 0, 0, 0, 0, 0, 0, 0, 0, 0, 0, 0, 0, 0, 0, 0, 0, 2, 0,\n",
            "        2, 0, 0, 0, 0, 0, 1, 0, 2, 0, 0, 1, 0, 0, 0, 0], device='cuda:0'), tensor([1, 0, 0, 0, 0, 0, 0, 0, 0, 0, 0, 0, 0, 0, 0, 0, 0, 0, 0, 0, 2, 1, 0, 0,\n",
            "        1, 0, 0, 0, 0, 0, 1, 1, 1, 1, 0, 0, 0, 0, 0, 0, 1, 0, 0, 1, 1, 1, 0, 1,\n",
            "        1, 0, 0, 1, 0, 1, 0, 0, 1, 1, 0, 1, 0, 0, 1, 1], device='cuda:0'), tensor([0, 0, 0, 0, 1, 1, 1, 1, 0, 1, 1, 0, 0, 0, 0, 0, 0, 0, 0, 2, 2, 2, 0, 2,\n",
            "        1, 2, 0, 0, 2, 2, 2, 1, 2, 2, 0, 0, 1, 1, 1, 0, 2, 1, 0, 0, 0, 2, 2, 0,\n",
            "        1, 2, 1, 2, 0, 0, 0, 2, 0, 0, 0, 0, 1, 0, 1, 1], device='cuda:0'), tensor([0, 0, 1, 0, 2, 2, 2, 1, 2, 0, 0, 0, 0, 1, 1, 1, 1, 1, 0, 1, 1, 0, 0, 0,\n",
            "        0, 0, 0, 0, 0, 0, 0, 0, 0, 0, 0, 0, 0, 0, 0, 0, 0, 0, 0, 0, 0, 0, 0, 0,\n",
            "        0, 0, 0, 0, 2, 0, 0, 1, 0, 0, 0, 0, 2, 0, 0, 0], device='cuda:0'), tensor([0, 2, 2, 0, 0, 0, 0, 2, 0, 1, 2, 2, 0, 0, 2, 0, 0, 0, 0, 0, 2, 0, 0, 0,\n",
            "        0, 2, 0, 0, 0, 0, 0, 0, 0, 0, 0, 0, 1, 0, 1, 0, 0, 1, 2, 1, 0, 0, 1, 0,\n",
            "        0, 0, 0, 0, 1, 0, 0, 0, 0, 1, 0, 0, 0, 1, 0, 1], device='cuda:0'), tensor([0, 0, 0, 0, 0, 0, 1, 1, 0, 2, 0, 0, 0, 2, 0, 0, 2, 0, 0, 0, 0, 0, 0, 0,\n",
            "        0, 0, 0, 0, 0, 2, 0, 0, 0, 0, 0, 0, 0, 0, 0, 0, 0, 0, 0, 2, 0, 0, 0, 0,\n",
            "        0, 2, 0, 0, 0, 0, 0, 2, 0, 0, 0, 0, 0, 1, 0, 0], device='cuda:0'), tensor([0, 0, 0, 2, 0, 2, 0, 0, 0, 0, 1, 0, 0, 0, 0, 0, 1, 2, 0, 0, 0, 0, 0, 0,\n",
            "        0, 2, 2, 0, 0, 0, 0, 0, 0, 0, 0, 0, 0, 0, 2, 2, 0, 0, 1, 0, 0, 2, 0, 1,\n",
            "        0, 0, 0, 1, 2, 0, 0, 2, 2, 1, 2, 0, 2, 2, 0, 0], device='cuda:0'), tensor([0, 0, 2, 0, 2, 0, 0, 2, 0, 2, 0, 0, 2, 1, 2, 0, 0, 0, 1, 2, 0, 0, 0, 0,\n",
            "        0, 0, 0, 2, 2, 0, 2, 0, 0, 1, 0, 0, 0, 0, 0, 1, 2, 0, 0, 0, 0, 2, 0, 0,\n",
            "        0, 0, 1, 1, 1, 1, 1, 0, 0, 1, 1, 1, 1, 0, 1, 1], device='cuda:0'), tensor([0, 1, 0, 1, 1, 0, 0, 2, 0, 1, 0, 1, 0, 0, 0, 0, 1, 1, 2, 0, 0, 1, 1, 0,\n",
            "        0, 2, 0, 1, 1, 0, 0, 0, 2, 0, 0, 2, 1, 0, 2, 1, 0, 0, 0, 0, 0, 0, 0, 2,\n",
            "        0, 1, 1, 0, 0, 1, 0, 0, 1, 2, 1, 1, 1, 2, 0, 0], device='cuda:0'), tensor([0, 0, 0, 2, 0, 2, 1, 0, 0, 2, 2, 2, 0, 2, 2, 0, 0, 0, 0, 2, 1, 1, 0, 0,\n",
            "        2, 0, 0, 0, 0, 2, 0, 0, 0, 0, 0, 0, 2, 2, 1, 0, 0, 0, 2, 0, 0, 2, 1, 0,\n",
            "        0, 2, 0, 0, 0, 0, 0, 0, 0, 2, 1, 0, 0, 0, 0, 0], device='cuda:0'), tensor([2, 0, 0, 0, 0, 2, 0, 2, 0, 0, 0, 0, 2, 0, 0, 0, 0, 0, 0, 2, 1, 0, 0, 0,\n",
            "        0, 2, 2, 0, 0, 0, 0, 0, 0, 0, 0, 0, 0, 0, 2, 0, 0, 0, 0, 0, 0, 0, 0, 0,\n",
            "        0, 0, 0, 0, 1, 0, 0, 0, 0, 0, 0, 0, 0, 0, 2, 1], device='cuda:0'), tensor([0, 0, 0, 0, 0, 0, 0, 0, 2, 2, 0, 0, 0, 0, 0, 2, 2, 2, 0, 0, 2, 2, 0, 0,\n",
            "        0, 1, 0, 2, 2, 0, 0, 1, 2, 0, 0, 0, 0, 0, 0, 0, 0, 0, 1, 0, 1, 0, 0, 0,\n",
            "        0, 2, 2, 0, 0, 0, 0, 1, 1, 1, 0, 1, 0, 0, 0, 0], device='cuda:0'), tensor([0, 0, 0, 0, 0, 0, 0, 0, 0, 0, 0, 0, 0, 0, 0, 0, 0, 0, 0, 0, 0, 0, 0, 0,\n",
            "        0, 0, 0, 0, 2, 0, 0, 0, 0, 0, 0, 0, 0, 2, 0, 0, 1, 2, 0, 0, 0, 0, 0, 0,\n",
            "        0, 0, 0, 1, 0, 0, 0, 0, 0, 0, 2, 1, 0, 2, 1, 0], device='cuda:0'), tensor([0, 2, 0, 1, 0, 1, 0, 0, 0, 1, 0, 0, 0, 0, 0, 0, 0, 1, 1, 0, 0, 1, 1, 0,\n",
            "        0, 0, 0, 1, 1, 0, 1, 0, 0, 0, 0, 0, 1, 0, 1, 1, 0, 0, 2, 1, 0, 1, 0, 0,\n",
            "        2, 0, 0, 0, 0, 0, 0, 0, 0, 0, 0, 0, 2, 0, 0, 0], device='cuda:0'), tensor([0, 2, 0, 0, 0, 0, 0, 2, 2, 2, 0, 0, 2, 0, 2, 0, 0, 0, 0, 0, 2, 0, 0, 0,\n",
            "        0, 2, 0, 0, 0, 2, 0, 2, 0, 2, 0, 0, 0, 0, 0, 0, 0, 0, 2, 0, 0, 0, 2, 2,\n",
            "        0, 0, 0, 2, 2, 0, 0, 2, 0, 0, 0, 0, 0, 1, 0, 0], device='cuda:0'), tensor([0, 1, 0, 0, 0, 1, 0, 0, 0, 1, 1, 0, 2, 0, 1, 0, 0, 0, 1, 0, 0, 1, 2, 0,\n",
            "        2, 2, 0, 1, 0, 1, 1, 1, 0, 2, 1, 0, 0, 2, 1, 0, 1, 0, 0, 0, 0, 0, 1, 0,\n",
            "        1, 0, 0, 0, 1, 0, 0, 0, 0, 0, 0, 2, 2, 1, 1, 1], device='cuda:0'), tensor([0, 1, 2, 1, 1, 1, 0, 0, 0, 0, 0, 0, 0, 2, 2, 2, 1, 0, 2, 1, 1, 1, 1, 1,\n",
            "        1, 1, 1, 1, 1, 1, 0, 1, 1, 1, 1, 1, 1, 1, 1, 1, 1, 0, 1, 1, 1, 1, 1, 0,\n",
            "        1, 1, 2, 1, 1, 0, 0, 0, 1, 1, 0, 1, 0, 1, 1, 1], device='cuda:0'), tensor([1, 0, 1, 1, 1, 0, 0, 1, 0, 0, 0, 1, 0, 0, 0, 0, 0, 1, 0, 1, 2, 1, 0, 0,\n",
            "        0, 1, 0, 0, 0, 1, 0, 0, 0, 0, 0, 0, 0, 0, 0, 1, 0, 0, 0, 1, 1, 0, 0, 0,\n",
            "        0, 1, 1, 0, 1, 0, 1, 0, 0, 0, 0, 0, 0, 0, 2, 0], device='cuda:0'), tensor([2, 0, 0, 0, 0, 0, 1, 2, 0, 0, 0, 0, 0, 0, 0, 0, 2, 0, 0, 0, 0, 0, 2, 0,\n",
            "        2, 0, 0, 0, 2, 0, 0, 0, 0, 0, 0, 0, 0, 0, 2, 0, 0, 1, 0, 1, 0, 1, 0, 0,\n",
            "        0, 0, 0, 0, 1, 1, 0, 0, 0, 2, 1, 1, 2, 0, 0, 1], device='cuda:0'), tensor([0, 0, 0, 0, 0, 0, 0, 0, 0, 0, 0, 0, 0, 0, 0, 0, 0, 0, 0, 0, 1, 0, 1, 0,\n",
            "        1, 0, 0, 0, 0, 0, 2, 0, 0, 0, 0, 0, 0, 0, 0, 0, 2, 0, 0, 1, 0, 0, 0, 0,\n",
            "        1, 0, 0, 1, 0, 0, 0, 2, 0, 0, 0, 2, 0, 1, 1, 1], device='cuda:0'), tensor([0, 1, 2, 0, 0, 0, 0, 0, 0, 0, 0, 1, 0, 0, 0, 0, 1, 0, 0, 0, 0, 0, 0, 1,\n",
            "        1, 1, 0, 1, 2, 1, 0, 2, 0, 0, 0, 0, 1, 1, 2, 1, 1, 1, 1, 1, 1, 1, 1, 1,\n",
            "        2, 1, 1, 1, 1, 1, 2, 1, 0, 1, 0, 0, 1, 1, 1, 1], device='cuda:0'), tensor([2, 1, 1, 0, 0, 2, 2, 1, 1, 2, 1, 2, 1, 0, 1, 0, 2, 1, 1, 0, 1, 0, 1, 0,\n",
            "        0, 0, 1, 2, 2, 2, 2, 1, 0, 0, 0, 0, 0, 0, 0, 0, 0, 0, 0, 0, 2, 0, 0, 0,\n",
            "        0, 0, 0, 0, 0, 0, 0, 0, 2, 0, 0, 2, 0, 0, 2, 0], device='cuda:0'), tensor([0, 2, 0, 0, 0, 2, 0, 0, 1, 2, 0, 0, 1, 0, 1, 2, 1, 2, 0, 2, 0, 0, 0, 0,\n",
            "        0, 1, 0, 0, 2, 1, 1, 2, 2, 0, 0, 2, 1, 0, 1, 2, 2, 0, 0, 0, 1, 0, 0, 2,\n",
            "        1, 2, 0, 2, 0, 2, 0, 0, 0, 0, 0, 0, 0, 2, 0, 0], device='cuda:0'), tensor([2, 1, 2, 2, 0, 0, 0, 0, 2, 0, 2, 0, 1, 2, 0, 2, 0, 2, 0, 0, 2, 0, 0, 0,\n",
            "        0, 2, 2, 0, 2, 0, 0, 2, 2, 0, 1, 0, 0, 0, 0, 0, 0, 1, 0, 0, 2, 0, 0, 2,\n",
            "        0, 0, 0, 2, 0, 2, 1, 2, 0, 2, 2, 1, 2, 0, 0, 1], device='cuda:0'), tensor([0, 0, 1, 0, 0, 0, 2, 0, 0, 1, 0, 0, 2, 0, 0, 0, 2, 0, 0, 0, 0, 0, 0, 0,\n",
            "        0, 1, 0, 1, 2, 0, 2, 0, 2, 1, 2, 0, 0, 2, 0, 2, 0, 2, 0, 1, 2, 2, 1, 0,\n",
            "        0, 1, 1, 0, 0, 0, 2, 2, 0, 0, 1, 0, 2, 1, 0, 2], device='cuda:0'), tensor([2, 0, 2, 0, 1, 0, 0, 0, 0, 0, 2, 0, 0, 0, 0, 0, 0, 1, 0, 0, 0, 0, 1, 0,\n",
            "        1, 1, 1, 1, 0, 0, 0, 0, 0, 0, 0, 0, 0, 0, 0, 0, 1, 0, 1, 0, 0, 0, 0, 0,\n",
            "        1, 1, 0, 1, 1, 0, 0, 0, 0, 0, 0, 0, 0, 1, 0, 0], device='cuda:0'), tensor([0, 0, 0, 0, 0, 0, 0, 0, 0, 0, 2, 0, 0, 0, 0, 0, 2, 0, 0, 0, 0, 0, 0, 0,\n",
            "        0, 0, 0, 0, 0, 0, 0, 0, 0, 0, 0, 0, 0, 0, 0, 1, 0, 0, 1, 0, 0, 0, 0, 2,\n",
            "        0, 0, 0, 0, 0, 0, 0, 0, 0, 0, 0, 1, 0, 0, 1, 0], device='cuda:0'), tensor([2, 0, 0, 0, 1, 0, 0, 0, 0, 0, 2, 0, 2, 2, 0, 0, 0, 0, 0, 0, 0, 0, 0, 0,\n",
            "        0, 0, 0, 0, 0, 2, 0, 0, 1, 0, 0, 1, 2, 0, 2, 2, 2, 2, 2, 0, 0, 0, 0, 0,\n",
            "        0, 2, 1, 0, 0, 2, 0, 0, 0, 0, 0, 0, 0, 0, 0, 1], device='cuda:0'), tensor([1, 1, 0, 1, 0, 1, 1, 0, 0, 1, 0, 2, 2, 0, 0, 2, 0, 0, 1, 2, 1, 0, 2, 0,\n",
            "        2, 2, 0, 2, 0, 0, 0, 0, 0, 2, 0, 2, 2, 2, 2, 0, 2, 2, 2, 0, 2, 2, 2, 0,\n",
            "        2, 0, 0, 2, 2, 0, 0, 1, 0, 1, 0, 1, 1, 1, 0, 0], device='cuda:0'), tensor([0, 0, 1, 1, 0, 0, 0, 0, 2, 0, 0, 1, 0, 1, 0, 0, 0, 0, 1, 0, 0, 1, 1, 0,\n",
            "        0, 0, 1, 1, 2, 0, 1, 0, 0, 0, 2, 0, 0, 0, 0, 1, 1, 1, 0, 0, 0, 0, 1, 1,\n",
            "        0, 1, 0, 1, 0, 0, 0, 1, 0, 0, 0, 1, 1, 0, 0, 0], device='cuda:0'), tensor([1, 0, 1, 0, 1, 0, 1, 1, 0, 1, 1, 0, 0, 1, 0, 1, 1, 0, 1, 0, 0, 0, 1, 2,\n",
            "        0, 0, 0, 2, 1, 0, 1, 0, 1, 1, 1, 1, 0, 1, 0, 0, 0, 1, 0, 0, 0, 0, 2, 0,\n",
            "        0, 0, 0, 2, 0, 0, 0, 0, 0, 0, 2, 0, 1, 0, 2, 0], device='cuda:0'), tensor([0, 0, 2, 2, 0, 1, 2, 0, 0, 0, 0, 0, 1, 0, 1, 0, 2, 0, 0, 1, 0, 2, 0, 0,\n",
            "        0, 1, 0, 2, 0, 2, 0, 0, 2, 0, 1, 0, 0, 2, 0, 2, 0, 0, 0, 0, 0, 0, 0, 0,\n",
            "        0, 0, 0, 0, 1, 1, 1, 1, 1, 1, 1, 1, 1, 1, 0, 1], device='cuda:0'), tensor([1, 1, 1, 1, 1, 1, 1, 1, 0, 0, 1, 1, 0, 0, 1, 1, 1, 1, 1, 1, 1, 1, 1, 0,\n",
            "        1, 1, 1, 1, 1, 0, 1, 1, 1, 2, 2, 2, 1, 1, 1, 0, 1, 1, 1, 1, 1, 1, 1, 1,\n",
            "        1, 1, 2, 1, 0, 1, 0, 0, 1, 1, 1, 1, 0, 0, 1, 1], device='cuda:0'), tensor([1, 1, 1, 1, 0, 1, 1, 0, 1, 0, 2, 0, 2, 1, 1, 0, 1, 0, 1, 1, 1, 1, 1, 1,\n",
            "        1, 1, 1, 1, 1, 1, 1, 1, 1, 1, 1, 1, 1, 1, 0, 1, 1, 0, 0, 0, 0, 0, 0, 2,\n",
            "        2, 2, 0, 0, 1, 0, 0, 0, 0, 0, 1, 0, 0, 0, 0, 0], device='cuda:0'), tensor([0, 1, 0, 1, 2, 0, 0, 0, 0, 1, 0, 0, 1, 0, 0, 0, 0, 1, 0, 1, 1, 0, 0, 0,\n",
            "        0, 0, 0, 0, 0, 0, 0, 0, 0, 2, 0, 0, 0, 0, 0, 0, 1, 0, 0, 0, 0, 1, 2, 0,\n",
            "        0, 0, 0, 0, 0, 0, 0, 0, 0, 0, 0, 0, 1, 0, 2, 0], device='cuda:0'), tensor([0, 0, 0, 0, 0, 0, 2, 0, 0, 0, 0, 0, 0, 0, 0, 0, 0, 0, 0, 0, 2, 0, 0, 2,\n",
            "        0, 0, 1, 0, 0, 0, 0, 0, 0, 0, 0, 0, 0, 0, 0, 0, 0, 0, 0, 2, 0, 0, 0, 0,\n",
            "        0, 0, 0, 0, 0, 0, 0, 2, 0, 2, 0, 2, 0, 2, 2, 0], device='cuda:0'), tensor([2, 0, 0, 0, 0, 0, 0, 0, 0, 0, 0, 0, 2, 2, 0, 2, 0, 2, 2, 2, 0, 0, 0, 2,\n",
            "        0, 2, 2, 0, 0, 2, 2, 0, 0, 0, 0, 0, 0, 2, 0, 0, 0, 0, 0, 0, 2, 0, 0, 0,\n",
            "        0, 2, 0, 1, 0, 2, 0, 0, 0, 0, 0, 0, 2, 2, 0, 0], device='cuda:0'), tensor([2, 0, 0, 2, 0, 2, 1, 1, 1, 0, 2, 0, 1, 1, 0, 1, 0, 0, 0, 1, 1, 1, 1, 1,\n",
            "        2, 1, 1, 1, 1, 0, 0, 0, 0, 0, 0, 1, 1, 2, 0, 1, 2, 2, 0, 0, 1, 0, 0, 0,\n",
            "        1, 1, 1, 0, 0, 0, 0, 2, 1, 0, 2, 0, 0, 1, 1, 0], device='cuda:0'), tensor([1, 1, 2, 2, 0, 1, 2, 0, 0, 2, 0, 0, 0, 2, 1, 2, 1, 2, 0, 2, 0, 0, 0, 0,\n",
            "        2, 0, 2, 0, 2, 0, 0, 0, 0, 0, 0, 2, 0, 0, 0, 1, 1, 1, 1, 1, 1, 1, 0, 1,\n",
            "        2, 0, 1, 0, 0, 0, 1, 0, 0, 0, 0, 0, 0, 0, 1, 1], device='cuda:0'), tensor([0, 1, 2, 1, 2, 0, 2, 1, 1, 0, 1, 0, 1, 0, 0, 1, 2, 0, 1, 1, 1, 2, 1, 1,\n",
            "        1, 1, 1, 0, 0, 0, 0, 0, 0, 0, 0, 0, 0, 0, 0, 0, 0, 0, 0, 0, 0, 0, 2, 0,\n",
            "        0, 0, 0, 0, 0, 0, 0, 2, 1, 0, 0, 0, 2, 2, 2, 0], device='cuda:0'), tensor([2, 1, 2, 0, 0, 0, 0, 0, 1, 2, 1, 0, 0, 1, 0, 1, 0, 0, 0, 0, 2, 1, 0, 0,\n",
            "        0, 1, 2, 0, 0, 0, 0, 0, 0, 1, 1, 2, 0, 1, 0, 0, 0, 0, 0, 0, 0, 2, 2, 2,\n",
            "        0, 2, 0, 1, 1, 1, 1, 1, 1, 1, 1, 1, 0, 0, 2, 0], device='cuda:0'), tensor([0, 0, 0, 0, 0, 0, 0, 0, 0, 1, 1, 1, 0, 0, 0, 0, 0, 0, 0, 0, 0, 0, 0, 0,\n",
            "        0, 0, 0, 0, 0, 0, 0, 0, 0, 0, 0, 0, 0, 0, 0, 0, 0, 0, 0, 0, 0, 0, 0, 0,\n",
            "        0, 0, 0, 0, 0, 2, 0, 0, 0, 0, 0, 0, 0, 0, 0, 0], device='cuda:0'), tensor([0, 0, 0, 0, 0, 0, 0, 0, 0, 0, 0, 2, 0, 2, 2, 2, 2, 2, 2, 0, 0, 1, 1, 0,\n",
            "        0, 0, 0, 1, 1, 0, 0, 1, 1, 1, 1, 0, 1, 1, 0, 1, 0, 1, 1, 0, 1, 0, 0, 1,\n",
            "        1, 0, 1, 1, 1, 0, 1, 0, 1, 0, 1, 2, 0, 1, 0, 0], device='cuda:0'), tensor([1, 0, 0, 1, 1, 0, 1, 1, 0, 0, 0, 0, 0, 1, 1, 0, 1, 1, 0, 1, 1, 1, 1, 0,\n",
            "        1, 2, 2, 2, 1, 1, 1, 1, 1, 0, 1, 1, 1, 2, 1, 1, 1, 0, 1, 1, 0, 0, 0, 2,\n",
            "        0, 2, 1, 1, 2, 2, 0, 0, 1, 1, 2, 0, 0, 0, 1, 1], device='cuda:0'), tensor([1, 0, 0, 2, 2, 0, 0, 2, 0, 0, 2, 0, 0, 0, 0, 0, 1, 0, 0, 1, 0, 0, 0, 0,\n",
            "        0, 2, 1, 1, 1, 0, 0, 0, 0, 0, 0, 0, 1, 0, 0, 0, 0, 0, 0, 0, 0, 0, 0, 0,\n",
            "        0, 0, 0, 0, 0, 0, 2, 0, 2, 0, 0, 0, 0, 0, 2, 0], device='cuda:0'), tensor([0, 0, 0, 0, 0, 1, 0, 1, 0, 1, 0, 1, 0, 1, 0, 2, 2, 0, 0, 0, 1, 0, 0, 0,\n",
            "        2, 0, 0, 0, 0, 0, 1, 0, 0, 0, 0, 0, 0, 0, 1, 1, 1, 1, 0, 2, 0, 0, 0, 1,\n",
            "        0, 0, 1, 0, 0, 0, 0, 0, 0, 0, 0, 0, 0, 2, 0, 2], device='cuda:0'), tensor([0, 2, 2, 0, 2, 0, 0, 0, 0, 2, 0, 0, 2, 2, 2, 2, 0, 0, 0, 0, 0, 0, 0, 0,\n",
            "        0, 0, 2, 0, 0, 0, 0, 2, 0, 0, 0, 2, 0, 1, 0, 2, 0, 0, 0, 0, 2, 0, 0, 0,\n",
            "        0, 0, 0, 2, 2, 0, 1, 1, 2, 2, 0, 1, 2, 2, 1, 1], device='cuda:0'), tensor([0, 1, 1, 1, 1, 1, 1, 0, 2, 1, 0, 2, 2, 1, 0, 0, 0, 0, 1, 0, 0, 0, 2, 0,\n",
            "        0, 0, 0, 2, 1, 1, 0, 0, 2, 1, 1, 2, 0, 0, 0, 0, 0, 0, 2, 1, 1, 1, 1, 0,\n",
            "        1, 1, 2, 0, 0, 2, 0, 0, 2, 0, 0, 2, 2, 2, 0, 2], device='cuda:0'), tensor([0, 2, 0, 2, 2, 0, 0, 2, 0, 2, 2, 0, 0, 0, 0, 0, 2, 0, 2, 0, 0, 0, 0, 0,\n",
            "        1, 0, 0, 0, 2, 0, 0, 0, 0, 0, 2, 0, 0, 0, 1, 0, 0, 1, 0, 1, 0, 2, 0, 0,\n",
            "        0, 2, 0, 0, 0, 0, 0, 0, 0, 0, 0, 0, 0, 0, 0, 0], device='cuda:0'), tensor([0, 0, 1, 0, 0, 0, 2, 0, 0, 0, 0, 0, 0, 0, 0, 0, 0, 0, 0, 0, 0, 2, 0, 1,\n",
            "        0, 0, 0, 0, 0, 0, 0, 0, 2, 2, 0, 2, 2, 2, 2, 2, 2, 2, 2, 2, 0, 2, 0, 0,\n",
            "        0, 0, 0, 0, 0, 0, 0, 0, 0, 0, 0, 0, 0, 0, 0, 0], device='cuda:0'), tensor([0, 0, 0, 0, 0, 0, 0, 2, 2, 0, 0, 0, 0, 0, 0, 0, 0, 0, 0, 1, 0, 0, 1, 1,\n",
            "        0, 1, 0, 0, 1, 0, 1, 0, 1, 0, 1, 1, 1, 0, 1, 0, 1, 0, 0, 0, 0, 2, 0, 0,\n",
            "        0, 1, 1, 0, 1, 0, 2, 0, 2, 1, 1, 1, 1, 1, 0, 1], device='cuda:0'), tensor([0, 1, 2, 1, 1, 0, 1, 1, 0, 0, 0, 0, 1, 0, 0, 1, 0, 0, 2, 1, 0, 0, 0, 0,\n",
            "        1, 0, 0, 0, 0, 0, 1, 0, 2, 0, 2, 0, 1, 1, 1, 0, 0, 0, 0, 2, 0, 1, 0, 0,\n",
            "        0, 0, 0, 0, 0, 0, 0, 0, 0, 0, 0, 0, 0, 2, 0, 2], device='cuda:0'), tensor([0, 0, 0, 2, 2, 0, 2, 0, 1, 2, 2, 0, 2, 0, 0, 0, 0, 2, 0, 2, 0, 2, 1, 0,\n",
            "        2, 2, 2, 0, 0, 0, 0, 0, 1, 0, 0, 0, 0, 0, 0, 0, 0, 0, 0, 0, 2, 2, 0, 2,\n",
            "        0, 0, 0, 0, 0, 0, 0, 0, 0, 0, 0, 0, 0, 2, 0, 0], device='cuda:0'), tensor([2, 0, 0, 0, 0, 0, 0, 2, 0, 2, 0, 2, 0, 0, 2, 0, 2, 2, 2, 2, 0, 2, 0, 0,\n",
            "        2, 0, 2, 0, 2, 2, 0, 0, 0, 0, 0, 0, 0, 0, 0, 0, 0, 0, 0, 0, 2, 0, 0, 2,\n",
            "        2, 0, 0, 2, 0, 0, 2, 0, 0, 1, 0, 2, 0, 0, 0, 2], device='cuda:0'), tensor([0, 0, 2, 2, 2, 0, 1, 2, 0, 1, 0, 2, 0, 0, 0, 2, 0, 0, 0, 2, 0, 0, 1, 2,\n",
            "        0, 0, 1, 0, 0, 1, 0, 0, 1, 2, 0, 0, 2, 0, 1, 2, 2, 0, 0, 0, 1, 0, 0, 1,\n",
            "        0, 1, 0, 0, 0, 0, 0, 0, 0, 0, 2, 2, 0, 0, 0, 1], device='cuda:0'), tensor([0, 1, 0, 2, 0, 0, 2, 0, 0, 0, 2, 2, 0, 0, 0, 2, 0, 0, 0, 1, 1, 0, 1, 1,\n",
            "        0, 0, 0, 0, 2, 2, 0, 2, 0, 2, 0, 0, 1, 1, 1, 1, 1, 0, 0, 0, 0, 1, 0, 0,\n",
            "        0, 0, 0, 0, 0, 0, 0, 0, 0, 0, 0, 0, 0, 0, 2, 0], device='cuda:0'), tensor([0, 0, 0, 0, 0, 0, 2, 0, 2, 0, 0, 0, 2, 0, 0, 0, 1, 0, 0, 0, 2, 0, 0, 0,\n",
            "        0, 2, 0, 0, 0, 0, 0, 0, 0, 0, 0, 2, 2, 1, 0, 2, 0, 2, 0, 0, 0, 0, 0, 0,\n",
            "        1, 0, 2, 0, 1, 0, 0, 0, 0, 0, 0, 0, 0, 1, 2, 0], device='cuda:0'), tensor([2, 2, 0, 2, 0, 2, 2, 2, 2, 0, 2, 2, 2, 0, 0, 2, 2, 2, 2, 2, 2, 0, 2, 1,\n",
            "        1, 0, 2, 2, 2, 0, 0, 2, 2, 0, 2, 0, 2, 0, 0, 0, 0, 2, 0, 2, 0, 0, 0, 2,\n",
            "        0, 0, 0, 2, 2, 2, 0, 0, 0, 2, 2, 2, 2, 2, 0, 2], device='cuda:0'), tensor([0, 2, 2, 0, 0, 0, 0, 0, 0, 0, 0, 0, 0, 1, 1, 0, 0, 2, 2, 0, 2, 0, 0, 0,\n",
            "        2, 0, 2, 0, 0, 0, 2, 2, 2, 2, 0, 0, 2, 0, 0, 2, 1, 2, 0, 0, 0, 0, 0, 0,\n",
            "        0, 0, 0, 0, 0, 0, 0, 0, 0, 0, 0, 0, 1, 0, 0, 0], device='cuda:0'), tensor([0, 0, 1, 0, 0, 0, 0, 0, 0, 2, 0, 1, 0, 0, 0, 0, 0, 1, 0, 0, 0, 2, 2, 2,\n",
            "        2, 0, 0, 0, 0, 0, 0, 0, 0, 1, 0, 0, 1, 1, 0, 0, 1, 0, 0, 0, 0, 0, 0, 0,\n",
            "        2, 0, 0, 2, 2, 0, 0, 0, 2, 0, 2, 2, 2, 0, 1, 2], device='cuda:0'), tensor([0, 2, 2, 2, 0, 2, 0, 2, 2, 2, 0, 0, 2, 2, 2, 0, 2, 2, 2, 2, 0, 1, 1, 0,\n",
            "        1, 2, 0, 1, 0, 2, 2, 2, 2, 2, 2, 2, 2, 2, 0, 2, 2, 2, 2, 0, 0, 0, 0, 0,\n",
            "        0, 1, 0, 0, 1, 0, 1, 1, 0, 1, 0, 1, 1, 1, 2, 1], device='cuda:0'), tensor([1, 1, 1, 0, 0, 0, 0, 0, 0, 0, 2, 0, 0, 0, 0, 0, 0, 0, 2, 0, 0, 0, 0, 0,\n",
            "        2, 0, 2, 0, 2, 0, 0, 0, 0, 0, 0, 0, 0, 0, 0, 0, 0, 0, 0, 0, 1, 0, 0, 0,\n",
            "        2, 0, 2, 0, 0, 0, 0, 0, 2, 1, 2, 0, 0, 0, 1, 0], device='cuda:0'), tensor([0, 0, 2, 0, 1, 0, 0, 0, 0, 0, 0, 0, 0, 0, 2, 2, 2, 0, 2, 0, 0, 2, 2, 0,\n",
            "        2, 2, 2, 1, 2, 2, 2, 0, 0, 0, 2, 2, 0, 1, 0, 0, 2, 2, 0, 0, 0, 0, 1, 0,\n",
            "        1, 1, 1, 2, 0, 0, 1, 0, 1, 0, 0, 1, 1, 1, 1, 1], device='cuda:0'), tensor([1, 1, 0, 0, 1, 0, 0, 0, 0, 0, 0, 0, 1, 0, 0, 1, 0, 0, 0, 0, 1, 2, 2, 0,\n",
            "        0, 0, 0, 2, 0, 1, 1, 0, 0, 2, 0, 0, 0, 0, 0, 2, 2, 0, 0, 0, 1, 1, 2, 0,\n",
            "        0, 0, 0, 0, 1, 2, 1, 1, 1, 1, 0, 0, 0, 0, 0, 1], device='cuda:0'), tensor([0, 1, 0, 0, 0, 2, 0, 0, 0, 0, 0, 0, 2, 0, 0, 2, 0, 2, 2, 2, 0, 0, 0, 1,\n",
            "        0, 0, 0, 1, 0, 0, 0, 0, 0, 0, 0, 0, 0, 0, 0, 0, 0, 0, 2, 0, 2, 0, 2, 2,\n",
            "        0, 2, 0, 0, 1, 0, 0, 0, 0, 0, 1, 1, 1, 1, 0, 1], device='cuda:0'), tensor([0, 0, 0, 2, 0, 0, 0, 0, 2, 0, 0, 0, 0, 0, 0, 0, 0, 2, 0, 0, 0, 2, 2, 2,\n",
            "        0, 2, 0, 0, 1, 0, 2, 2, 0, 0, 0, 1, 1, 0, 0, 0, 0, 0, 0, 0, 1, 0, 0, 1,\n",
            "        0, 0, 0, 2, 0, 0, 1, 0, 0, 0, 0, 0, 0, 0, 0, 0], device='cuda:0'), tensor([0, 0, 0, 1, 0, 2, 1, 0, 2, 0, 0, 0, 0, 0, 0, 1, 0, 2, 0, 0, 0, 0, 2, 2,\n",
            "        0, 2, 1, 0, 0, 0, 0, 0, 0, 0, 0, 0, 0, 0, 0, 2, 1, 1, 1, 0, 0, 0, 0, 2,\n",
            "        1, 0, 0, 0, 0, 0, 0, 0, 0, 2, 0, 2, 0, 2, 0, 0], device='cuda:0'), tensor([2, 0, 0, 0, 1, 0, 2, 0, 2, 0, 0, 2, 0, 2, 0, 0, 2, 0, 2, 2, 0, 0, 0, 0,\n",
            "        0, 2, 0, 0, 2, 0, 0, 0, 0, 0, 0, 0, 0, 0, 2, 0, 2, 2, 0, 0, 0, 0, 0, 0,\n",
            "        2, 2, 0, 2, 0, 0, 2, 1, 2, 0, 2, 0, 2, 0, 0, 0], device='cuda:0'), tensor([0, 2, 0, 0, 0, 0, 0, 0, 0, 0, 0, 0, 0, 1, 0, 1, 0, 1, 1, 0, 1, 0, 0, 0,\n",
            "        0, 0, 0, 0, 0, 0, 0, 0, 0, 0, 0, 0, 0, 0, 0, 0, 0, 0, 0, 0, 0, 0, 0, 1,\n",
            "        0, 0, 0, 0, 0, 0, 0, 0, 0, 1, 0, 0, 0, 0, 0, 0], device='cuda:0'), tensor([0, 0, 2, 0, 0, 0, 0, 1, 0, 0, 1, 1, 0, 0, 0, 0, 1, 1, 0, 0, 2, 0, 0, 0,\n",
            "        0, 0, 0, 0, 0, 0, 0, 0, 2, 2, 0, 1, 0, 0, 0, 0, 0, 0, 0, 0, 0, 2, 2, 2,\n",
            "        0, 2, 0, 0, 0, 2, 2, 2, 2, 0, 2, 0, 1, 1, 2, 0], device='cuda:0'), tensor([0, 0, 0, 2, 2, 2, 0, 0, 0, 0, 0, 0, 0, 0, 2, 0, 2, 0, 0, 0, 0, 0, 0, 0,\n",
            "        0, 0, 0, 0, 1, 0, 1, 0, 0, 1, 2, 0, 1, 1, 1, 2, 0, 0, 0, 0, 2, 0, 2, 2,\n",
            "        0, 2, 0, 2, 2, 2, 0, 1, 0, 0, 1, 1, 0, 1, 0, 0], device='cuda:0'), tensor([1, 0, 0, 0, 2, 0, 0, 2, 0, 0, 2, 0, 0, 0, 0, 0, 0, 2, 1, 1, 1, 1, 0, 0,\n",
            "        0, 2, 0, 0, 2, 2, 2, 2, 2, 2, 0, 2, 2, 2, 2, 2, 2, 2, 0, 2, 2, 2, 1, 2,\n",
            "        2, 2, 2, 2, 0, 2, 2, 2, 0, 0, 0, 0, 0, 0, 0, 2], device='cuda:0'), tensor([0, 2, 2, 2, 0, 0, 1, 1, 0, 2, 0, 0, 0, 0, 0, 0, 2, 0, 0, 1, 0, 2, 0, 0,\n",
            "        0, 0, 0, 0, 0, 1, 0, 1, 0, 1, 1, 1, 1, 1, 1, 0, 0, 0, 1, 0, 0, 1, 1, 1,\n",
            "        1, 1, 0, 0, 0, 0, 0, 0, 0, 0, 2, 0, 0, 0, 0, 0], device='cuda:0'), tensor([0, 0, 0, 0, 1, 2, 0, 0, 1, 0, 0, 2, 1, 1, 1, 1, 1, 1, 1, 1, 1, 1, 1, 2,\n",
            "        0, 0, 1, 1, 1, 0, 1, 0, 0, 0, 0, 0, 1, 0, 0, 0, 1, 0, 1, 0, 1, 1, 0, 1,\n",
            "        0, 0, 0, 1, 0, 0, 0, 0, 0, 0, 0, 0, 2, 2, 0, 0], device='cuda:0'), tensor([0, 0, 0, 0, 2, 0, 0, 0, 1, 0, 0, 2, 0, 0, 0, 0, 0, 0, 0, 0, 0, 0, 0, 2,\n",
            "        0, 0, 1, 0, 0, 0, 2, 0, 2, 0, 0, 2, 0, 2, 0, 0, 0, 1, 0, 0, 0, 0, 0, 0,\n",
            "        2, 0, 0, 0, 2, 0, 0, 0, 0, 0, 0, 2, 0, 2, 0, 2], device='cuda:0'), tensor([2, 2, 2, 0, 0, 0, 2, 0, 1, 2, 0, 0, 0, 0, 0, 0, 0, 0, 0, 0, 0, 0, 0, 0,\n",
            "        0, 0, 0, 1, 0, 1, 0, 0, 1, 1, 0, 0, 2, 2, 2, 0, 2, 2, 0, 0, 0, 0, 0, 0,\n",
            "        2, 2, 0, 2, 0, 2, 0, 2, 1, 0, 0, 0, 1, 0, 0, 1], device='cuda:0'), tensor([0, 0, 0, 0, 0, 0, 0, 0, 0, 0, 0, 0, 0, 0, 0, 0, 0, 0, 0, 0, 0, 0, 0, 2,\n",
            "        0, 0, 0, 0, 0, 0, 0, 0, 0, 1, 1, 0, 0, 0, 0, 0, 2, 0, 0, 0, 2, 1, 0, 0,\n",
            "        0, 2, 0, 0, 0, 0, 0, 0, 1, 0, 2, 0, 2, 0, 0, 0], device='cuda:0'), tensor([0, 1, 1, 0, 0, 2, 1, 0, 1, 2, 2, 0, 0, 0, 0, 0, 0, 0, 2, 2, 2, 0, 0, 0,\n",
            "        2, 1, 0, 1, 2, 0, 0, 2, 1, 0, 0, 0, 0, 1, 0, 0, 1, 0, 0, 0, 1, 1, 0, 0,\n",
            "        0, 1, 0, 0, 0, 0, 0, 0, 1, 0, 0, 0, 0, 0, 0, 1], device='cuda:0'), tensor([2, 2, 0, 0, 2, 1, 0, 1, 0, 0, 2, 0, 0, 0, 0, 0, 0, 0, 2, 0, 0, 0, 1, 1,\n",
            "        0, 1, 0, 0, 1, 0, 0, 0, 0, 0, 0, 0, 0, 2, 1, 0, 1, 2, 1, 1, 1, 1, 0, 0,\n",
            "        0, 0, 0, 0, 0, 0, 0, 0, 1, 0, 0, 0, 0, 0, 0, 0], device='cuda:0'), tensor([1, 0, 0, 1, 1, 1, 1, 1, 0, 0, 1, 0, 1, 1, 1, 1, 0, 0, 0, 1, 1, 1, 0, 0,\n",
            "        0, 1, 1, 0, 0, 1, 0, 1, 1, 1, 0, 2, 1, 1, 1, 0, 0, 2, 0, 0, 0, 0, 0, 1,\n",
            "        1, 0, 0, 0, 1, 0, 0, 0, 0, 2, 0, 0, 0, 0, 0, 2], device='cuda:0'), tensor([0, 0, 0, 0, 0, 1, 0, 0, 0, 2, 0, 0, 0, 0, 1, 0, 0, 0, 1, 1, 1, 1, 1, 1,\n",
            "        1, 1, 1, 1, 2, 0, 1, 0, 0, 1, 1, 1, 1, 0, 0, 0, 1, 0, 0, 1, 0, 0, 0, 0,\n",
            "        0, 0, 0, 0, 0, 2, 0, 2, 2, 0, 0, 0, 0, 0, 0, 0], device='cuda:0'), tensor([2, 0, 0, 0, 2, 2, 1, 0, 1, 0, 0, 1, 2, 1, 0, 2, 0, 2, 0, 0, 0, 0, 2, 0,\n",
            "        1, 2, 0, 2, 2, 0, 2, 2, 0, 0, 0, 0, 0, 0, 1, 0, 0, 0, 1, 0, 2, 0, 2, 0,\n",
            "        0, 0, 0, 1, 0, 0, 0, 0, 0, 0, 0, 0, 0, 0, 0, 1], device='cuda:0'), tensor([0, 1, 2, 2, 1, 2, 2, 0, 0, 0, 0, 2, 2, 0, 2, 0, 0, 0, 0, 0, 0, 0, 1, 0,\n",
            "        0, 0, 0, 1, 1, 1, 2, 0, 0, 0, 1, 0, 0, 0, 0, 0, 0, 1, 0, 0, 0, 0, 0, 0,\n",
            "        0, 0, 0, 0, 0, 1, 2, 0, 0, 0, 0, 0, 2, 2, 0, 0], device='cuda:0'), tensor([0, 0, 0, 0, 0, 0, 0, 0, 0, 1, 0, 0, 0, 0, 0, 0, 2, 0, 0, 0, 0, 2, 0, 0,\n",
            "        1, 0, 0, 0, 0, 1, 1, 1, 0, 0, 1, 1, 0, 1, 0, 0, 1, 0, 0, 0, 0, 0, 0, 0,\n",
            "        0, 0, 0, 0, 0, 0, 1, 0, 0, 0, 0, 0, 0, 0, 0, 2], device='cuda:0'), tensor([0, 2, 2, 0, 2, 0, 0, 0, 0, 0, 2, 2, 0, 2, 1, 0, 0, 0, 0, 1, 1, 0, 1, 1,\n",
            "        0, 0, 1, 1, 1, 1, 2, 0, 1, 1, 0, 0, 2, 2, 0, 1, 0, 0, 0, 0, 0, 0, 0, 0,\n",
            "        0, 0, 0, 0, 0, 0, 0, 0, 0, 0, 0, 0, 0, 0, 0, 0], device='cuda:0'), tensor([0, 0, 0, 0, 0, 1, 1, 1, 0, 1, 1, 1, 1, 1, 0, 0, 1, 1, 1, 0, 0, 0, 0, 0,\n",
            "        0, 0, 1, 0, 1, 0, 1, 1, 0, 0, 1, 0, 2, 1, 0, 1, 1, 1, 2, 0, 0, 0, 2, 0,\n",
            "        2, 2, 0, 2, 0, 0, 0, 0, 0, 0, 0, 2, 0, 1, 0, 1], device='cuda:0'), tensor([0, 2, 1, 0, 0, 0, 0, 0, 1, 1, 0, 2, 0, 0, 0, 1, 0, 1, 0, 0, 0, 2, 1, 0,\n",
            "        0, 1, 0, 1, 0, 1, 1, 1, 1, 1, 1, 1, 1, 1, 1, 0, 0, 0, 0, 0, 0, 0, 1, 2,\n",
            "        0, 0, 0, 0, 0, 2, 0, 0, 2, 2, 0, 0, 0, 2, 0, 2], device='cuda:0'), tensor([2, 1, 2, 2, 0, 0, 2, 2, 2, 2, 1, 0, 2, 2, 1, 2, 0, 2, 0, 0, 0, 2, 2, 2,\n",
            "        0, 1, 1, 0, 0, 0, 2, 0, 0, 0, 0, 0, 1, 0, 0, 0, 0, 0, 0, 0, 0, 1, 1, 0,\n",
            "        0, 2, 1, 1, 0, 0, 0, 0, 0, 1, 0, 0, 0, 0, 1, 0], device='cuda:0'), tensor([0, 0, 1, 0, 0, 0, 0, 0, 0, 1, 0, 2, 2, 0, 2, 0, 0, 2, 2, 2, 0, 0, 2, 0,\n",
            "        1, 0, 0, 0, 0, 0, 0, 0, 0, 1, 0, 2, 0, 0, 2, 1, 0, 0, 0, 0, 0, 0, 1, 0,\n",
            "        0, 0, 0, 2, 0, 0, 2, 0, 2, 2, 2, 0, 2, 2, 0, 0], device='cuda:0'), tensor([2, 0, 2, 2, 2, 0, 2, 2, 2, 2, 0, 0, 0, 0, 2, 0, 2, 2, 0, 0, 1, 2, 0, 0,\n",
            "        0, 1, 2, 2, 0, 0, 0, 0, 0, 1, 0, 1, 1, 1, 1, 2, 1, 2, 0, 1, 0, 2, 2, 0,\n",
            "        2, 2, 0, 0, 0, 0, 1, 0, 1, 2, 1, 1, 1, 1, 2, 1], device='cuda:0'), tensor([1, 0, 0, 0, 1, 0, 1, 0, 0, 0, 1, 0, 0, 0, 0, 2, 2, 2, 0, 0, 1, 0, 2, 0,\n",
            "        0, 0, 0, 0, 2, 0, 0, 2, 0, 0, 2, 2, 0, 0, 0, 0, 0, 2, 0, 0, 0, 0, 0, 1,\n",
            "        1, 1, 0, 1, 0, 0, 0, 0, 0, 0, 0, 0, 0, 0, 0, 0], device='cuda:0'), tensor([0, 0, 0, 0, 2, 1, 0, 1, 0, 2, 2, 0, 0, 1, 0, 0, 0, 0, 0, 1, 0, 0, 0, 0,\n",
            "        2, 2, 0, 0, 0, 2, 0, 2, 2, 2, 2, 2, 2, 2, 0, 0, 2, 0, 0, 0, 0, 1, 0, 0,\n",
            "        0, 0, 0, 0, 2, 2, 0, 0, 0, 0, 0, 2, 2, 0, 1, 1], device='cuda:0'), tensor([0, 0, 1, 0, 0, 0, 1, 1, 1, 1, 1, 0, 0, 0, 0, 0, 0, 2, 2, 0, 2, 0, 0, 0,\n",
            "        0, 2, 0, 2, 2, 0, 0, 2, 0, 0, 0, 0, 0, 0, 0, 0, 0, 0, 0, 0, 0, 0, 0, 0,\n",
            "        1, 0, 0, 0, 0, 0, 0, 0, 0, 2, 1, 0, 0, 0, 0, 1], device='cuda:0'), tensor([0, 2, 0, 1, 0, 0, 0, 0, 0, 1, 0, 1, 1, 0, 0, 1, 1, 0, 0, 2, 0, 0, 1, 1,\n",
            "        1, 1, 0, 0, 1, 1, 0, 2, 1, 1, 1, 1, 1, 1, 1, 0, 1, 1, 1, 1, 1, 1, 1, 1,\n",
            "        0, 1, 1, 0, 0, 0, 2, 0, 0, 2, 0, 1, 0, 0, 1, 1], device='cuda:0'), tensor([0, 0, 1, 2, 2, 2, 1, 1, 0, 0, 0, 0, 0, 0, 0, 0, 0, 0, 0, 1, 0, 0, 0, 0,\n",
            "        0, 0, 2, 1, 1, 1, 0, 0, 0, 0, 0, 0, 0, 0, 0, 2, 0, 0, 0, 0, 0, 0, 1, 1,\n",
            "        0, 1, 1, 1, 0, 0, 0, 0, 0, 0, 0, 0, 0, 2, 0, 0], device='cuda:0'), tensor([0, 1, 0, 0, 2, 0, 0, 1, 0, 1, 0, 0, 0, 0, 0, 0, 0, 0, 0, 0, 0, 0, 1, 0,\n",
            "        0, 1, 1, 1, 1, 1, 1, 1, 1, 1, 1, 2, 1, 1, 1, 0, 2, 0, 0, 1, 1, 0, 0, 0,\n",
            "        0, 1, 0, 0, 1, 0, 1, 1, 1, 1, 0, 1, 1, 1, 1, 1], device='cuda:0'), tensor([0, 0, 0, 0, 0, 0, 0, 0, 0, 0, 0, 0, 1, 0, 0, 0, 2, 2, 2, 0, 2, 0, 2, 1,\n",
            "        0, 0, 0, 0, 0, 1, 0, 0, 1, 0, 1, 2, 2, 0, 0, 0, 0, 0, 2, 0, 0, 1, 2, 2,\n",
            "        0, 2, 0, 1, 0, 1, 0, 0, 0, 0, 2, 1, 0, 0, 0, 2], device='cuda:0'), tensor([0, 0, 2, 2, 2, 0, 0, 0, 0, 2, 0, 0, 1, 2, 0, 2, 2, 0, 0, 0, 0, 2, 0, 2,\n",
            "        2, 0, 2, 1, 0, 0, 0, 0, 2, 1, 2, 0, 1, 0, 0, 0, 0, 0, 0, 2, 0, 1, 2, 1,\n",
            "        0, 0, 2, 2, 1, 2, 0, 0, 0, 0, 0, 0, 1, 0, 0, 0], device='cuda:0'), tensor([2, 0, 0, 1, 1, 0, 2, 0, 0, 1, 0, 2, 2, 2, 2, 0, 0, 0, 1, 1, 0, 1, 1, 0,\n",
            "        1, 0, 2, 0, 0, 0, 2, 0, 0, 0, 1, 0, 2, 0, 2, 2, 0, 0, 0, 1, 2, 0, 0, 0,\n",
            "        0, 0, 0, 0, 0, 0, 0, 0, 0, 0, 2, 1, 0, 1, 0, 0], device='cuda:0'), tensor([0, 0, 0, 0, 0, 0, 0, 0, 0, 0, 0, 2, 0, 1, 2, 0, 0, 0, 0, 0, 0, 0, 0, 0,\n",
            "        0, 0, 2, 1, 0, 0, 2, 2, 2, 2, 0, 1, 0, 0, 0, 1, 1, 0, 0, 0, 0, 0, 0, 0,\n",
            "        0, 1, 1, 1, 1, 1, 2, 0, 2, 0, 0, 0, 0, 0, 0, 0], device='cuda:0'), tensor([1, 0, 2, 0, 0, 0, 0, 0, 2, 2, 2, 2, 1, 0, 0, 0, 0, 1, 1, 1, 1, 0, 0, 0,\n",
            "        1, 0, 2, 0, 0, 0, 0, 1, 0, 0, 2, 2, 0, 0, 0, 0, 1, 1, 2, 0, 0, 1, 1, 0,\n",
            "        0, 0, 0, 0, 0, 0, 0, 0, 2, 0, 1, 2, 0, 1, 1, 0], device='cuda:0'), tensor([0, 0, 1, 1, 0, 0, 2, 0, 0, 0, 2, 0, 0, 2, 0, 1, 0, 0, 0, 1, 1, 1, 1, 1,\n",
            "        0, 0, 1, 1, 1, 0, 0, 1, 0, 0, 0, 0, 0, 0, 0, 0, 2, 0, 0, 0, 0, 0, 2, 0,\n",
            "        0, 0, 1, 0, 0, 0, 0, 1, 0, 1, 0, 1, 1, 1, 0, 0], device='cuda:0'), tensor([2, 1, 0, 0, 0, 0, 0, 0, 1, 0, 1, 1, 2, 0, 0, 0, 0, 0, 1, 0, 2, 0, 1, 0,\n",
            "        0, 1, 1, 2, 0, 2, 0, 0, 0, 0, 0, 0, 0, 1, 1, 0, 0, 0, 1, 1, 2, 0, 0, 0,\n",
            "        0, 0, 1, 0, 0, 0, 0, 0, 0, 2, 0, 0, 0, 0, 0, 0], device='cuda:0'), tensor([0, 0, 0, 0, 2, 0, 0, 1, 0, 0, 0, 1, 0, 0, 0, 0, 1, 1, 0, 1, 1, 1, 0, 0,\n",
            "        0, 2, 0, 0, 0, 1, 0, 0, 0, 0, 1, 0, 0, 1, 2, 0, 0, 0, 2, 1, 0, 1, 1, 2,\n",
            "        0, 0, 1, 0, 0, 0, 0, 0, 1, 1, 1, 2, 0, 2, 1, 1], device='cuda:0'), tensor([1, 1, 0, 0, 0, 0, 0, 0, 0, 0, 1, 1, 2, 1, 1, 0, 0, 1, 1, 0, 1, 0, 0, 1,\n",
            "        0, 0, 0, 0, 0, 0, 0, 0, 1, 1, 0, 0, 0, 0, 0, 0, 0, 1, 0, 0, 0, 1, 1, 1,\n",
            "        1, 1, 0, 1, 1, 1, 0, 0, 0, 0, 2, 0, 0, 0, 0, 0], device='cuda:0'), tensor([0, 0, 0, 0, 0, 0, 0, 0, 0, 2, 0, 1, 0, 2, 1, 0, 2, 2, 2, 0, 2, 2, 0, 2,\n",
            "        1, 0, 2, 2, 0, 2, 0, 0, 0, 1, 0, 2, 0, 1, 0, 0, 0, 0, 0, 0, 2, 0, 2, 0,\n",
            "        0, 0, 0, 0, 0, 0, 0, 1, 0, 2, 2, 1, 0, 2, 0, 0], device='cuda:0'), tensor([0, 0, 0, 0, 1, 0, 1, 1, 1, 0, 1, 1, 0, 0, 0, 0, 0, 1, 1, 1, 1, 0, 0, 1,\n",
            "        0, 0, 0, 0, 0, 0, 0, 0, 0, 0, 0, 1, 0, 0, 0, 1, 0, 0, 0, 0, 0, 0, 0, 0,\n",
            "        1, 1, 1, 1, 1, 1, 0, 0, 0, 2, 2, 1, 0, 0, 0, 0], device='cuda:0'), tensor([0, 0, 2, 0, 0, 0, 0, 2, 0, 0, 0, 0, 0, 0, 0, 0], device='cuda:0')]\n"
          ],
          "name": "stdout"
        }
      ]
    },
    {
      "cell_type": "code",
      "metadata": {
        "colab": {
          "base_uri": "https://localhost:8080/"
        },
        "id": "RRXOy8Y6fOaA",
        "outputId": "cbc4e65f-5510-4099-a9a7-bae8e9ad4f53"
      },
      "source": [
        "0, 0, 2, 0, 2, 0, 0, 0, 0, 0, 0, 0, 1, 0, 0, 0\n",
        "0, 0, 2, 0, 2, 0, 0, 0, 0, 0, 0, 0, 1, 0, 0, 0\n",
        "len(predlist1)"
      ],
      "execution_count": null,
      "outputs": [
        {
          "output_type": "execute_result",
          "data": {
            "text/plain": [
              "157"
            ]
          },
          "metadata": {
            "tags": []
          },
          "execution_count": 74
        }
      ]
    },
    {
      "cell_type": "code",
      "metadata": {
        "colab": {
          "base_uri": "https://localhost:8080/"
        },
        "id": "Pz-nJvItifL1",
        "outputId": "8771ff5a-2a8b-4515-85aa-8d2cbf1e632c"
      },
      "source": [
        "abblist=[]\n",
        "for i in range(157):\n",
        "    if i<156:\n",
        "        for j in range(64): \n",
        "            if int(predlist[i][j]) ==2:\n",
        "                abblist.append(-1)\n",
        "            else:\n",
        "                abblist.append(int(predlist[i][j]))\n",
        "    else:\n",
        "        for j in range(16):\n",
        "            if int(predlist[i][j]) ==2:\n",
        "                abblist.append(-1)\n",
        "            else:\n",
        "                abblist.append(int(predlist[i][j]))\n",
        "dic={}\n",
        "for i in abblist:\n",
        "    dic[i] = abblist.count(i)\n",
        "dic"
      ],
      "execution_count": null,
      "outputs": [
        {
          "output_type": "execute_result",
          "data": {
            "text/plain": [
              "{-1: 1709, 0: 6403, 1: 1888}"
            ]
          },
          "metadata": {
            "tags": []
          },
          "execution_count": 75
        }
      ]
    },
    {
      "cell_type": "code",
      "metadata": {
        "colab": {
          "base_uri": "https://localhost:8080/"
        },
        "id": "Or1RDSc9A_aC",
        "outputId": "3c9747ed-0cba-4d63-87a8-4aae840b9aff"
      },
      "source": [
        "abblist1=[]\n",
        "for i in range(157):\n",
        "    if i<156:\n",
        "        for j in range(64): \n",
        "            if int(predlist1[i][j]) ==2:\n",
        "                abblist1.append(-1)\n",
        "            else:\n",
        "                abblist1.append(int(predlist[i][j]))\n",
        "    else:\n",
        "        for j in range(16):\n",
        "            if int(predlist1[i][j]) ==2:\n",
        "                abblist1.append(-1)\n",
        "            else:\n",
        "                abblist1.append(int(predlist[i][j]))\n",
        "dic1={}\n",
        "for i in abblist1:\n",
        "    dic1[i] = abblist1.count(i)\n",
        "dic1"
      ],
      "execution_count": null,
      "outputs": [
        {
          "output_type": "execute_result",
          "data": {
            "text/plain": [
              "{-1: 1709, 0: 6403, 1: 1888}"
            ]
          },
          "metadata": {
            "tags": []
          },
          "execution_count": 76
        }
      ]
    },
    {
      "cell_type": "code",
      "metadata": {
        "id": "LCE5s14eBKy_"
      },
      "source": [
        ""
      ],
      "execution_count": null,
      "outputs": []
    }
  ]
}